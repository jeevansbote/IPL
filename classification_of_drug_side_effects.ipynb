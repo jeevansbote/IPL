{
  "cells": [
    {
      "cell_type": "markdown",
      "metadata": {
        "id": "view-in-github",
        "colab_type": "text"
      },
      "source": [
        "<a href=\"https://colab.research.google.com/github/jeevansbote/IPL/blob/main/classification_of_drug_side_effects.ipynb\" target=\"_parent\"><img src=\"https://colab.research.google.com/assets/colab-badge.svg\" alt=\"Open In Colab\"/></a>"
      ]
    },
    {
      "cell_type": "markdown",
      "source": [
        "**Name Of The Student:**Jeevan Sunil Bote\n",
        "\n",
        "**Internship Project Topic:**\tClassification Model - Build a Model the Classifies the Side Effects of a Drug\n",
        "\n",
        "**Name of the Organization\tTCS RIO 125** - Classification Model - Build a Model that Classifies the Side Effects of a Drug\n",
        "\n",
        "**Name of the Industry Mentor:**\tDebashis Roy\n",
        "\n",
        "**Name of the Institute**:\tB.K Birla college\n",
        "\n",
        "\n",
        "\n",
        "\n",
        "\n",
        "\n",
        "\n",
        "\n"
      ],
      "metadata": {
        "id": "baLZ3-5y-BPp"
      },
      "id": "baLZ3-5y-BPp"
    },
    {
      "cell_type": "code",
      "execution_count": null,
      "id": "894cbde1",
      "metadata": {
        "execution": {
          "iopub.execute_input": "2023-05-09T02:39:52.356881Z",
          "iopub.status.busy": "2023-05-09T02:39:52.356207Z",
          "iopub.status.idle": "2023-05-09T02:40:09.160564Z",
          "shell.execute_reply": "2023-05-09T02:40:09.159555Z"
        },
        "papermill": {
          "duration": 16.833034,
          "end_time": "2023-05-09T02:40:09.163032",
          "exception": false,
          "start_time": "2023-05-09T02:39:52.329998",
          "status": "completed"
        },
        "tags": [],
        "id": "894cbde1"
      },
      "outputs": [],
      "source": [
        "import numpy as np\n",
        "import pandas as pd\n",
        "from random import choice, sample\n",
        "import matplotlib.pyplot as plt\n",
        "import seaborn as sns\n",
        "%matplotlib inline\n",
        "\n",
        "from sklearn.preprocessing import PowerTransformer\n",
        "from sklearn.preprocessing import MinMaxScaler\n",
        "from sklearn.pipeline import Pipeline\n",
        "\n",
        "import altair as alt\n",
        "import itertools\n",
        "import keras\n",
        "import math\n",
        "import re\n",
        "import string\n",
        "import spacy\n",
        "import tensorflow as tf\n",
        "import warnings\n",
        "warnings.filterwarnings(\"ignore\")\n",
        "\n",
        "from collections import Counter\n",
        "from nltk.corpus import stopwords\n",
        "from wordcloud import WordCloud\n",
        "\n",
        "from sklearn.ensemble import RandomForestClassifier\n",
        "from sklearn.feature_extraction.text import ENGLISH_STOP_WORDS as sklearn_stop_words\n",
        "from sklearn.feature_extraction.text import CountVectorizer\n",
        "from sklearn.feature_extraction.text import TfidfVectorizer\n",
        "from sklearn.naive_bayes import MultinomialNB\n",
        "from sklearn.model_selection import train_test_split\n",
        "from sklearn.metrics import classification_report, confusion_matrix, accuracy_score"
      ]
    },
    {
      "cell_type": "markdown",
      "id": "f5146f44",
      "metadata": {
        "papermill": {
          "duration": 0.024931,
          "end_time": "2023-05-09T02:40:09.212370",
          "exception": false,
          "start_time": "2023-05-09T02:40:09.187439",
          "status": "completed"
        },
        "tags": [],
        "id": "f5146f44"
      },
      "source": [
        "# Loading Dataset"
      ]
    },
    {
      "cell_type": "code",
      "execution_count": null,
      "id": "29bcd63b",
      "metadata": {
        "execution": {
          "iopub.execute_input": "2023-05-09T02:40:09.265565Z",
          "iopub.status.busy": "2023-05-09T02:40:09.264815Z",
          "iopub.status.idle": "2023-05-09T02:40:14.566528Z",
          "shell.execute_reply": "2023-05-09T02:40:14.565601Z"
        },
        "papermill": {
          "duration": 5.3295,
          "end_time": "2023-05-09T02:40:14.569012",
          "exception": false,
          "start_time": "2023-05-09T02:40:09.239512",
          "status": "completed"
        },
        "tags": [],
        "colab": {
          "base_uri": "https://localhost:8080/"
        },
        "id": "29bcd63b",
        "outputId": "b7988bb3-1598-48b8-dcfd-7bc2d2d6fd1e"
      },
      "outputs": [
        {
          "output_type": "stream",
          "name": "stderr",
          "text": [
            "Skipping line 33968: expected 12 fields, saw 16\n",
            "\n"
          ]
        }
      ],
      "source": [
        "data = pd.read_csv('/content/webmd.csv', escapechar='\\\\', error_bad_lines=False)\n",
        "\n",
        "\n"
      ]
    },
    {
      "cell_type": "code",
      "execution_count": null,
      "id": "9594786e",
      "metadata": {
        "execution": {
          "iopub.execute_input": "2023-05-09T02:40:14.621387Z",
          "iopub.status.busy": "2023-05-09T02:40:14.620815Z",
          "iopub.status.idle": "2023-05-09T02:40:14.663130Z",
          "shell.execute_reply": "2023-05-09T02:40:14.662077Z"
        },
        "papermill": {
          "duration": 0.070393,
          "end_time": "2023-05-09T02:40:14.665508",
          "exception": false,
          "start_time": "2023-05-09T02:40:14.595115",
          "status": "completed"
        },
        "tags": [],
        "colab": {
          "base_uri": "https://localhost:8080/",
          "height": 944
        },
        "id": "9594786e",
        "outputId": "b8475113-a359-4854-ac42-6d8e22484895"
      },
      "outputs": [
        {
          "output_type": "execute_result",
          "data": {
            "text/plain": [
              "              Age                                 Condition        Date  \\\n",
              "0      75 or over                               Stuffy Nose   9/21/2014   \n",
              "1           25-34                             Cold Symptoms   1/13/2011   \n",
              "2           65-74                                     Other   7/16/2012   \n",
              "3      75 or over                                     Other   9/23/2010   \n",
              "4           35-44                                     Other    1/6/2009   \n",
              "...           ...                                       ...         ...   \n",
              "78080       65-74  Exercise-Induced Bronchospasm Prevention   5/29/2017   \n",
              "78081       45-54                                      Pain   4/27/2009   \n",
              "78082       45-54                                      Pain  12/11/2008   \n",
              "78083       45-54                                      Pain   4/26/2009   \n",
              "78084                                                  Pain    5/8/2009   \n",
              "\n",
              "                                                    Drug  DrugId  EaseofUse  \\\n",
              "0                                           25dph-7.5peh  146724          5   \n",
              "1                                           25dph-7.5peh  146724          5   \n",
              "2                           warfarin (bulk) 100 % powder  144731          2   \n",
              "3                           warfarin (bulk) 100 % powder  144731          2   \n",
              "4                           warfarin (bulk) 100 % powder  144731          1   \n",
              "...                                                  ...     ...        ...   \n",
              "78080              montelukast sodium granules in packet    6478          4   \n",
              "78081        morphine tablet,oral only, extended release     327          5   \n",
              "78082  morphine sulfate er capsule, extended release ...     327          4   \n",
              "78083                                morphine sulfate er     327          5   \n",
              "78084                                   morphine sulfate     327          4   \n",
              "\n",
              "       Effectiveness                                            Reviews  \\\n",
              "0                  5  I'm a retired physician and of all the meds I ...   \n",
              "1                  5  cleared me right up even with my throat hurtin...   \n",
              "2                  3  why did my PTINR go from a normal of 2.5 to ov...   \n",
              "3                  2                       FALLING AND DON'T REALISE IT   \n",
              "4                  1  My grandfather was prescribed this medication ...   \n",
              "...              ...                                                ...   \n",
              "78080              1       Does nothing for my exercise induced Asthma    \n",
              "78081              4  Morphine has been the only medication that has...   \n",
              "78082              4  I have been taking ms sufate for many years no...   \n",
              "78083              5  I have been on some sort of morphine for 8 yrs...   \n",
              "78084              2  in 2005 i was experinceing sever pain in my ri...   \n",
              "\n",
              "       Satisfaction     Sex  \\\n",
              "0               5.0    Male   \n",
              "1               5.0  Female   \n",
              "2               3.0  Female   \n",
              "3               1.0  Female   \n",
              "4               1.0    Male   \n",
              "...             ...     ...   \n",
              "78080           1.0    Male   \n",
              "78081           4.0  Female   \n",
              "78082           4.0    Male   \n",
              "78083           4.0  Female   \n",
              "78084           NaN     NaN   \n",
              "\n",
              "                                                   Sides  UsefulCount  \n",
              "0      Drowsiness,  dizziness ,  dry mouth /nose/thro...          0.0  \n",
              "1      Drowsiness,  dizziness ,  dry mouth /nose/thro...          1.0  \n",
              "2                                                                 0.0  \n",
              "3                                                                 0.0  \n",
              "4                                                                 1.0  \n",
              "...                                                  ...          ...  \n",
              "78080                                                             0.0  \n",
              "78081  Nausea ,  vomiting ,  constipation ,  sweating...          4.0  \n",
              "78082  Nausea ,  vomiting ,  constipation ,  lighthea...          4.0  \n",
              "78083  Nausea ,  vomiting ,  constipation ,  lighthea...          5.0  \n",
              "78084                                                NaN          NaN  \n",
              "\n",
              "[78085 rows x 12 columns]"
            ],
            "text/html": [
              "\n",
              "  <div id=\"df-03ba04a3-8fc1-4bbc-87b0-795c946fa024\" class=\"colab-df-container\">\n",
              "    <div>\n",
              "<style scoped>\n",
              "    .dataframe tbody tr th:only-of-type {\n",
              "        vertical-align: middle;\n",
              "    }\n",
              "\n",
              "    .dataframe tbody tr th {\n",
              "        vertical-align: top;\n",
              "    }\n",
              "\n",
              "    .dataframe thead th {\n",
              "        text-align: right;\n",
              "    }\n",
              "</style>\n",
              "<table border=\"1\" class=\"dataframe\">\n",
              "  <thead>\n",
              "    <tr style=\"text-align: right;\">\n",
              "      <th></th>\n",
              "      <th>Age</th>\n",
              "      <th>Condition</th>\n",
              "      <th>Date</th>\n",
              "      <th>Drug</th>\n",
              "      <th>DrugId</th>\n",
              "      <th>EaseofUse</th>\n",
              "      <th>Effectiveness</th>\n",
              "      <th>Reviews</th>\n",
              "      <th>Satisfaction</th>\n",
              "      <th>Sex</th>\n",
              "      <th>Sides</th>\n",
              "      <th>UsefulCount</th>\n",
              "    </tr>\n",
              "  </thead>\n",
              "  <tbody>\n",
              "    <tr>\n",
              "      <th>0</th>\n",
              "      <td>75 or over</td>\n",
              "      <td>Stuffy Nose</td>\n",
              "      <td>9/21/2014</td>\n",
              "      <td>25dph-7.5peh</td>\n",
              "      <td>146724</td>\n",
              "      <td>5</td>\n",
              "      <td>5</td>\n",
              "      <td>I'm a retired physician and of all the meds I ...</td>\n",
              "      <td>5.0</td>\n",
              "      <td>Male</td>\n",
              "      <td>Drowsiness,  dizziness ,  dry mouth /nose/thro...</td>\n",
              "      <td>0.0</td>\n",
              "    </tr>\n",
              "    <tr>\n",
              "      <th>1</th>\n",
              "      <td>25-34</td>\n",
              "      <td>Cold Symptoms</td>\n",
              "      <td>1/13/2011</td>\n",
              "      <td>25dph-7.5peh</td>\n",
              "      <td>146724</td>\n",
              "      <td>5</td>\n",
              "      <td>5</td>\n",
              "      <td>cleared me right up even with my throat hurtin...</td>\n",
              "      <td>5.0</td>\n",
              "      <td>Female</td>\n",
              "      <td>Drowsiness,  dizziness ,  dry mouth /nose/thro...</td>\n",
              "      <td>1.0</td>\n",
              "    </tr>\n",
              "    <tr>\n",
              "      <th>2</th>\n",
              "      <td>65-74</td>\n",
              "      <td>Other</td>\n",
              "      <td>7/16/2012</td>\n",
              "      <td>warfarin (bulk) 100 % powder</td>\n",
              "      <td>144731</td>\n",
              "      <td>2</td>\n",
              "      <td>3</td>\n",
              "      <td>why did my PTINR go from a normal of 2.5 to ov...</td>\n",
              "      <td>3.0</td>\n",
              "      <td>Female</td>\n",
              "      <td></td>\n",
              "      <td>0.0</td>\n",
              "    </tr>\n",
              "    <tr>\n",
              "      <th>3</th>\n",
              "      <td>75 or over</td>\n",
              "      <td>Other</td>\n",
              "      <td>9/23/2010</td>\n",
              "      <td>warfarin (bulk) 100 % powder</td>\n",
              "      <td>144731</td>\n",
              "      <td>2</td>\n",
              "      <td>2</td>\n",
              "      <td>FALLING AND DON'T REALISE IT</td>\n",
              "      <td>1.0</td>\n",
              "      <td>Female</td>\n",
              "      <td></td>\n",
              "      <td>0.0</td>\n",
              "    </tr>\n",
              "    <tr>\n",
              "      <th>4</th>\n",
              "      <td>35-44</td>\n",
              "      <td>Other</td>\n",
              "      <td>1/6/2009</td>\n",
              "      <td>warfarin (bulk) 100 % powder</td>\n",
              "      <td>144731</td>\n",
              "      <td>1</td>\n",
              "      <td>1</td>\n",
              "      <td>My grandfather was prescribed this medication ...</td>\n",
              "      <td>1.0</td>\n",
              "      <td>Male</td>\n",
              "      <td></td>\n",
              "      <td>1.0</td>\n",
              "    </tr>\n",
              "    <tr>\n",
              "      <th>...</th>\n",
              "      <td>...</td>\n",
              "      <td>...</td>\n",
              "      <td>...</td>\n",
              "      <td>...</td>\n",
              "      <td>...</td>\n",
              "      <td>...</td>\n",
              "      <td>...</td>\n",
              "      <td>...</td>\n",
              "      <td>...</td>\n",
              "      <td>...</td>\n",
              "      <td>...</td>\n",
              "      <td>...</td>\n",
              "    </tr>\n",
              "    <tr>\n",
              "      <th>78080</th>\n",
              "      <td>65-74</td>\n",
              "      <td>Exercise-Induced Bronchospasm Prevention</td>\n",
              "      <td>5/29/2017</td>\n",
              "      <td>montelukast sodium granules in packet</td>\n",
              "      <td>6478</td>\n",
              "      <td>4</td>\n",
              "      <td>1</td>\n",
              "      <td>Does nothing for my exercise induced Asthma</td>\n",
              "      <td>1.0</td>\n",
              "      <td>Male</td>\n",
              "      <td></td>\n",
              "      <td>0.0</td>\n",
              "    </tr>\n",
              "    <tr>\n",
              "      <th>78081</th>\n",
              "      <td>45-54</td>\n",
              "      <td>Pain</td>\n",
              "      <td>4/27/2009</td>\n",
              "      <td>morphine tablet,oral only, extended release</td>\n",
              "      <td>327</td>\n",
              "      <td>5</td>\n",
              "      <td>4</td>\n",
              "      <td>Morphine has been the only medication that has...</td>\n",
              "      <td>4.0</td>\n",
              "      <td>Female</td>\n",
              "      <td>Nausea ,  vomiting ,  constipation ,  sweating...</td>\n",
              "      <td>4.0</td>\n",
              "    </tr>\n",
              "    <tr>\n",
              "      <th>78082</th>\n",
              "      <td>45-54</td>\n",
              "      <td>Pain</td>\n",
              "      <td>12/11/2008</td>\n",
              "      <td>morphine sulfate er capsule, extended release ...</td>\n",
              "      <td>327</td>\n",
              "      <td>4</td>\n",
              "      <td>4</td>\n",
              "      <td>I have been taking ms sufate for many years no...</td>\n",
              "      <td>4.0</td>\n",
              "      <td>Male</td>\n",
              "      <td>Nausea ,  vomiting ,  constipation ,  lighthea...</td>\n",
              "      <td>4.0</td>\n",
              "    </tr>\n",
              "    <tr>\n",
              "      <th>78083</th>\n",
              "      <td>45-54</td>\n",
              "      <td>Pain</td>\n",
              "      <td>4/26/2009</td>\n",
              "      <td>morphine sulfate er</td>\n",
              "      <td>327</td>\n",
              "      <td>5</td>\n",
              "      <td>5</td>\n",
              "      <td>I have been on some sort of morphine for 8 yrs...</td>\n",
              "      <td>4.0</td>\n",
              "      <td>Female</td>\n",
              "      <td>Nausea ,  vomiting ,  constipation ,  lighthea...</td>\n",
              "      <td>5.0</td>\n",
              "    </tr>\n",
              "    <tr>\n",
              "      <th>78084</th>\n",
              "      <td></td>\n",
              "      <td>Pain</td>\n",
              "      <td>5/8/2009</td>\n",
              "      <td>morphine sulfate</td>\n",
              "      <td>327</td>\n",
              "      <td>4</td>\n",
              "      <td>2</td>\n",
              "      <td>in 2005 i was experinceing sever pain in my ri...</td>\n",
              "      <td>NaN</td>\n",
              "      <td>NaN</td>\n",
              "      <td>NaN</td>\n",
              "      <td>NaN</td>\n",
              "    </tr>\n",
              "  </tbody>\n",
              "</table>\n",
              "<p>78085 rows × 12 columns</p>\n",
              "</div>\n",
              "    <div class=\"colab-df-buttons\">\n",
              "\n",
              "  <div class=\"colab-df-container\">\n",
              "    <button class=\"colab-df-convert\" onclick=\"convertToInteractive('df-03ba04a3-8fc1-4bbc-87b0-795c946fa024')\"\n",
              "            title=\"Convert this dataframe to an interactive table.\"\n",
              "            style=\"display:none;\">\n",
              "\n",
              "  <svg xmlns=\"http://www.w3.org/2000/svg\" height=\"24px\" viewBox=\"0 -960 960 960\">\n",
              "    <path d=\"M120-120v-720h720v720H120Zm60-500h600v-160H180v160Zm220 220h160v-160H400v160Zm0 220h160v-160H400v160ZM180-400h160v-160H180v160Zm440 0h160v-160H620v160ZM180-180h160v-160H180v160Zm440 0h160v-160H620v160Z\"/>\n",
              "  </svg>\n",
              "    </button>\n",
              "\n",
              "  <style>\n",
              "    .colab-df-container {\n",
              "      display:flex;\n",
              "      gap: 12px;\n",
              "    }\n",
              "\n",
              "    .colab-df-convert {\n",
              "      background-color: #E8F0FE;\n",
              "      border: none;\n",
              "      border-radius: 50%;\n",
              "      cursor: pointer;\n",
              "      display: none;\n",
              "      fill: #1967D2;\n",
              "      height: 32px;\n",
              "      padding: 0 0 0 0;\n",
              "      width: 32px;\n",
              "    }\n",
              "\n",
              "    .colab-df-convert:hover {\n",
              "      background-color: #E2EBFA;\n",
              "      box-shadow: 0px 1px 2px rgba(60, 64, 67, 0.3), 0px 1px 3px 1px rgba(60, 64, 67, 0.15);\n",
              "      fill: #174EA6;\n",
              "    }\n",
              "\n",
              "    .colab-df-buttons div {\n",
              "      margin-bottom: 4px;\n",
              "    }\n",
              "\n",
              "    [theme=dark] .colab-df-convert {\n",
              "      background-color: #3B4455;\n",
              "      fill: #D2E3FC;\n",
              "    }\n",
              "\n",
              "    [theme=dark] .colab-df-convert:hover {\n",
              "      background-color: #434B5C;\n",
              "      box-shadow: 0px 1px 3px 1px rgba(0, 0, 0, 0.15);\n",
              "      filter: drop-shadow(0px 1px 2px rgba(0, 0, 0, 0.3));\n",
              "      fill: #FFFFFF;\n",
              "    }\n",
              "  </style>\n",
              "\n",
              "    <script>\n",
              "      const buttonEl =\n",
              "        document.querySelector('#df-03ba04a3-8fc1-4bbc-87b0-795c946fa024 button.colab-df-convert');\n",
              "      buttonEl.style.display =\n",
              "        google.colab.kernel.accessAllowed ? 'block' : 'none';\n",
              "\n",
              "      async function convertToInteractive(key) {\n",
              "        const element = document.querySelector('#df-03ba04a3-8fc1-4bbc-87b0-795c946fa024');\n",
              "        const dataTable =\n",
              "          await google.colab.kernel.invokeFunction('convertToInteractive',\n",
              "                                                    [key], {});\n",
              "        if (!dataTable) return;\n",
              "\n",
              "        const docLinkHtml = 'Like what you see? Visit the ' +\n",
              "          '<a target=\"_blank\" href=https://colab.research.google.com/notebooks/data_table.ipynb>data table notebook</a>'\n",
              "          + ' to learn more about interactive tables.';\n",
              "        element.innerHTML = '';\n",
              "        dataTable['output_type'] = 'display_data';\n",
              "        await google.colab.output.renderOutput(dataTable, element);\n",
              "        const docLink = document.createElement('div');\n",
              "        docLink.innerHTML = docLinkHtml;\n",
              "        element.appendChild(docLink);\n",
              "      }\n",
              "    </script>\n",
              "  </div>\n",
              "\n",
              "\n",
              "<div id=\"df-96032e7c-e451-4088-873d-7e437f780277\">\n",
              "  <button class=\"colab-df-quickchart\" onclick=\"quickchart('df-96032e7c-e451-4088-873d-7e437f780277')\"\n",
              "            title=\"Suggest charts\"\n",
              "            style=\"display:none;\">\n",
              "\n",
              "<svg xmlns=\"http://www.w3.org/2000/svg\" height=\"24px\"viewBox=\"0 0 24 24\"\n",
              "     width=\"24px\">\n",
              "    <g>\n",
              "        <path d=\"M19 3H5c-1.1 0-2 .9-2 2v14c0 1.1.9 2 2 2h14c1.1 0 2-.9 2-2V5c0-1.1-.9-2-2-2zM9 17H7v-7h2v7zm4 0h-2V7h2v10zm4 0h-2v-4h2v4z\"/>\n",
              "    </g>\n",
              "</svg>\n",
              "  </button>\n",
              "\n",
              "<style>\n",
              "  .colab-df-quickchart {\n",
              "      --bg-color: #E8F0FE;\n",
              "      --fill-color: #1967D2;\n",
              "      --hover-bg-color: #E2EBFA;\n",
              "      --hover-fill-color: #174EA6;\n",
              "      --disabled-fill-color: #AAA;\n",
              "      --disabled-bg-color: #DDD;\n",
              "  }\n",
              "\n",
              "  [theme=dark] .colab-df-quickchart {\n",
              "      --bg-color: #3B4455;\n",
              "      --fill-color: #D2E3FC;\n",
              "      --hover-bg-color: #434B5C;\n",
              "      --hover-fill-color: #FFFFFF;\n",
              "      --disabled-bg-color: #3B4455;\n",
              "      --disabled-fill-color: #666;\n",
              "  }\n",
              "\n",
              "  .colab-df-quickchart {\n",
              "    background-color: var(--bg-color);\n",
              "    border: none;\n",
              "    border-radius: 50%;\n",
              "    cursor: pointer;\n",
              "    display: none;\n",
              "    fill: var(--fill-color);\n",
              "    height: 32px;\n",
              "    padding: 0;\n",
              "    width: 32px;\n",
              "  }\n",
              "\n",
              "  .colab-df-quickchart:hover {\n",
              "    background-color: var(--hover-bg-color);\n",
              "    box-shadow: 0 1px 2px rgba(60, 64, 67, 0.3), 0 1px 3px 1px rgba(60, 64, 67, 0.15);\n",
              "    fill: var(--button-hover-fill-color);\n",
              "  }\n",
              "\n",
              "  .colab-df-quickchart-complete:disabled,\n",
              "  .colab-df-quickchart-complete:disabled:hover {\n",
              "    background-color: var(--disabled-bg-color);\n",
              "    fill: var(--disabled-fill-color);\n",
              "    box-shadow: none;\n",
              "  }\n",
              "\n",
              "  .colab-df-spinner {\n",
              "    border: 2px solid var(--fill-color);\n",
              "    border-color: transparent;\n",
              "    border-bottom-color: var(--fill-color);\n",
              "    animation:\n",
              "      spin 1s steps(1) infinite;\n",
              "  }\n",
              "\n",
              "  @keyframes spin {\n",
              "    0% {\n",
              "      border-color: transparent;\n",
              "      border-bottom-color: var(--fill-color);\n",
              "      border-left-color: var(--fill-color);\n",
              "    }\n",
              "    20% {\n",
              "      border-color: transparent;\n",
              "      border-left-color: var(--fill-color);\n",
              "      border-top-color: var(--fill-color);\n",
              "    }\n",
              "    30% {\n",
              "      border-color: transparent;\n",
              "      border-left-color: var(--fill-color);\n",
              "      border-top-color: var(--fill-color);\n",
              "      border-right-color: var(--fill-color);\n",
              "    }\n",
              "    40% {\n",
              "      border-color: transparent;\n",
              "      border-right-color: var(--fill-color);\n",
              "      border-top-color: var(--fill-color);\n",
              "    }\n",
              "    60% {\n",
              "      border-color: transparent;\n",
              "      border-right-color: var(--fill-color);\n",
              "    }\n",
              "    80% {\n",
              "      border-color: transparent;\n",
              "      border-right-color: var(--fill-color);\n",
              "      border-bottom-color: var(--fill-color);\n",
              "    }\n",
              "    90% {\n",
              "      border-color: transparent;\n",
              "      border-bottom-color: var(--fill-color);\n",
              "    }\n",
              "  }\n",
              "</style>\n",
              "\n",
              "  <script>\n",
              "    async function quickchart(key) {\n",
              "      const quickchartButtonEl =\n",
              "        document.querySelector('#' + key + ' button');\n",
              "      quickchartButtonEl.disabled = true;  // To prevent multiple clicks.\n",
              "      quickchartButtonEl.classList.add('colab-df-spinner');\n",
              "      try {\n",
              "        const charts = await google.colab.kernel.invokeFunction(\n",
              "            'suggestCharts', [key], {});\n",
              "      } catch (error) {\n",
              "        console.error('Error during call to suggestCharts:', error);\n",
              "      }\n",
              "      quickchartButtonEl.classList.remove('colab-df-spinner');\n",
              "      quickchartButtonEl.classList.add('colab-df-quickchart-complete');\n",
              "    }\n",
              "    (() => {\n",
              "      let quickchartButtonEl =\n",
              "        document.querySelector('#df-96032e7c-e451-4088-873d-7e437f780277 button');\n",
              "      quickchartButtonEl.style.display =\n",
              "        google.colab.kernel.accessAllowed ? 'block' : 'none';\n",
              "    })();\n",
              "  </script>\n",
              "</div>\n",
              "    </div>\n",
              "  </div>\n"
            ]
          },
          "metadata": {},
          "execution_count": 15
        }
      ],
      "source": [
        "data"
      ]
    },
    {
      "cell_type": "markdown",
      "id": "26b84b1c",
      "metadata": {
        "papermill": {
          "duration": 0.024382,
          "end_time": "2023-05-09T02:40:14.714903",
          "exception": false,
          "start_time": "2023-05-09T02:40:14.690521",
          "status": "completed"
        },
        "tags": [],
        "id": "26b84b1c"
      },
      "source": [
        "#### Description of the dataset\n",
        "Name : Name of the patient\n",
        "\n",
        "Race : Race of the patient\n",
        "\n",
        "Age : Age of the patient\n",
        "\n",
        "Condition : Condition/symptom from which the patient is suffering\n",
        "\n",
        "Date : Date of usage\n",
        "\n",
        "Drug : Name of the drug\n",
        "\n",
        "DrugId : Identity/code of drug\n",
        "\n",
        "EaseofUse : Patient's 10-Star rating on the ease of use of drug\n",
        "\n",
        "Effectiveness : Patient's 10-Star rating on the effectiveness of drug\n",
        "\n",
        "Reviews : Patient's review\n",
        "\n",
        "Satisfaction : Patient's 10-Star rating on satisfaction\n",
        "\n",
        "Sex : Gender of the patient\n",
        "\n",
        "Sides : Side effects of the drug\n",
        "\n",
        "UsefulCount : Number of users who found the review useful"
      ]
    },
    {
      "cell_type": "code",
      "execution_count": null,
      "id": "290caf3f",
      "metadata": {
        "execution": {
          "iopub.execute_input": "2023-05-09T02:40:14.765765Z",
          "iopub.status.busy": "2023-05-09T02:40:14.765343Z",
          "iopub.status.idle": "2023-05-09T02:40:15.205508Z",
          "shell.execute_reply": "2023-05-09T02:40:15.204300Z"
        },
        "papermill": {
          "duration": 0.46865,
          "end_time": "2023-05-09T02:40:15.207918",
          "exception": false,
          "start_time": "2023-05-09T02:40:14.739268",
          "status": "completed"
        },
        "tags": [],
        "id": "290caf3f"
      },
      "outputs": [],
      "source": [
        "data.info()"
      ]
    },
    {
      "cell_type": "code",
      "execution_count": null,
      "id": "13c1d677",
      "metadata": {
        "execution": {
          "iopub.execute_input": "2023-05-09T02:40:15.258776Z",
          "iopub.status.busy": "2023-05-09T02:40:15.257818Z",
          "iopub.status.idle": "2023-05-09T02:40:15.264694Z",
          "shell.execute_reply": "2023-05-09T02:40:15.263835Z"
        },
        "papermill": {
          "duration": 0.034761,
          "end_time": "2023-05-09T02:40:15.266680",
          "exception": false,
          "start_time": "2023-05-09T02:40:15.231919",
          "status": "completed"
        },
        "tags": [],
        "colab": {
          "base_uri": "https://localhost:8080/"
        },
        "id": "13c1d677",
        "outputId": "c0d8682b-c9a0-46a7-97e8-6f43a1ca9786"
      },
      "outputs": [
        {
          "output_type": "execute_result",
          "data": {
            "text/plain": [
              "Index(['Age', 'Condition', 'Date', 'Drug', 'DrugId', 'EaseofUse',\n",
              "       'Effectiveness', 'Reviews', 'Satisfaction', 'Sex', 'Sides',\n",
              "       'UsefulCount'],\n",
              "      dtype='object')"
            ]
          },
          "metadata": {},
          "execution_count": 17
        }
      ],
      "source": [
        "data.columns"
      ]
    },
    {
      "cell_type": "code",
      "execution_count": null,
      "id": "145054b0",
      "metadata": {
        "execution": {
          "iopub.execute_input": "2023-05-09T02:40:15.318149Z",
          "iopub.status.busy": "2023-05-09T02:40:15.317525Z",
          "iopub.status.idle": "2023-05-09T02:40:15.399689Z",
          "shell.execute_reply": "2023-05-09T02:40:15.398559Z"
        },
        "papermill": {
          "duration": 0.110423,
          "end_time": "2023-05-09T02:40:15.401989",
          "exception": false,
          "start_time": "2023-05-09T02:40:15.291566",
          "status": "completed"
        },
        "tags": [],
        "colab": {
          "base_uri": "https://localhost:8080/",
          "height": 300
        },
        "id": "145054b0",
        "outputId": "ce3934f1-af16-4957-9341-abccd81342d9"
      },
      "outputs": [
        {
          "output_type": "execute_result",
          "data": {
            "text/plain": [
              "              DrugId     EaseofUse  Effectiveness  Satisfaction   UsefulCount\n",
              "count   78085.000000  78085.000000   78085.000000  78084.000000  78084.000000\n",
              "mean    35014.367663      4.038778       3.510751      3.102044      6.391527\n",
              "std     51688.463921      1.302493       1.434043      1.596019      8.657180\n",
              "min        63.000000      1.000000       1.000000      1.000000      0.000000\n",
              "25%      2798.000000      3.000000       3.000000      1.000000      1.000000\n",
              "50%      6873.000000      5.000000       4.000000      3.000000      4.000000\n",
              "75%     63990.000000      5.000000       5.000000      5.000000      9.000000\n",
              "max    178044.000000      5.000000       5.000000      5.000000    154.000000"
            ],
            "text/html": [
              "\n",
              "  <div id=\"df-6db2aeff-d6f2-4feb-b2fe-9ea7e63faebd\" class=\"colab-df-container\">\n",
              "    <div>\n",
              "<style scoped>\n",
              "    .dataframe tbody tr th:only-of-type {\n",
              "        vertical-align: middle;\n",
              "    }\n",
              "\n",
              "    .dataframe tbody tr th {\n",
              "        vertical-align: top;\n",
              "    }\n",
              "\n",
              "    .dataframe thead th {\n",
              "        text-align: right;\n",
              "    }\n",
              "</style>\n",
              "<table border=\"1\" class=\"dataframe\">\n",
              "  <thead>\n",
              "    <tr style=\"text-align: right;\">\n",
              "      <th></th>\n",
              "      <th>DrugId</th>\n",
              "      <th>EaseofUse</th>\n",
              "      <th>Effectiveness</th>\n",
              "      <th>Satisfaction</th>\n",
              "      <th>UsefulCount</th>\n",
              "    </tr>\n",
              "  </thead>\n",
              "  <tbody>\n",
              "    <tr>\n",
              "      <th>count</th>\n",
              "      <td>78085.000000</td>\n",
              "      <td>78085.000000</td>\n",
              "      <td>78085.000000</td>\n",
              "      <td>78084.000000</td>\n",
              "      <td>78084.000000</td>\n",
              "    </tr>\n",
              "    <tr>\n",
              "      <th>mean</th>\n",
              "      <td>35014.367663</td>\n",
              "      <td>4.038778</td>\n",
              "      <td>3.510751</td>\n",
              "      <td>3.102044</td>\n",
              "      <td>6.391527</td>\n",
              "    </tr>\n",
              "    <tr>\n",
              "      <th>std</th>\n",
              "      <td>51688.463921</td>\n",
              "      <td>1.302493</td>\n",
              "      <td>1.434043</td>\n",
              "      <td>1.596019</td>\n",
              "      <td>8.657180</td>\n",
              "    </tr>\n",
              "    <tr>\n",
              "      <th>min</th>\n",
              "      <td>63.000000</td>\n",
              "      <td>1.000000</td>\n",
              "      <td>1.000000</td>\n",
              "      <td>1.000000</td>\n",
              "      <td>0.000000</td>\n",
              "    </tr>\n",
              "    <tr>\n",
              "      <th>25%</th>\n",
              "      <td>2798.000000</td>\n",
              "      <td>3.000000</td>\n",
              "      <td>3.000000</td>\n",
              "      <td>1.000000</td>\n",
              "      <td>1.000000</td>\n",
              "    </tr>\n",
              "    <tr>\n",
              "      <th>50%</th>\n",
              "      <td>6873.000000</td>\n",
              "      <td>5.000000</td>\n",
              "      <td>4.000000</td>\n",
              "      <td>3.000000</td>\n",
              "      <td>4.000000</td>\n",
              "    </tr>\n",
              "    <tr>\n",
              "      <th>75%</th>\n",
              "      <td>63990.000000</td>\n",
              "      <td>5.000000</td>\n",
              "      <td>5.000000</td>\n",
              "      <td>5.000000</td>\n",
              "      <td>9.000000</td>\n",
              "    </tr>\n",
              "    <tr>\n",
              "      <th>max</th>\n",
              "      <td>178044.000000</td>\n",
              "      <td>5.000000</td>\n",
              "      <td>5.000000</td>\n",
              "      <td>5.000000</td>\n",
              "      <td>154.000000</td>\n",
              "    </tr>\n",
              "  </tbody>\n",
              "</table>\n",
              "</div>\n",
              "    <div class=\"colab-df-buttons\">\n",
              "\n",
              "  <div class=\"colab-df-container\">\n",
              "    <button class=\"colab-df-convert\" onclick=\"convertToInteractive('df-6db2aeff-d6f2-4feb-b2fe-9ea7e63faebd')\"\n",
              "            title=\"Convert this dataframe to an interactive table.\"\n",
              "            style=\"display:none;\">\n",
              "\n",
              "  <svg xmlns=\"http://www.w3.org/2000/svg\" height=\"24px\" viewBox=\"0 -960 960 960\">\n",
              "    <path d=\"M120-120v-720h720v720H120Zm60-500h600v-160H180v160Zm220 220h160v-160H400v160Zm0 220h160v-160H400v160ZM180-400h160v-160H180v160Zm440 0h160v-160H620v160ZM180-180h160v-160H180v160Zm440 0h160v-160H620v160Z\"/>\n",
              "  </svg>\n",
              "    </button>\n",
              "\n",
              "  <style>\n",
              "    .colab-df-container {\n",
              "      display:flex;\n",
              "      gap: 12px;\n",
              "    }\n",
              "\n",
              "    .colab-df-convert {\n",
              "      background-color: #E8F0FE;\n",
              "      border: none;\n",
              "      border-radius: 50%;\n",
              "      cursor: pointer;\n",
              "      display: none;\n",
              "      fill: #1967D2;\n",
              "      height: 32px;\n",
              "      padding: 0 0 0 0;\n",
              "      width: 32px;\n",
              "    }\n",
              "\n",
              "    .colab-df-convert:hover {\n",
              "      background-color: #E2EBFA;\n",
              "      box-shadow: 0px 1px 2px rgba(60, 64, 67, 0.3), 0px 1px 3px 1px rgba(60, 64, 67, 0.15);\n",
              "      fill: #174EA6;\n",
              "    }\n",
              "\n",
              "    .colab-df-buttons div {\n",
              "      margin-bottom: 4px;\n",
              "    }\n",
              "\n",
              "    [theme=dark] .colab-df-convert {\n",
              "      background-color: #3B4455;\n",
              "      fill: #D2E3FC;\n",
              "    }\n",
              "\n",
              "    [theme=dark] .colab-df-convert:hover {\n",
              "      background-color: #434B5C;\n",
              "      box-shadow: 0px 1px 3px 1px rgba(0, 0, 0, 0.15);\n",
              "      filter: drop-shadow(0px 1px 2px rgba(0, 0, 0, 0.3));\n",
              "      fill: #FFFFFF;\n",
              "    }\n",
              "  </style>\n",
              "\n",
              "    <script>\n",
              "      const buttonEl =\n",
              "        document.querySelector('#df-6db2aeff-d6f2-4feb-b2fe-9ea7e63faebd button.colab-df-convert');\n",
              "      buttonEl.style.display =\n",
              "        google.colab.kernel.accessAllowed ? 'block' : 'none';\n",
              "\n",
              "      async function convertToInteractive(key) {\n",
              "        const element = document.querySelector('#df-6db2aeff-d6f2-4feb-b2fe-9ea7e63faebd');\n",
              "        const dataTable =\n",
              "          await google.colab.kernel.invokeFunction('convertToInteractive',\n",
              "                                                    [key], {});\n",
              "        if (!dataTable) return;\n",
              "\n",
              "        const docLinkHtml = 'Like what you see? Visit the ' +\n",
              "          '<a target=\"_blank\" href=https://colab.research.google.com/notebooks/data_table.ipynb>data table notebook</a>'\n",
              "          + ' to learn more about interactive tables.';\n",
              "        element.innerHTML = '';\n",
              "        dataTable['output_type'] = 'display_data';\n",
              "        await google.colab.output.renderOutput(dataTable, element);\n",
              "        const docLink = document.createElement('div');\n",
              "        docLink.innerHTML = docLinkHtml;\n",
              "        element.appendChild(docLink);\n",
              "      }\n",
              "    </script>\n",
              "  </div>\n",
              "\n",
              "\n",
              "<div id=\"df-88935860-aab3-49ea-94a5-c098eb0df0dc\">\n",
              "  <button class=\"colab-df-quickchart\" onclick=\"quickchart('df-88935860-aab3-49ea-94a5-c098eb0df0dc')\"\n",
              "            title=\"Suggest charts\"\n",
              "            style=\"display:none;\">\n",
              "\n",
              "<svg xmlns=\"http://www.w3.org/2000/svg\" height=\"24px\"viewBox=\"0 0 24 24\"\n",
              "     width=\"24px\">\n",
              "    <g>\n",
              "        <path d=\"M19 3H5c-1.1 0-2 .9-2 2v14c0 1.1.9 2 2 2h14c1.1 0 2-.9 2-2V5c0-1.1-.9-2-2-2zM9 17H7v-7h2v7zm4 0h-2V7h2v10zm4 0h-2v-4h2v4z\"/>\n",
              "    </g>\n",
              "</svg>\n",
              "  </button>\n",
              "\n",
              "<style>\n",
              "  .colab-df-quickchart {\n",
              "      --bg-color: #E8F0FE;\n",
              "      --fill-color: #1967D2;\n",
              "      --hover-bg-color: #E2EBFA;\n",
              "      --hover-fill-color: #174EA6;\n",
              "      --disabled-fill-color: #AAA;\n",
              "      --disabled-bg-color: #DDD;\n",
              "  }\n",
              "\n",
              "  [theme=dark] .colab-df-quickchart {\n",
              "      --bg-color: #3B4455;\n",
              "      --fill-color: #D2E3FC;\n",
              "      --hover-bg-color: #434B5C;\n",
              "      --hover-fill-color: #FFFFFF;\n",
              "      --disabled-bg-color: #3B4455;\n",
              "      --disabled-fill-color: #666;\n",
              "  }\n",
              "\n",
              "  .colab-df-quickchart {\n",
              "    background-color: var(--bg-color);\n",
              "    border: none;\n",
              "    border-radius: 50%;\n",
              "    cursor: pointer;\n",
              "    display: none;\n",
              "    fill: var(--fill-color);\n",
              "    height: 32px;\n",
              "    padding: 0;\n",
              "    width: 32px;\n",
              "  }\n",
              "\n",
              "  .colab-df-quickchart:hover {\n",
              "    background-color: var(--hover-bg-color);\n",
              "    box-shadow: 0 1px 2px rgba(60, 64, 67, 0.3), 0 1px 3px 1px rgba(60, 64, 67, 0.15);\n",
              "    fill: var(--button-hover-fill-color);\n",
              "  }\n",
              "\n",
              "  .colab-df-quickchart-complete:disabled,\n",
              "  .colab-df-quickchart-complete:disabled:hover {\n",
              "    background-color: var(--disabled-bg-color);\n",
              "    fill: var(--disabled-fill-color);\n",
              "    box-shadow: none;\n",
              "  }\n",
              "\n",
              "  .colab-df-spinner {\n",
              "    border: 2px solid var(--fill-color);\n",
              "    border-color: transparent;\n",
              "    border-bottom-color: var(--fill-color);\n",
              "    animation:\n",
              "      spin 1s steps(1) infinite;\n",
              "  }\n",
              "\n",
              "  @keyframes spin {\n",
              "    0% {\n",
              "      border-color: transparent;\n",
              "      border-bottom-color: var(--fill-color);\n",
              "      border-left-color: var(--fill-color);\n",
              "    }\n",
              "    20% {\n",
              "      border-color: transparent;\n",
              "      border-left-color: var(--fill-color);\n",
              "      border-top-color: var(--fill-color);\n",
              "    }\n",
              "    30% {\n",
              "      border-color: transparent;\n",
              "      border-left-color: var(--fill-color);\n",
              "      border-top-color: var(--fill-color);\n",
              "      border-right-color: var(--fill-color);\n",
              "    }\n",
              "    40% {\n",
              "      border-color: transparent;\n",
              "      border-right-color: var(--fill-color);\n",
              "      border-top-color: var(--fill-color);\n",
              "    }\n",
              "    60% {\n",
              "      border-color: transparent;\n",
              "      border-right-color: var(--fill-color);\n",
              "    }\n",
              "    80% {\n",
              "      border-color: transparent;\n",
              "      border-right-color: var(--fill-color);\n",
              "      border-bottom-color: var(--fill-color);\n",
              "    }\n",
              "    90% {\n",
              "      border-color: transparent;\n",
              "      border-bottom-color: var(--fill-color);\n",
              "    }\n",
              "  }\n",
              "</style>\n",
              "\n",
              "  <script>\n",
              "    async function quickchart(key) {\n",
              "      const quickchartButtonEl =\n",
              "        document.querySelector('#' + key + ' button');\n",
              "      quickchartButtonEl.disabled = true;  // To prevent multiple clicks.\n",
              "      quickchartButtonEl.classList.add('colab-df-spinner');\n",
              "      try {\n",
              "        const charts = await google.colab.kernel.invokeFunction(\n",
              "            'suggestCharts', [key], {});\n",
              "      } catch (error) {\n",
              "        console.error('Error during call to suggestCharts:', error);\n",
              "      }\n",
              "      quickchartButtonEl.classList.remove('colab-df-spinner');\n",
              "      quickchartButtonEl.classList.add('colab-df-quickchart-complete');\n",
              "    }\n",
              "    (() => {\n",
              "      let quickchartButtonEl =\n",
              "        document.querySelector('#df-88935860-aab3-49ea-94a5-c098eb0df0dc button');\n",
              "      quickchartButtonEl.style.display =\n",
              "        google.colab.kernel.accessAllowed ? 'block' : 'none';\n",
              "    })();\n",
              "  </script>\n",
              "</div>\n",
              "    </div>\n",
              "  </div>\n"
            ]
          },
          "metadata": {},
          "execution_count": 18
        }
      ],
      "source": [
        "data.describe()"
      ]
    },
    {
      "cell_type": "markdown",
      "id": "6224259b",
      "metadata": {
        "papermill": {
          "duration": 0.025032,
          "end_time": "2023-05-09T02:40:15.452623",
          "exception": false,
          "start_time": "2023-05-09T02:40:15.427591",
          "status": "completed"
        },
        "tags": [],
        "id": "6224259b"
      },
      "source": [
        "## Name and race column addition"
      ]
    },
    {
      "cell_type": "code",
      "execution_count": null,
      "id": "b23363a0",
      "metadata": {
        "execution": {
          "iopub.execute_input": "2023-05-09T02:40:15.506168Z",
          "iopub.status.busy": "2023-05-09T02:40:15.505436Z",
          "iopub.status.idle": "2023-05-09T02:40:30.399624Z",
          "shell.execute_reply": "2023-05-09T02:40:30.397990Z"
        },
        "papermill": {
          "duration": 14.924322,
          "end_time": "2023-05-09T02:40:30.402150",
          "exception": false,
          "start_time": "2023-05-09T02:40:15.477828",
          "status": "completed"
        },
        "tags": [],
        "colab": {
          "base_uri": "https://localhost:8080/"
        },
        "id": "b23363a0",
        "outputId": "c99a296b-074c-4f11-93b9-35b78b6d577b"
      },
      "outputs": [
        {
          "output_type": "stream",
          "name": "stdout",
          "text": [
            "Collecting mimesis\n",
            "  Downloading mimesis-11.1.0-py3-none-any.whl (4.4 MB)\n",
            "\u001b[2K     \u001b[90m━━━━━━━━━━━━━━━━━━━━━━━━━━━━━━━━━━━━━━━━\u001b[0m \u001b[32m4.4/4.4 MB\u001b[0m \u001b[31m15.5 MB/s\u001b[0m eta \u001b[36m0:00:00\u001b[0m\n",
            "\u001b[?25hInstalling collected packages: mimesis\n",
            "Successfully installed mimesis-11.1.0\n"
          ]
        }
      ],
      "source": [
        "pip install mimesis"
      ]
    },
    {
      "cell_type": "code",
      "execution_count": null,
      "id": "1603adbc",
      "metadata": {
        "execution": {
          "iopub.execute_input": "2023-05-09T02:40:30.457826Z",
          "iopub.status.busy": "2023-05-09T02:40:30.457402Z",
          "iopub.status.idle": "2023-05-09T02:40:32.492606Z",
          "shell.execute_reply": "2023-05-09T02:40:32.491430Z"
        },
        "papermill": {
          "duration": 2.06564,
          "end_time": "2023-05-09T02:40:32.495307",
          "exception": false,
          "start_time": "2023-05-09T02:40:30.429667",
          "status": "completed"
        },
        "tags": [],
        "colab": {
          "base_uri": "https://localhost:8080/",
          "height": 206
        },
        "id": "1603adbc",
        "outputId": "39fce3f0-22cd-4826-885a-37b269e0ab4e"
      },
      "outputs": [
        {
          "output_type": "execute_result",
          "data": {
            "text/plain": [
              "       Name\n",
              "0   Laurena\n",
              "1      Tora\n",
              "2  Clemente\n",
              "3       Kim\n",
              "4       Soo"
            ],
            "text/html": [
              "\n",
              "  <div id=\"df-b82edef7-964c-43de-b98e-57c3ee28be0b\" class=\"colab-df-container\">\n",
              "    <div>\n",
              "<style scoped>\n",
              "    .dataframe tbody tr th:only-of-type {\n",
              "        vertical-align: middle;\n",
              "    }\n",
              "\n",
              "    .dataframe tbody tr th {\n",
              "        vertical-align: top;\n",
              "    }\n",
              "\n",
              "    .dataframe thead th {\n",
              "        text-align: right;\n",
              "    }\n",
              "</style>\n",
              "<table border=\"1\" class=\"dataframe\">\n",
              "  <thead>\n",
              "    <tr style=\"text-align: right;\">\n",
              "      <th></th>\n",
              "      <th>Name</th>\n",
              "    </tr>\n",
              "  </thead>\n",
              "  <tbody>\n",
              "    <tr>\n",
              "      <th>0</th>\n",
              "      <td>Laurena</td>\n",
              "    </tr>\n",
              "    <tr>\n",
              "      <th>1</th>\n",
              "      <td>Tora</td>\n",
              "    </tr>\n",
              "    <tr>\n",
              "      <th>2</th>\n",
              "      <td>Clemente</td>\n",
              "    </tr>\n",
              "    <tr>\n",
              "      <th>3</th>\n",
              "      <td>Kim</td>\n",
              "    </tr>\n",
              "    <tr>\n",
              "      <th>4</th>\n",
              "      <td>Soo</td>\n",
              "    </tr>\n",
              "  </tbody>\n",
              "</table>\n",
              "</div>\n",
              "    <div class=\"colab-df-buttons\">\n",
              "\n",
              "  <div class=\"colab-df-container\">\n",
              "    <button class=\"colab-df-convert\" onclick=\"convertToInteractive('df-b82edef7-964c-43de-b98e-57c3ee28be0b')\"\n",
              "            title=\"Convert this dataframe to an interactive table.\"\n",
              "            style=\"display:none;\">\n",
              "\n",
              "  <svg xmlns=\"http://www.w3.org/2000/svg\" height=\"24px\" viewBox=\"0 -960 960 960\">\n",
              "    <path d=\"M120-120v-720h720v720H120Zm60-500h600v-160H180v160Zm220 220h160v-160H400v160Zm0 220h160v-160H400v160ZM180-400h160v-160H180v160Zm440 0h160v-160H620v160ZM180-180h160v-160H180v160Zm440 0h160v-160H620v160Z\"/>\n",
              "  </svg>\n",
              "    </button>\n",
              "\n",
              "  <style>\n",
              "    .colab-df-container {\n",
              "      display:flex;\n",
              "      gap: 12px;\n",
              "    }\n",
              "\n",
              "    .colab-df-convert {\n",
              "      background-color: #E8F0FE;\n",
              "      border: none;\n",
              "      border-radius: 50%;\n",
              "      cursor: pointer;\n",
              "      display: none;\n",
              "      fill: #1967D2;\n",
              "      height: 32px;\n",
              "      padding: 0 0 0 0;\n",
              "      width: 32px;\n",
              "    }\n",
              "\n",
              "    .colab-df-convert:hover {\n",
              "      background-color: #E2EBFA;\n",
              "      box-shadow: 0px 1px 2px rgba(60, 64, 67, 0.3), 0px 1px 3px 1px rgba(60, 64, 67, 0.15);\n",
              "      fill: #174EA6;\n",
              "    }\n",
              "\n",
              "    .colab-df-buttons div {\n",
              "      margin-bottom: 4px;\n",
              "    }\n",
              "\n",
              "    [theme=dark] .colab-df-convert {\n",
              "      background-color: #3B4455;\n",
              "      fill: #D2E3FC;\n",
              "    }\n",
              "\n",
              "    [theme=dark] .colab-df-convert:hover {\n",
              "      background-color: #434B5C;\n",
              "      box-shadow: 0px 1px 3px 1px rgba(0, 0, 0, 0.15);\n",
              "      filter: drop-shadow(0px 1px 2px rgba(0, 0, 0, 0.3));\n",
              "      fill: #FFFFFF;\n",
              "    }\n",
              "  </style>\n",
              "\n",
              "    <script>\n",
              "      const buttonEl =\n",
              "        document.querySelector('#df-b82edef7-964c-43de-b98e-57c3ee28be0b button.colab-df-convert');\n",
              "      buttonEl.style.display =\n",
              "        google.colab.kernel.accessAllowed ? 'block' : 'none';\n",
              "\n",
              "      async function convertToInteractive(key) {\n",
              "        const element = document.querySelector('#df-b82edef7-964c-43de-b98e-57c3ee28be0b');\n",
              "        const dataTable =\n",
              "          await google.colab.kernel.invokeFunction('convertToInteractive',\n",
              "                                                    [key], {});\n",
              "        if (!dataTable) return;\n",
              "\n",
              "        const docLinkHtml = 'Like what you see? Visit the ' +\n",
              "          '<a target=\"_blank\" href=https://colab.research.google.com/notebooks/data_table.ipynb>data table notebook</a>'\n",
              "          + ' to learn more about interactive tables.';\n",
              "        element.innerHTML = '';\n",
              "        dataTable['output_type'] = 'display_data';\n",
              "        await google.colab.output.renderOutput(dataTable, element);\n",
              "        const docLink = document.createElement('div');\n",
              "        docLink.innerHTML = docLinkHtml;\n",
              "        element.appendChild(docLink);\n",
              "      }\n",
              "    </script>\n",
              "  </div>\n",
              "\n",
              "\n",
              "<div id=\"df-6d2276e9-f670-4558-aeaa-62a9bdabf7cb\">\n",
              "  <button class=\"colab-df-quickchart\" onclick=\"quickchart('df-6d2276e9-f670-4558-aeaa-62a9bdabf7cb')\"\n",
              "            title=\"Suggest charts\"\n",
              "            style=\"display:none;\">\n",
              "\n",
              "<svg xmlns=\"http://www.w3.org/2000/svg\" height=\"24px\"viewBox=\"0 0 24 24\"\n",
              "     width=\"24px\">\n",
              "    <g>\n",
              "        <path d=\"M19 3H5c-1.1 0-2 .9-2 2v14c0 1.1.9 2 2 2h14c1.1 0 2-.9 2-2V5c0-1.1-.9-2-2-2zM9 17H7v-7h2v7zm4 0h-2V7h2v10zm4 0h-2v-4h2v4z\"/>\n",
              "    </g>\n",
              "</svg>\n",
              "  </button>\n",
              "\n",
              "<style>\n",
              "  .colab-df-quickchart {\n",
              "      --bg-color: #E8F0FE;\n",
              "      --fill-color: #1967D2;\n",
              "      --hover-bg-color: #E2EBFA;\n",
              "      --hover-fill-color: #174EA6;\n",
              "      --disabled-fill-color: #AAA;\n",
              "      --disabled-bg-color: #DDD;\n",
              "  }\n",
              "\n",
              "  [theme=dark] .colab-df-quickchart {\n",
              "      --bg-color: #3B4455;\n",
              "      --fill-color: #D2E3FC;\n",
              "      --hover-bg-color: #434B5C;\n",
              "      --hover-fill-color: #FFFFFF;\n",
              "      --disabled-bg-color: #3B4455;\n",
              "      --disabled-fill-color: #666;\n",
              "  }\n",
              "\n",
              "  .colab-df-quickchart {\n",
              "    background-color: var(--bg-color);\n",
              "    border: none;\n",
              "    border-radius: 50%;\n",
              "    cursor: pointer;\n",
              "    display: none;\n",
              "    fill: var(--fill-color);\n",
              "    height: 32px;\n",
              "    padding: 0;\n",
              "    width: 32px;\n",
              "  }\n",
              "\n",
              "  .colab-df-quickchart:hover {\n",
              "    background-color: var(--hover-bg-color);\n",
              "    box-shadow: 0 1px 2px rgba(60, 64, 67, 0.3), 0 1px 3px 1px rgba(60, 64, 67, 0.15);\n",
              "    fill: var(--button-hover-fill-color);\n",
              "  }\n",
              "\n",
              "  .colab-df-quickchart-complete:disabled,\n",
              "  .colab-df-quickchart-complete:disabled:hover {\n",
              "    background-color: var(--disabled-bg-color);\n",
              "    fill: var(--disabled-fill-color);\n",
              "    box-shadow: none;\n",
              "  }\n",
              "\n",
              "  .colab-df-spinner {\n",
              "    border: 2px solid var(--fill-color);\n",
              "    border-color: transparent;\n",
              "    border-bottom-color: var(--fill-color);\n",
              "    animation:\n",
              "      spin 1s steps(1) infinite;\n",
              "  }\n",
              "\n",
              "  @keyframes spin {\n",
              "    0% {\n",
              "      border-color: transparent;\n",
              "      border-bottom-color: var(--fill-color);\n",
              "      border-left-color: var(--fill-color);\n",
              "    }\n",
              "    20% {\n",
              "      border-color: transparent;\n",
              "      border-left-color: var(--fill-color);\n",
              "      border-top-color: var(--fill-color);\n",
              "    }\n",
              "    30% {\n",
              "      border-color: transparent;\n",
              "      border-left-color: var(--fill-color);\n",
              "      border-top-color: var(--fill-color);\n",
              "      border-right-color: var(--fill-color);\n",
              "    }\n",
              "    40% {\n",
              "      border-color: transparent;\n",
              "      border-right-color: var(--fill-color);\n",
              "      border-top-color: var(--fill-color);\n",
              "    }\n",
              "    60% {\n",
              "      border-color: transparent;\n",
              "      border-right-color: var(--fill-color);\n",
              "    }\n",
              "    80% {\n",
              "      border-color: transparent;\n",
              "      border-right-color: var(--fill-color);\n",
              "      border-bottom-color: var(--fill-color);\n",
              "    }\n",
              "    90% {\n",
              "      border-color: transparent;\n",
              "      border-bottom-color: var(--fill-color);\n",
              "    }\n",
              "  }\n",
              "</style>\n",
              "\n",
              "  <script>\n",
              "    async function quickchart(key) {\n",
              "      const quickchartButtonEl =\n",
              "        document.querySelector('#' + key + ' button');\n",
              "      quickchartButtonEl.disabled = true;  // To prevent multiple clicks.\n",
              "      quickchartButtonEl.classList.add('colab-df-spinner');\n",
              "      try {\n",
              "        const charts = await google.colab.kernel.invokeFunction(\n",
              "            'suggestCharts', [key], {});\n",
              "      } catch (error) {\n",
              "        console.error('Error during call to suggestCharts:', error);\n",
              "      }\n",
              "      quickchartButtonEl.classList.remove('colab-df-spinner');\n",
              "      quickchartButtonEl.classList.add('colab-df-quickchart-complete');\n",
              "    }\n",
              "    (() => {\n",
              "      let quickchartButtonEl =\n",
              "        document.querySelector('#df-6d2276e9-f670-4558-aeaa-62a9bdabf7cb button');\n",
              "      quickchartButtonEl.style.display =\n",
              "        google.colab.kernel.accessAllowed ? 'block' : 'none';\n",
              "    })();\n",
              "  </script>\n",
              "</div>\n",
              "    </div>\n",
              "  </div>\n"
            ]
          },
          "metadata": {},
          "execution_count": 20
        }
      ],
      "source": [
        "from mimesis import Person\n",
        "person = Person('en')\n",
        "\n",
        "# function to create names to exact rows\n",
        "def fake_names(n):\n",
        "   name = []\n",
        "   for _ in range(0, n):\n",
        "        name.append(person.name())\n",
        "   return name\n",
        "\n",
        "names = fake_names(362806)\n",
        "\n",
        "data_name = pd.DataFrame(list(zip(names)),columns = ['Name'])\n",
        "\n",
        "data_name.head()"
      ]
    },
    {
      "cell_type": "code",
      "execution_count": null,
      "id": "6da76d4b",
      "metadata": {
        "execution": {
          "iopub.execute_input": "2023-05-09T02:40:32.551006Z",
          "iopub.status.busy": "2023-05-09T02:40:32.549920Z",
          "iopub.status.idle": "2023-05-09T02:40:33.876924Z",
          "shell.execute_reply": "2023-05-09T02:40:33.875623Z"
        },
        "papermill": {
          "duration": 1.357012,
          "end_time": "2023-05-09T02:40:33.879282",
          "exception": false,
          "start_time": "2023-05-09T02:40:32.522270",
          "status": "completed"
        },
        "tags": [],
        "colab": {
          "base_uri": "https://localhost:8080/",
          "height": 206
        },
        "id": "6da76d4b",
        "outputId": "48968021-846a-4095-f484-2dbd2283506e"
      },
      "outputs": [
        {
          "output_type": "execute_result",
          "data": {
            "text/plain": [
              "       Race\n",
              "0     Black\n",
              "1  Hispanic\n",
              "2     Asian\n",
              "3     White\n",
              "4     Black"
            ],
            "text/html": [
              "\n",
              "  <div id=\"df-6f2f2ab2-86ef-48b8-af8a-a2bf2e3d656d\" class=\"colab-df-container\">\n",
              "    <div>\n",
              "<style scoped>\n",
              "    .dataframe tbody tr th:only-of-type {\n",
              "        vertical-align: middle;\n",
              "    }\n",
              "\n",
              "    .dataframe tbody tr th {\n",
              "        vertical-align: top;\n",
              "    }\n",
              "\n",
              "    .dataframe thead th {\n",
              "        text-align: right;\n",
              "    }\n",
              "</style>\n",
              "<table border=\"1\" class=\"dataframe\">\n",
              "  <thead>\n",
              "    <tr style=\"text-align: right;\">\n",
              "      <th></th>\n",
              "      <th>Race</th>\n",
              "    </tr>\n",
              "  </thead>\n",
              "  <tbody>\n",
              "    <tr>\n",
              "      <th>0</th>\n",
              "      <td>Black</td>\n",
              "    </tr>\n",
              "    <tr>\n",
              "      <th>1</th>\n",
              "      <td>Hispanic</td>\n",
              "    </tr>\n",
              "    <tr>\n",
              "      <th>2</th>\n",
              "      <td>Asian</td>\n",
              "    </tr>\n",
              "    <tr>\n",
              "      <th>3</th>\n",
              "      <td>White</td>\n",
              "    </tr>\n",
              "    <tr>\n",
              "      <th>4</th>\n",
              "      <td>Black</td>\n",
              "    </tr>\n",
              "  </tbody>\n",
              "</table>\n",
              "</div>\n",
              "    <div class=\"colab-df-buttons\">\n",
              "\n",
              "  <div class=\"colab-df-container\">\n",
              "    <button class=\"colab-df-convert\" onclick=\"convertToInteractive('df-6f2f2ab2-86ef-48b8-af8a-a2bf2e3d656d')\"\n",
              "            title=\"Convert this dataframe to an interactive table.\"\n",
              "            style=\"display:none;\">\n",
              "\n",
              "  <svg xmlns=\"http://www.w3.org/2000/svg\" height=\"24px\" viewBox=\"0 -960 960 960\">\n",
              "    <path d=\"M120-120v-720h720v720H120Zm60-500h600v-160H180v160Zm220 220h160v-160H400v160Zm0 220h160v-160H400v160ZM180-400h160v-160H180v160Zm440 0h160v-160H620v160ZM180-180h160v-160H180v160Zm440 0h160v-160H620v160Z\"/>\n",
              "  </svg>\n",
              "    </button>\n",
              "\n",
              "  <style>\n",
              "    .colab-df-container {\n",
              "      display:flex;\n",
              "      gap: 12px;\n",
              "    }\n",
              "\n",
              "    .colab-df-convert {\n",
              "      background-color: #E8F0FE;\n",
              "      border: none;\n",
              "      border-radius: 50%;\n",
              "      cursor: pointer;\n",
              "      display: none;\n",
              "      fill: #1967D2;\n",
              "      height: 32px;\n",
              "      padding: 0 0 0 0;\n",
              "      width: 32px;\n",
              "    }\n",
              "\n",
              "    .colab-df-convert:hover {\n",
              "      background-color: #E2EBFA;\n",
              "      box-shadow: 0px 1px 2px rgba(60, 64, 67, 0.3), 0px 1px 3px 1px rgba(60, 64, 67, 0.15);\n",
              "      fill: #174EA6;\n",
              "    }\n",
              "\n",
              "    .colab-df-buttons div {\n",
              "      margin-bottom: 4px;\n",
              "    }\n",
              "\n",
              "    [theme=dark] .colab-df-convert {\n",
              "      background-color: #3B4455;\n",
              "      fill: #D2E3FC;\n",
              "    }\n",
              "\n",
              "    [theme=dark] .colab-df-convert:hover {\n",
              "      background-color: #434B5C;\n",
              "      box-shadow: 0px 1px 3px 1px rgba(0, 0, 0, 0.15);\n",
              "      filter: drop-shadow(0px 1px 2px rgba(0, 0, 0, 0.3));\n",
              "      fill: #FFFFFF;\n",
              "    }\n",
              "  </style>\n",
              "\n",
              "    <script>\n",
              "      const buttonEl =\n",
              "        document.querySelector('#df-6f2f2ab2-86ef-48b8-af8a-a2bf2e3d656d button.colab-df-convert');\n",
              "      buttonEl.style.display =\n",
              "        google.colab.kernel.accessAllowed ? 'block' : 'none';\n",
              "\n",
              "      async function convertToInteractive(key) {\n",
              "        const element = document.querySelector('#df-6f2f2ab2-86ef-48b8-af8a-a2bf2e3d656d');\n",
              "        const dataTable =\n",
              "          await google.colab.kernel.invokeFunction('convertToInteractive',\n",
              "                                                    [key], {});\n",
              "        if (!dataTable) return;\n",
              "\n",
              "        const docLinkHtml = 'Like what you see? Visit the ' +\n",
              "          '<a target=\"_blank\" href=https://colab.research.google.com/notebooks/data_table.ipynb>data table notebook</a>'\n",
              "          + ' to learn more about interactive tables.';\n",
              "        element.innerHTML = '';\n",
              "        dataTable['output_type'] = 'display_data';\n",
              "        await google.colab.output.renderOutput(dataTable, element);\n",
              "        const docLink = document.createElement('div');\n",
              "        docLink.innerHTML = docLinkHtml;\n",
              "        element.appendChild(docLink);\n",
              "      }\n",
              "    </script>\n",
              "  </div>\n",
              "\n",
              "\n",
              "<div id=\"df-fb79a5a5-4783-4eed-a693-6dbca1fec239\">\n",
              "  <button class=\"colab-df-quickchart\" onclick=\"quickchart('df-fb79a5a5-4783-4eed-a693-6dbca1fec239')\"\n",
              "            title=\"Suggest charts\"\n",
              "            style=\"display:none;\">\n",
              "\n",
              "<svg xmlns=\"http://www.w3.org/2000/svg\" height=\"24px\"viewBox=\"0 0 24 24\"\n",
              "     width=\"24px\">\n",
              "    <g>\n",
              "        <path d=\"M19 3H5c-1.1 0-2 .9-2 2v14c0 1.1.9 2 2 2h14c1.1 0 2-.9 2-2V5c0-1.1-.9-2-2-2zM9 17H7v-7h2v7zm4 0h-2V7h2v10zm4 0h-2v-4h2v4z\"/>\n",
              "    </g>\n",
              "</svg>\n",
              "  </button>\n",
              "\n",
              "<style>\n",
              "  .colab-df-quickchart {\n",
              "      --bg-color: #E8F0FE;\n",
              "      --fill-color: #1967D2;\n",
              "      --hover-bg-color: #E2EBFA;\n",
              "      --hover-fill-color: #174EA6;\n",
              "      --disabled-fill-color: #AAA;\n",
              "      --disabled-bg-color: #DDD;\n",
              "  }\n",
              "\n",
              "  [theme=dark] .colab-df-quickchart {\n",
              "      --bg-color: #3B4455;\n",
              "      --fill-color: #D2E3FC;\n",
              "      --hover-bg-color: #434B5C;\n",
              "      --hover-fill-color: #FFFFFF;\n",
              "      --disabled-bg-color: #3B4455;\n",
              "      --disabled-fill-color: #666;\n",
              "  }\n",
              "\n",
              "  .colab-df-quickchart {\n",
              "    background-color: var(--bg-color);\n",
              "    border: none;\n",
              "    border-radius: 50%;\n",
              "    cursor: pointer;\n",
              "    display: none;\n",
              "    fill: var(--fill-color);\n",
              "    height: 32px;\n",
              "    padding: 0;\n",
              "    width: 32px;\n",
              "  }\n",
              "\n",
              "  .colab-df-quickchart:hover {\n",
              "    background-color: var(--hover-bg-color);\n",
              "    box-shadow: 0 1px 2px rgba(60, 64, 67, 0.3), 0 1px 3px 1px rgba(60, 64, 67, 0.15);\n",
              "    fill: var(--button-hover-fill-color);\n",
              "  }\n",
              "\n",
              "  .colab-df-quickchart-complete:disabled,\n",
              "  .colab-df-quickchart-complete:disabled:hover {\n",
              "    background-color: var(--disabled-bg-color);\n",
              "    fill: var(--disabled-fill-color);\n",
              "    box-shadow: none;\n",
              "  }\n",
              "\n",
              "  .colab-df-spinner {\n",
              "    border: 2px solid var(--fill-color);\n",
              "    border-color: transparent;\n",
              "    border-bottom-color: var(--fill-color);\n",
              "    animation:\n",
              "      spin 1s steps(1) infinite;\n",
              "  }\n",
              "\n",
              "  @keyframes spin {\n",
              "    0% {\n",
              "      border-color: transparent;\n",
              "      border-bottom-color: var(--fill-color);\n",
              "      border-left-color: var(--fill-color);\n",
              "    }\n",
              "    20% {\n",
              "      border-color: transparent;\n",
              "      border-left-color: var(--fill-color);\n",
              "      border-top-color: var(--fill-color);\n",
              "    }\n",
              "    30% {\n",
              "      border-color: transparent;\n",
              "      border-left-color: var(--fill-color);\n",
              "      border-top-color: var(--fill-color);\n",
              "      border-right-color: var(--fill-color);\n",
              "    }\n",
              "    40% {\n",
              "      border-color: transparent;\n",
              "      border-right-color: var(--fill-color);\n",
              "      border-top-color: var(--fill-color);\n",
              "    }\n",
              "    60% {\n",
              "      border-color: transparent;\n",
              "      border-right-color: var(--fill-color);\n",
              "    }\n",
              "    80% {\n",
              "      border-color: transparent;\n",
              "      border-right-color: var(--fill-color);\n",
              "      border-bottom-color: var(--fill-color);\n",
              "    }\n",
              "    90% {\n",
              "      border-color: transparent;\n",
              "      border-bottom-color: var(--fill-color);\n",
              "    }\n",
              "  }\n",
              "</style>\n",
              "\n",
              "  <script>\n",
              "    async function quickchart(key) {\n",
              "      const quickchartButtonEl =\n",
              "        document.querySelector('#' + key + ' button');\n",
              "      quickchartButtonEl.disabled = true;  // To prevent multiple clicks.\n",
              "      quickchartButtonEl.classList.add('colab-df-spinner');\n",
              "      try {\n",
              "        const charts = await google.colab.kernel.invokeFunction(\n",
              "            'suggestCharts', [key], {});\n",
              "      } catch (error) {\n",
              "        console.error('Error during call to suggestCharts:', error);\n",
              "      }\n",
              "      quickchartButtonEl.classList.remove('colab-df-spinner');\n",
              "      quickchartButtonEl.classList.add('colab-df-quickchart-complete');\n",
              "    }\n",
              "    (() => {\n",
              "      let quickchartButtonEl =\n",
              "        document.querySelector('#df-fb79a5a5-4783-4eed-a693-6dbca1fec239 button');\n",
              "      quickchartButtonEl.style.display =\n",
              "        google.colab.kernel.accessAllowed ? 'block' : 'none';\n",
              "    })();\n",
              "  </script>\n",
              "</div>\n",
              "    </div>\n",
              "  </div>\n"
            ]
          },
          "metadata": {},
          "execution_count": 21
        }
      ],
      "source": [
        "import random\n",
        "\n",
        "options = [(\"White\", 0.32), (\"Hispanic\", 0.28), (\"Black\", 0.22), (\"Asian\", 0.18)]\n",
        "words = []\n",
        "\n",
        "for i in range(362806):\n",
        "    word = random.choices([o[0] for o in options], [o[1] for o in options])[0]\n",
        "    words.append(word)\n",
        "\n",
        "data_race=pd.DataFrame(words, columns = ['Race'])\n",
        "\n",
        "data_race.head()"
      ]
    },
    {
      "cell_type": "code",
      "execution_count": null,
      "id": "0b31b4b4",
      "metadata": {
        "execution": {
          "iopub.execute_input": "2023-05-09T02:40:33.934287Z",
          "iopub.status.busy": "2023-05-09T02:40:33.933108Z",
          "iopub.status.idle": "2023-05-09T02:40:34.217566Z",
          "shell.execute_reply": "2023-05-09T02:40:34.216470Z"
        },
        "papermill": {
          "duration": 0.314464,
          "end_time": "2023-05-09T02:40:34.220001",
          "exception": false,
          "start_time": "2023-05-09T02:40:33.905537",
          "status": "completed"
        },
        "tags": [],
        "colab": {
          "base_uri": "https://localhost:8080/",
          "height": 553
        },
        "id": "0b31b4b4",
        "outputId": "464034ed-57b6-401c-bb91-80c337571477"
      },
      "outputs": [
        {
          "output_type": "execute_result",
          "data": {
            "text/plain": [
              "       Name      Race         Age      Condition       Date  \\\n",
              "0   Laurena     Black  75 or over    Stuffy Nose  9/21/2014   \n",
              "1      Tora  Hispanic       25-34  Cold Symptoms  1/13/2011   \n",
              "2  Clemente     Asian       65-74          Other  7/16/2012   \n",
              "3       Kim     White  75 or over          Other  9/23/2010   \n",
              "4       Soo     Black       35-44          Other   1/6/2009   \n",
              "\n",
              "                           Drug    DrugId  EaseofUse  Effectiveness  \\\n",
              "0                  25dph-7.5peh  146724.0        5.0            5.0   \n",
              "1                  25dph-7.5peh  146724.0        5.0            5.0   \n",
              "2  warfarin (bulk) 100 % powder  144731.0        2.0            3.0   \n",
              "3  warfarin (bulk) 100 % powder  144731.0        2.0            2.0   \n",
              "4  warfarin (bulk) 100 % powder  144731.0        1.0            1.0   \n",
              "\n",
              "                                             Reviews  Satisfaction     Sex  \\\n",
              "0  I'm a retired physician and of all the meds I ...           5.0    Male   \n",
              "1  cleared me right up even with my throat hurtin...           5.0  Female   \n",
              "2  why did my PTINR go from a normal of 2.5 to ov...           3.0  Female   \n",
              "3                       FALLING AND DON'T REALISE IT           1.0  Female   \n",
              "4  My grandfather was prescribed this medication ...           1.0    Male   \n",
              "\n",
              "                                               Sides  UsefulCount  \n",
              "0  Drowsiness,  dizziness ,  dry mouth /nose/thro...          0.0  \n",
              "1  Drowsiness,  dizziness ,  dry mouth /nose/thro...          1.0  \n",
              "2                                                             0.0  \n",
              "3                                                             0.0  \n",
              "4                                                             1.0  "
            ],
            "text/html": [
              "\n",
              "  <div id=\"df-08d3512f-ec2f-45f6-b1e1-cf3693dcfd33\" class=\"colab-df-container\">\n",
              "    <div>\n",
              "<style scoped>\n",
              "    .dataframe tbody tr th:only-of-type {\n",
              "        vertical-align: middle;\n",
              "    }\n",
              "\n",
              "    .dataframe tbody tr th {\n",
              "        vertical-align: top;\n",
              "    }\n",
              "\n",
              "    .dataframe thead th {\n",
              "        text-align: right;\n",
              "    }\n",
              "</style>\n",
              "<table border=\"1\" class=\"dataframe\">\n",
              "  <thead>\n",
              "    <tr style=\"text-align: right;\">\n",
              "      <th></th>\n",
              "      <th>Name</th>\n",
              "      <th>Race</th>\n",
              "      <th>Age</th>\n",
              "      <th>Condition</th>\n",
              "      <th>Date</th>\n",
              "      <th>Drug</th>\n",
              "      <th>DrugId</th>\n",
              "      <th>EaseofUse</th>\n",
              "      <th>Effectiveness</th>\n",
              "      <th>Reviews</th>\n",
              "      <th>Satisfaction</th>\n",
              "      <th>Sex</th>\n",
              "      <th>Sides</th>\n",
              "      <th>UsefulCount</th>\n",
              "    </tr>\n",
              "  </thead>\n",
              "  <tbody>\n",
              "    <tr>\n",
              "      <th>0</th>\n",
              "      <td>Laurena</td>\n",
              "      <td>Black</td>\n",
              "      <td>75 or over</td>\n",
              "      <td>Stuffy Nose</td>\n",
              "      <td>9/21/2014</td>\n",
              "      <td>25dph-7.5peh</td>\n",
              "      <td>146724.0</td>\n",
              "      <td>5.0</td>\n",
              "      <td>5.0</td>\n",
              "      <td>I'm a retired physician and of all the meds I ...</td>\n",
              "      <td>5.0</td>\n",
              "      <td>Male</td>\n",
              "      <td>Drowsiness,  dizziness ,  dry mouth /nose/thro...</td>\n",
              "      <td>0.0</td>\n",
              "    </tr>\n",
              "    <tr>\n",
              "      <th>1</th>\n",
              "      <td>Tora</td>\n",
              "      <td>Hispanic</td>\n",
              "      <td>25-34</td>\n",
              "      <td>Cold Symptoms</td>\n",
              "      <td>1/13/2011</td>\n",
              "      <td>25dph-7.5peh</td>\n",
              "      <td>146724.0</td>\n",
              "      <td>5.0</td>\n",
              "      <td>5.0</td>\n",
              "      <td>cleared me right up even with my throat hurtin...</td>\n",
              "      <td>5.0</td>\n",
              "      <td>Female</td>\n",
              "      <td>Drowsiness,  dizziness ,  dry mouth /nose/thro...</td>\n",
              "      <td>1.0</td>\n",
              "    </tr>\n",
              "    <tr>\n",
              "      <th>2</th>\n",
              "      <td>Clemente</td>\n",
              "      <td>Asian</td>\n",
              "      <td>65-74</td>\n",
              "      <td>Other</td>\n",
              "      <td>7/16/2012</td>\n",
              "      <td>warfarin (bulk) 100 % powder</td>\n",
              "      <td>144731.0</td>\n",
              "      <td>2.0</td>\n",
              "      <td>3.0</td>\n",
              "      <td>why did my PTINR go from a normal of 2.5 to ov...</td>\n",
              "      <td>3.0</td>\n",
              "      <td>Female</td>\n",
              "      <td></td>\n",
              "      <td>0.0</td>\n",
              "    </tr>\n",
              "    <tr>\n",
              "      <th>3</th>\n",
              "      <td>Kim</td>\n",
              "      <td>White</td>\n",
              "      <td>75 or over</td>\n",
              "      <td>Other</td>\n",
              "      <td>9/23/2010</td>\n",
              "      <td>warfarin (bulk) 100 % powder</td>\n",
              "      <td>144731.0</td>\n",
              "      <td>2.0</td>\n",
              "      <td>2.0</td>\n",
              "      <td>FALLING AND DON'T REALISE IT</td>\n",
              "      <td>1.0</td>\n",
              "      <td>Female</td>\n",
              "      <td></td>\n",
              "      <td>0.0</td>\n",
              "    </tr>\n",
              "    <tr>\n",
              "      <th>4</th>\n",
              "      <td>Soo</td>\n",
              "      <td>Black</td>\n",
              "      <td>35-44</td>\n",
              "      <td>Other</td>\n",
              "      <td>1/6/2009</td>\n",
              "      <td>warfarin (bulk) 100 % powder</td>\n",
              "      <td>144731.0</td>\n",
              "      <td>1.0</td>\n",
              "      <td>1.0</td>\n",
              "      <td>My grandfather was prescribed this medication ...</td>\n",
              "      <td>1.0</td>\n",
              "      <td>Male</td>\n",
              "      <td></td>\n",
              "      <td>1.0</td>\n",
              "    </tr>\n",
              "  </tbody>\n",
              "</table>\n",
              "</div>\n",
              "    <div class=\"colab-df-buttons\">\n",
              "\n",
              "  <div class=\"colab-df-container\">\n",
              "    <button class=\"colab-df-convert\" onclick=\"convertToInteractive('df-08d3512f-ec2f-45f6-b1e1-cf3693dcfd33')\"\n",
              "            title=\"Convert this dataframe to an interactive table.\"\n",
              "            style=\"display:none;\">\n",
              "\n",
              "  <svg xmlns=\"http://www.w3.org/2000/svg\" height=\"24px\" viewBox=\"0 -960 960 960\">\n",
              "    <path d=\"M120-120v-720h720v720H120Zm60-500h600v-160H180v160Zm220 220h160v-160H400v160Zm0 220h160v-160H400v160ZM180-400h160v-160H180v160Zm440 0h160v-160H620v160ZM180-180h160v-160H180v160Zm440 0h160v-160H620v160Z\"/>\n",
              "  </svg>\n",
              "    </button>\n",
              "\n",
              "  <style>\n",
              "    .colab-df-container {\n",
              "      display:flex;\n",
              "      gap: 12px;\n",
              "    }\n",
              "\n",
              "    .colab-df-convert {\n",
              "      background-color: #E8F0FE;\n",
              "      border: none;\n",
              "      border-radius: 50%;\n",
              "      cursor: pointer;\n",
              "      display: none;\n",
              "      fill: #1967D2;\n",
              "      height: 32px;\n",
              "      padding: 0 0 0 0;\n",
              "      width: 32px;\n",
              "    }\n",
              "\n",
              "    .colab-df-convert:hover {\n",
              "      background-color: #E2EBFA;\n",
              "      box-shadow: 0px 1px 2px rgba(60, 64, 67, 0.3), 0px 1px 3px 1px rgba(60, 64, 67, 0.15);\n",
              "      fill: #174EA6;\n",
              "    }\n",
              "\n",
              "    .colab-df-buttons div {\n",
              "      margin-bottom: 4px;\n",
              "    }\n",
              "\n",
              "    [theme=dark] .colab-df-convert {\n",
              "      background-color: #3B4455;\n",
              "      fill: #D2E3FC;\n",
              "    }\n",
              "\n",
              "    [theme=dark] .colab-df-convert:hover {\n",
              "      background-color: #434B5C;\n",
              "      box-shadow: 0px 1px 3px 1px rgba(0, 0, 0, 0.15);\n",
              "      filter: drop-shadow(0px 1px 2px rgba(0, 0, 0, 0.3));\n",
              "      fill: #FFFFFF;\n",
              "    }\n",
              "  </style>\n",
              "\n",
              "    <script>\n",
              "      const buttonEl =\n",
              "        document.querySelector('#df-08d3512f-ec2f-45f6-b1e1-cf3693dcfd33 button.colab-df-convert');\n",
              "      buttonEl.style.display =\n",
              "        google.colab.kernel.accessAllowed ? 'block' : 'none';\n",
              "\n",
              "      async function convertToInteractive(key) {\n",
              "        const element = document.querySelector('#df-08d3512f-ec2f-45f6-b1e1-cf3693dcfd33');\n",
              "        const dataTable =\n",
              "          await google.colab.kernel.invokeFunction('convertToInteractive',\n",
              "                                                    [key], {});\n",
              "        if (!dataTable) return;\n",
              "\n",
              "        const docLinkHtml = 'Like what you see? Visit the ' +\n",
              "          '<a target=\"_blank\" href=https://colab.research.google.com/notebooks/data_table.ipynb>data table notebook</a>'\n",
              "          + ' to learn more about interactive tables.';\n",
              "        element.innerHTML = '';\n",
              "        dataTable['output_type'] = 'display_data';\n",
              "        await google.colab.output.renderOutput(dataTable, element);\n",
              "        const docLink = document.createElement('div');\n",
              "        docLink.innerHTML = docLinkHtml;\n",
              "        element.appendChild(docLink);\n",
              "      }\n",
              "    </script>\n",
              "  </div>\n",
              "\n",
              "\n",
              "<div id=\"df-dc3f8951-d54b-4a01-8ad0-2087ee14f936\">\n",
              "  <button class=\"colab-df-quickchart\" onclick=\"quickchart('df-dc3f8951-d54b-4a01-8ad0-2087ee14f936')\"\n",
              "            title=\"Suggest charts\"\n",
              "            style=\"display:none;\">\n",
              "\n",
              "<svg xmlns=\"http://www.w3.org/2000/svg\" height=\"24px\"viewBox=\"0 0 24 24\"\n",
              "     width=\"24px\">\n",
              "    <g>\n",
              "        <path d=\"M19 3H5c-1.1 0-2 .9-2 2v14c0 1.1.9 2 2 2h14c1.1 0 2-.9 2-2V5c0-1.1-.9-2-2-2zM9 17H7v-7h2v7zm4 0h-2V7h2v10zm4 0h-2v-4h2v4z\"/>\n",
              "    </g>\n",
              "</svg>\n",
              "  </button>\n",
              "\n",
              "<style>\n",
              "  .colab-df-quickchart {\n",
              "      --bg-color: #E8F0FE;\n",
              "      --fill-color: #1967D2;\n",
              "      --hover-bg-color: #E2EBFA;\n",
              "      --hover-fill-color: #174EA6;\n",
              "      --disabled-fill-color: #AAA;\n",
              "      --disabled-bg-color: #DDD;\n",
              "  }\n",
              "\n",
              "  [theme=dark] .colab-df-quickchart {\n",
              "      --bg-color: #3B4455;\n",
              "      --fill-color: #D2E3FC;\n",
              "      --hover-bg-color: #434B5C;\n",
              "      --hover-fill-color: #FFFFFF;\n",
              "      --disabled-bg-color: #3B4455;\n",
              "      --disabled-fill-color: #666;\n",
              "  }\n",
              "\n",
              "  .colab-df-quickchart {\n",
              "    background-color: var(--bg-color);\n",
              "    border: none;\n",
              "    border-radius: 50%;\n",
              "    cursor: pointer;\n",
              "    display: none;\n",
              "    fill: var(--fill-color);\n",
              "    height: 32px;\n",
              "    padding: 0;\n",
              "    width: 32px;\n",
              "  }\n",
              "\n",
              "  .colab-df-quickchart:hover {\n",
              "    background-color: var(--hover-bg-color);\n",
              "    box-shadow: 0 1px 2px rgba(60, 64, 67, 0.3), 0 1px 3px 1px rgba(60, 64, 67, 0.15);\n",
              "    fill: var(--button-hover-fill-color);\n",
              "  }\n",
              "\n",
              "  .colab-df-quickchart-complete:disabled,\n",
              "  .colab-df-quickchart-complete:disabled:hover {\n",
              "    background-color: var(--disabled-bg-color);\n",
              "    fill: var(--disabled-fill-color);\n",
              "    box-shadow: none;\n",
              "  }\n",
              "\n",
              "  .colab-df-spinner {\n",
              "    border: 2px solid var(--fill-color);\n",
              "    border-color: transparent;\n",
              "    border-bottom-color: var(--fill-color);\n",
              "    animation:\n",
              "      spin 1s steps(1) infinite;\n",
              "  }\n",
              "\n",
              "  @keyframes spin {\n",
              "    0% {\n",
              "      border-color: transparent;\n",
              "      border-bottom-color: var(--fill-color);\n",
              "      border-left-color: var(--fill-color);\n",
              "    }\n",
              "    20% {\n",
              "      border-color: transparent;\n",
              "      border-left-color: var(--fill-color);\n",
              "      border-top-color: var(--fill-color);\n",
              "    }\n",
              "    30% {\n",
              "      border-color: transparent;\n",
              "      border-left-color: var(--fill-color);\n",
              "      border-top-color: var(--fill-color);\n",
              "      border-right-color: var(--fill-color);\n",
              "    }\n",
              "    40% {\n",
              "      border-color: transparent;\n",
              "      border-right-color: var(--fill-color);\n",
              "      border-top-color: var(--fill-color);\n",
              "    }\n",
              "    60% {\n",
              "      border-color: transparent;\n",
              "      border-right-color: var(--fill-color);\n",
              "    }\n",
              "    80% {\n",
              "      border-color: transparent;\n",
              "      border-right-color: var(--fill-color);\n",
              "      border-bottom-color: var(--fill-color);\n",
              "    }\n",
              "    90% {\n",
              "      border-color: transparent;\n",
              "      border-bottom-color: var(--fill-color);\n",
              "    }\n",
              "  }\n",
              "</style>\n",
              "\n",
              "  <script>\n",
              "    async function quickchart(key) {\n",
              "      const quickchartButtonEl =\n",
              "        document.querySelector('#' + key + ' button');\n",
              "      quickchartButtonEl.disabled = true;  // To prevent multiple clicks.\n",
              "      quickchartButtonEl.classList.add('colab-df-spinner');\n",
              "      try {\n",
              "        const charts = await google.colab.kernel.invokeFunction(\n",
              "            'suggestCharts', [key], {});\n",
              "      } catch (error) {\n",
              "        console.error('Error during call to suggestCharts:', error);\n",
              "      }\n",
              "      quickchartButtonEl.classList.remove('colab-df-spinner');\n",
              "      quickchartButtonEl.classList.add('colab-df-quickchart-complete');\n",
              "    }\n",
              "    (() => {\n",
              "      let quickchartButtonEl =\n",
              "        document.querySelector('#df-dc3f8951-d54b-4a01-8ad0-2087ee14f936 button');\n",
              "      quickchartButtonEl.style.display =\n",
              "        google.colab.kernel.accessAllowed ? 'block' : 'none';\n",
              "    })();\n",
              "  </script>\n",
              "</div>\n",
              "    </div>\n",
              "  </div>\n"
            ]
          },
          "metadata": {},
          "execution_count": 22
        }
      ],
      "source": [
        "data1 = pd.concat([data_name, data_race, data], axis=1).reindex(data.index)\n",
        "data1.head()"
      ]
    },
    {
      "cell_type": "markdown",
      "id": "d702bbdb",
      "metadata": {
        "papermill": {
          "duration": 0.028203,
          "end_time": "2023-05-09T02:40:34.274896",
          "exception": false,
          "start_time": "2023-05-09T02:40:34.246693",
          "status": "completed"
        },
        "tags": [],
        "id": "d702bbdb"
      },
      "source": [
        "# Dataset is ready for EDA and Preprocessing"
      ]
    },
    {
      "cell_type": "markdown",
      "id": "d84ee6e4",
      "metadata": {
        "papermill": {
          "duration": 0.027201,
          "end_time": "2023-05-09T02:40:34.329374",
          "exception": false,
          "start_time": "2023-05-09T02:40:34.302173",
          "status": "completed"
        },
        "tags": [],
        "id": "d84ee6e4"
      },
      "source": [
        "# A drug named Lisinopril solution with DrugId 6873 is selected in building a classification model to determine side effects"
      ]
    },
    {
      "cell_type": "code",
      "execution_count": null,
      "id": "68bee141",
      "metadata": {
        "execution": {
          "iopub.execute_input": "2023-05-09T02:40:34.384531Z",
          "iopub.status.busy": "2023-05-09T02:40:34.384121Z",
          "iopub.status.idle": "2023-05-09T02:40:34.392394Z",
          "shell.execute_reply": "2023-05-09T02:40:34.391255Z"
        },
        "papermill": {
          "duration": 0.038825,
          "end_time": "2023-05-09T02:40:34.394731",
          "exception": false,
          "start_time": "2023-05-09T02:40:34.355906",
          "status": "completed"
        },
        "tags": [],
        "id": "68bee141"
      },
      "outputs": [],
      "source": [
        "data2 = data1[data1.DrugId == 6873]"
      ]
    },
    {
      "cell_type": "markdown",
      "id": "636bf3fc",
      "metadata": {
        "papermill": {
          "duration": 0.026135,
          "end_time": "2023-05-09T02:40:34.447476",
          "exception": false,
          "start_time": "2023-05-09T02:40:34.421341",
          "status": "completed"
        },
        "tags": [],
        "id": "636bf3fc"
      },
      "source": [
        "# Missing Value Handling"
      ]
    },
    {
      "cell_type": "code",
      "execution_count": null,
      "id": "84babd41",
      "metadata": {
        "execution": {
          "iopub.execute_input": "2023-05-09T02:40:34.502156Z",
          "iopub.status.busy": "2023-05-09T02:40:34.501717Z",
          "iopub.status.idle": "2023-05-09T02:40:34.523070Z",
          "shell.execute_reply": "2023-05-09T02:40:34.522006Z"
        },
        "papermill": {
          "duration": 0.050683,
          "end_time": "2023-05-09T02:40:34.525011",
          "exception": false,
          "start_time": "2023-05-09T02:40:34.474328",
          "status": "completed"
        },
        "tags": [],
        "colab": {
          "base_uri": "https://localhost:8080/"
        },
        "id": "84babd41",
        "outputId": "856da5ea-5d2b-41ce-f1d3-bc2cc83b8afe"
      },
      "outputs": [
        {
          "output_type": "execute_result",
          "data": {
            "text/plain": [
              "Name             0\n",
              "Race             0\n",
              "Age              0\n",
              "Condition        0\n",
              "Date             0\n",
              "Drug             0\n",
              "DrugId           0\n",
              "EaseofUse        0\n",
              "Effectiveness    0\n",
              "Reviews          4\n",
              "Satisfaction     0\n",
              "Sex              0\n",
              "Sides            0\n",
              "UsefulCount      0\n",
              "dtype: int64"
            ]
          },
          "metadata": {},
          "execution_count": 24
        }
      ],
      "source": [
        "data2.isna().sum()"
      ]
    },
    {
      "cell_type": "code",
      "execution_count": null,
      "id": "a5f5f5d5",
      "metadata": {
        "execution": {
          "iopub.execute_input": "2023-05-09T02:40:34.580735Z",
          "iopub.status.busy": "2023-05-09T02:40:34.580385Z",
          "iopub.status.idle": "2023-05-09T02:40:34.616523Z",
          "shell.execute_reply": "2023-05-09T02:40:34.615385Z"
        },
        "papermill": {
          "duration": 0.067065,
          "end_time": "2023-05-09T02:40:34.618669",
          "exception": false,
          "start_time": "2023-05-09T02:40:34.551604",
          "status": "completed"
        },
        "tags": [],
        "colab": {
          "base_uri": "https://localhost:8080/"
        },
        "id": "a5f5f5d5",
        "outputId": "ee246520-65d4-48a8-956c-6c18e77dcbd8"
      },
      "outputs": [
        {
          "output_type": "execute_result",
          "data": {
            "text/plain": [
              "Name             0\n",
              "Race             0\n",
              "Age              0\n",
              "Condition        0\n",
              "Date             0\n",
              "Drug             0\n",
              "DrugId           0\n",
              "EaseofUse        0\n",
              "Effectiveness    0\n",
              "Reviews          0\n",
              "Satisfaction     0\n",
              "Sex              0\n",
              "Sides            0\n",
              "UsefulCount      0\n",
              "dtype: int64"
            ]
          },
          "metadata": {},
          "execution_count": 25
        }
      ],
      "source": [
        "# Nan rows were dropped\n",
        "data2.dropna(axis = 0, inplace = True)\n",
        "data2.isna().sum()"
      ]
    },
    {
      "cell_type": "code",
      "execution_count": null,
      "id": "8ed31801",
      "metadata": {
        "execution": {
          "iopub.execute_input": "2023-05-09T02:40:34.673646Z",
          "iopub.status.busy": "2023-05-09T02:40:34.673147Z",
          "iopub.status.idle": "2023-05-09T02:40:34.714237Z",
          "shell.execute_reply": "2023-05-09T02:40:34.713138Z"
        },
        "papermill": {
          "duration": 0.071748,
          "end_time": "2023-05-09T02:40:34.716988",
          "exception": false,
          "start_time": "2023-05-09T02:40:34.645240",
          "status": "completed"
        },
        "tags": [],
        "colab": {
          "base_uri": "https://localhost:8080/"
        },
        "id": "8ed31801",
        "outputId": "780d2799-26ec-403f-bf41-7eafcab3a44f"
      },
      "outputs": [
        {
          "output_type": "execute_result",
          "data": {
            "text/plain": [
              "Name                0\n",
              "Race                0\n",
              "Age               270\n",
              "Condition           0\n",
              "Date                0\n",
              "Drug                0\n",
              "DrugId              0\n",
              "EaseofUse           0\n",
              "Effectiveness       0\n",
              "Reviews          1562\n",
              "Satisfaction        0\n",
              "Sex               494\n",
              "Sides               0\n",
              "UsefulCount         0\n",
              "dtype: int64"
            ]
          },
          "metadata": {},
          "execution_count": 26
        }
      ],
      "source": [
        "# Handling instances with whitespaces\n",
        "for i in data2:\n",
        "    data2[i]=np.where(data2[i]==\" \",np.NAN,data2[i])\n",
        "\n",
        "data2.isna().sum()"
      ]
    },
    {
      "cell_type": "code",
      "execution_count": null,
      "id": "2badb58c",
      "metadata": {
        "execution": {
          "iopub.execute_input": "2023-05-09T02:40:34.774947Z",
          "iopub.status.busy": "2023-05-09T02:40:34.774191Z",
          "iopub.status.idle": "2023-05-09T02:40:34.808566Z",
          "shell.execute_reply": "2023-05-09T02:40:34.807120Z"
        },
        "papermill": {
          "duration": 0.065917,
          "end_time": "2023-05-09T02:40:34.810886",
          "exception": false,
          "start_time": "2023-05-09T02:40:34.744969",
          "status": "completed"
        },
        "tags": [],
        "colab": {
          "base_uri": "https://localhost:8080/"
        },
        "id": "2badb58c",
        "outputId": "4c7dca8a-b57d-4e41-d1f9-4861bdb6fc13"
      },
      "outputs": [
        {
          "output_type": "execute_result",
          "data": {
            "text/plain": [
              "Name             0\n",
              "Race             0\n",
              "Age              0\n",
              "Condition        0\n",
              "Date             0\n",
              "Drug             0\n",
              "DrugId           0\n",
              "EaseofUse        0\n",
              "Effectiveness    0\n",
              "Reviews          0\n",
              "Satisfaction     0\n",
              "Sex              0\n",
              "Sides            0\n",
              "UsefulCount      0\n",
              "dtype: int64"
            ]
          },
          "metadata": {},
          "execution_count": 27
        }
      ],
      "source": [
        "data2.dropna(axis=0, inplace = True)\n",
        "data2.isna().sum()"
      ]
    },
    {
      "cell_type": "code",
      "execution_count": null,
      "id": "5dba2958",
      "metadata": {
        "execution": {
          "iopub.execute_input": "2023-05-09T02:40:34.869009Z",
          "iopub.status.busy": "2023-05-09T02:40:34.867927Z",
          "iopub.status.idle": "2023-05-09T02:40:34.903225Z",
          "shell.execute_reply": "2023-05-09T02:40:34.901833Z"
        },
        "papermill": {
          "duration": 0.067013,
          "end_time": "2023-05-09T02:40:34.905691",
          "exception": false,
          "start_time": "2023-05-09T02:40:34.838678",
          "status": "completed"
        },
        "tags": [],
        "colab": {
          "base_uri": "https://localhost:8080/"
        },
        "id": "5dba2958",
        "outputId": "e3b6b382-0e8c-41c1-c82a-4b819c613a9c"
      },
      "outputs": [
        {
          "output_type": "execute_result",
          "data": {
            "text/plain": [
              "Name             0\n",
              "Race             0\n",
              "Age              0\n",
              "Condition        0\n",
              "Date             0\n",
              "Drug             0\n",
              "DrugId           0\n",
              "EaseofUse        0\n",
              "Effectiveness    0\n",
              "Reviews          0\n",
              "Satisfaction     0\n",
              "Sex              0\n",
              "Sides            0\n",
              "UsefulCount      0\n",
              "dtype: int64"
            ]
          },
          "metadata": {},
          "execution_count": 28
        }
      ],
      "source": [
        "# Handling instances with double whitespaces\n",
        "for i in data2:\n",
        "    data2[i]=np.where(data2[i]==\"  \",np.NAN,data2[i])\n",
        "\n",
        "data2.isna().sum()"
      ]
    },
    {
      "cell_type": "markdown",
      "id": "d56ec2ad",
      "metadata": {
        "papermill": {
          "duration": 0.026889,
          "end_time": "2023-05-09T02:40:34.960150",
          "exception": false,
          "start_time": "2023-05-09T02:40:34.933261",
          "status": "completed"
        },
        "tags": [],
        "id": "d56ec2ad"
      },
      "source": [
        "# Checking each column values"
      ]
    },
    {
      "cell_type": "markdown",
      "id": "1c8ede4d",
      "metadata": {
        "papermill": {
          "duration": 0.027346,
          "end_time": "2023-05-09T02:40:35.014720",
          "exception": false,
          "start_time": "2023-05-09T02:40:34.987374",
          "status": "completed"
        },
        "tags": [],
        "id": "1c8ede4d"
      },
      "source": [
        "## Sex"
      ]
    },
    {
      "cell_type": "code",
      "execution_count": null,
      "id": "f9a1223e",
      "metadata": {
        "execution": {
          "iopub.execute_input": "2023-05-09T02:40:35.072186Z",
          "iopub.status.busy": "2023-05-09T02:40:35.071745Z",
          "iopub.status.idle": "2023-05-09T02:40:35.081191Z",
          "shell.execute_reply": "2023-05-09T02:40:35.080192Z"
        },
        "papermill": {
          "duration": 0.041531,
          "end_time": "2023-05-09T02:40:35.083353",
          "exception": false,
          "start_time": "2023-05-09T02:40:35.041822",
          "status": "completed"
        },
        "tags": [],
        "colab": {
          "base_uri": "https://localhost:8080/"
        },
        "id": "f9a1223e",
        "outputId": "2e151cd1-6db8-4877-aeed-6e60dd1fdb38"
      },
      "outputs": [
        {
          "output_type": "execute_result",
          "data": {
            "text/plain": [
              "Female    4060\n",
              "Male      2466\n",
              "Name: Sex, dtype: int64"
            ]
          },
          "metadata": {},
          "execution_count": 29
        }
      ],
      "source": [
        "data2.Sex.value_counts()"
      ]
    },
    {
      "cell_type": "markdown",
      "id": "3fdd87f7",
      "metadata": {
        "papermill": {
          "duration": 0.0273,
          "end_time": "2023-05-09T02:40:35.137684",
          "exception": false,
          "start_time": "2023-05-09T02:40:35.110384",
          "status": "completed"
        },
        "tags": [],
        "id": "3fdd87f7"
      },
      "source": [
        "## Age"
      ]
    },
    {
      "cell_type": "code",
      "execution_count": null,
      "id": "412b4944",
      "metadata": {
        "execution": {
          "iopub.execute_input": "2023-05-09T02:40:35.197061Z",
          "iopub.status.busy": "2023-05-09T02:40:35.196675Z",
          "iopub.status.idle": "2023-05-09T02:40:35.205126Z",
          "shell.execute_reply": "2023-05-09T02:40:35.204025Z"
        },
        "papermill": {
          "duration": 0.038814,
          "end_time": "2023-05-09T02:40:35.207124",
          "exception": false,
          "start_time": "2023-05-09T02:40:35.168310",
          "status": "completed"
        },
        "tags": [],
        "colab": {
          "base_uri": "https://localhost:8080/"
        },
        "id": "412b4944",
        "outputId": "c15abcfb-e030-44dc-c06f-bc6da88d91e9"
      },
      "outputs": [
        {
          "output_type": "execute_result",
          "data": {
            "text/plain": [
              "55-64         1912\n",
              "45-54         1760\n",
              "65-74         1148\n",
              "35-44          858\n",
              "75 or over     490\n",
              "25-34          306\n",
              "19-24           44\n",
              "13-18            6\n",
              "0-2              2\n",
              "Name: Age, dtype: int64"
            ]
          },
          "metadata": {},
          "execution_count": 30
        }
      ],
      "source": [
        "data2.Age.value_counts()"
      ]
    },
    {
      "cell_type": "markdown",
      "id": "245f1bcd",
      "metadata": {
        "papermill": {
          "duration": 0.026704,
          "end_time": "2023-05-09T02:40:35.260861",
          "exception": false,
          "start_time": "2023-05-09T02:40:35.234157",
          "status": "completed"
        },
        "tags": [],
        "id": "245f1bcd"
      },
      "source": [
        "## Date"
      ]
    },
    {
      "cell_type": "code",
      "execution_count": null,
      "id": "d4c62328",
      "metadata": {
        "execution": {
          "iopub.execute_input": "2023-05-09T02:40:35.317137Z",
          "iopub.status.busy": "2023-05-09T02:40:35.316114Z",
          "iopub.status.idle": "2023-05-09T02:40:35.340520Z",
          "shell.execute_reply": "2023-05-09T02:40:35.339399Z"
        },
        "papermill": {
          "duration": 0.055017,
          "end_time": "2023-05-09T02:40:35.342979",
          "exception": false,
          "start_time": "2023-05-09T02:40:35.287962",
          "status": "completed"
        },
        "tags": [],
        "id": "d4c62328"
      },
      "outputs": [],
      "source": [
        "data2['Year'] = pd.to_datetime(data2['Date'], errors='coerce').dt.year\n",
        "data2['Month'] = pd.to_datetime(data2['Date'], errors='coerce').dt.month\n",
        "data2['day_of_week'] = pd.to_datetime(data2['Date'], errors='coerce').dt.day_name()"
      ]
    },
    {
      "cell_type": "code",
      "execution_count": null,
      "id": "7ef97666",
      "metadata": {
        "execution": {
          "iopub.execute_input": "2023-05-09T02:40:35.399939Z",
          "iopub.status.busy": "2023-05-09T02:40:35.399392Z",
          "iopub.status.idle": "2023-05-09T02:40:35.420575Z",
          "shell.execute_reply": "2023-05-09T02:40:35.419432Z"
        },
        "papermill": {
          "duration": 0.052575,
          "end_time": "2023-05-09T02:40:35.422955",
          "exception": false,
          "start_time": "2023-05-09T02:40:35.370380",
          "status": "completed"
        },
        "tags": [],
        "id": "7ef97666"
      },
      "outputs": [],
      "source": [
        "data2.head(5)"
      ]
    },
    {
      "cell_type": "markdown",
      "id": "48d20906",
      "metadata": {
        "papermill": {
          "duration": 0.026998,
          "end_time": "2023-05-09T02:40:35.477658",
          "exception": false,
          "start_time": "2023-05-09T02:40:35.450660",
          "status": "completed"
        },
        "tags": [],
        "id": "48d20906"
      },
      "source": [
        "## Year, Month and Day of week column generated"
      ]
    },
    {
      "cell_type": "markdown",
      "id": "ccaa2bd1",
      "metadata": {
        "papermill": {
          "duration": 0.027987,
          "end_time": "2023-05-09T02:40:35.533113",
          "exception": false,
          "start_time": "2023-05-09T02:40:35.505126",
          "status": "completed"
        },
        "tags": [],
        "id": "ccaa2bd1"
      },
      "source": [
        "## Useful Count"
      ]
    },
    {
      "cell_type": "code",
      "execution_count": null,
      "id": "ce95ae7a",
      "metadata": {
        "execution": {
          "iopub.execute_input": "2023-05-09T02:40:35.591593Z",
          "iopub.status.busy": "2023-05-09T02:40:35.590652Z",
          "iopub.status.idle": "2023-05-09T02:40:36.008001Z",
          "shell.execute_reply": "2023-05-09T02:40:36.006857Z"
        },
        "papermill": {
          "duration": 0.449084,
          "end_time": "2023-05-09T02:40:36.010640",
          "exception": false,
          "start_time": "2023-05-09T02:40:35.561556",
          "status": "completed"
        },
        "tags": [],
        "colab": {
          "base_uri": "https://localhost:8080/",
          "height": 310
        },
        "id": "ce95ae7a",
        "outputId": "08057428-b503-4232-bd41-8e87b659beae"
      },
      "outputs": [
        {
          "output_type": "execute_result",
          "data": {
            "text/plain": [
              "5.09650737167029"
            ]
          },
          "metadata": {},
          "execution_count": 32
        },
        {
          "output_type": "display_data",
          "data": {
            "text/plain": [
              "<Figure size 1000x600 with 2 Axes>"
            ],
            "image/png": "[encoded data removed]"
          },
          "metadata": {}
        }
      ],
      "source": [
        "plt.figure(figsize=(10,6))\n",
        "\n",
        "plt.subplot(2,2,1)\n",
        "plt.boxplot(data2[\"UsefulCount\"])\n",
        "plt.title(\" Box Plot\")\n",
        "\n",
        "plt.subplot(2,2,2)\n",
        "plt.hist(data2[\"UsefulCount\"])\n",
        "plt.title(\" Histogram\")\n",
        "data2.UsefulCount.skew()"
      ]
    },
    {
      "cell_type": "code",
      "execution_count": null,
      "id": "51d98c0e",
      "metadata": {
        "execution": {
          "iopub.execute_input": "2023-05-09T02:40:36.069265Z",
          "iopub.status.busy": "2023-05-09T02:40:36.068750Z",
          "iopub.status.idle": "2023-05-09T02:40:36.462558Z",
          "shell.execute_reply": "2023-05-09T02:40:36.461746Z"
        },
        "papermill": {
          "duration": 0.425535,
          "end_time": "2023-05-09T02:40:36.464529",
          "exception": false,
          "start_time": "2023-05-09T02:40:36.038994",
          "status": "completed"
        },
        "tags": [],
        "colab": {
          "base_uri": "https://localhost:8080/",
          "height": 310
        },
        "id": "51d98c0e",
        "outputId": "6664885a-d3d8-441d-f4da-b2eb084b0b6c"
      },
      "outputs": [
        {
          "output_type": "execute_result",
          "data": {
            "text/plain": [
              "0.13539917023288633"
            ]
          },
          "metadata": {},
          "execution_count": 33
        },
        {
          "output_type": "display_data",
          "data": {
            "text/plain": [
              "<Figure size 1000x600 with 2 Axes>"
            ],
            "image/png": "[encoded data removed]"
          },
          "metadata": {}
        }
      ],
      "source": [
        "data_Usefulcount = pd.DataFrame(data2['UsefulCount'])\n",
        "\n",
        "scaler = MinMaxScaler(feature_range=(1, 2))\n",
        "power = PowerTransformer(method='box-cox')\n",
        "pipeline = Pipeline(steps=[('s', scaler),('p', power)])\n",
        "data_Usefulcount1 = pipeline.fit_transform(data_Usefulcount)\n",
        "\n",
        "plt.figure(figsize=(10,6))\n",
        "\n",
        "plt.subplot(2,2,1)\n",
        "plt.boxplot(data_Usefulcount1)\n",
        "plt.title(\" Box Plot\")\n",
        "\n",
        "plt.subplot(2,2,2)\n",
        "plt.hist(data_Usefulcount1)\n",
        "plt.title(\" Histogram\")\n",
        "\n",
        "data2['UsefulCount_boxcox'] = data_Usefulcount1\n",
        "data2['UsefulCount_boxcox'].skew()"
      ]
    },
    {
      "cell_type": "markdown",
      "id": "eb8d2ab1",
      "metadata": {
        "papermill": {
          "duration": 0.029109,
          "end_time": "2023-05-09T02:40:36.523121",
          "exception": false,
          "start_time": "2023-05-09T02:40:36.494012",
          "status": "completed"
        },
        "tags": [],
        "id": "eb8d2ab1"
      },
      "source": [
        "## EaseofUse"
      ]
    },
    {
      "cell_type": "code",
      "execution_count": null,
      "id": "8e0aa08c",
      "metadata": {
        "execution": {
          "iopub.execute_input": "2023-05-09T02:40:36.583246Z",
          "iopub.status.busy": "2023-05-09T02:40:36.582279Z",
          "iopub.status.idle": "2023-05-09T02:40:36.945954Z",
          "shell.execute_reply": "2023-05-09T02:40:36.944831Z"
        },
        "papermill": {
          "duration": 0.396558,
          "end_time": "2023-05-09T02:40:36.948218",
          "exception": false,
          "start_time": "2023-05-09T02:40:36.551660",
          "status": "completed"
        },
        "tags": [],
        "colab": {
          "base_uri": "https://localhost:8080/",
          "height": 310
        },
        "id": "8e0aa08c",
        "outputId": "d9ddee76-c417-4de1-ec13-0f5f7120aad9"
      },
      "outputs": [
        {
          "output_type": "execute_result",
          "data": {
            "text/plain": [
              "-1.0956719032464681"
            ]
          },
          "metadata": {},
          "execution_count": 34
        },
        {
          "output_type": "display_data",
          "data": {
            "text/plain": [
              "<Figure size 1000x600 with 2 Axes>"
            ],
            "image/png": "[encoded data removed]"
          },
          "metadata": {}
        }
      ],
      "source": [
        "plt.figure(figsize=(10,6))\n",
        "\n",
        "plt.subplot(2,2,1)\n",
        "plt.boxplot(data2[\"EaseofUse\"])\n",
        "plt.title(\" Box Plot\")\n",
        "\n",
        "plt.subplot(2,2,2)\n",
        "plt.hist(data2[\"EaseofUse\"])\n",
        "plt.title(\" Histogram\")\n",
        "data2.EaseofUse.skew()"
      ]
    },
    {
      "cell_type": "code",
      "execution_count": null,
      "id": "871bfc99",
      "metadata": {
        "execution": {
          "iopub.execute_input": "2023-05-09T02:40:37.010092Z",
          "iopub.status.busy": "2023-05-09T02:40:37.009651Z",
          "iopub.status.idle": "2023-05-09T02:40:37.413601Z",
          "shell.execute_reply": "2023-05-09T02:40:37.412348Z"
        },
        "papermill": {
          "duration": 0.437203,
          "end_time": "2023-05-09T02:40:37.415886",
          "exception": false,
          "start_time": "2023-05-09T02:40:36.978683",
          "status": "completed"
        },
        "tags": [],
        "colab": {
          "base_uri": "https://localhost:8080/",
          "height": 310
        },
        "id": "871bfc99",
        "outputId": "2f604b83-3500-44d4-a575-fa6bf812fedb"
      },
      "outputs": [
        {
          "output_type": "execute_result",
          "data": {
            "text/plain": [
              "-0.4695297334699221"
            ]
          },
          "metadata": {},
          "execution_count": 35
        },
        {
          "output_type": "display_data",
          "data": {
            "text/plain": [
              "<Figure size 1000x600 with 2 Axes>"
            ],
            "image/png": "[encoded data removed]"
          },
          "metadata": {}
        }
      ],
      "source": [
        "scaler = MinMaxScaler(feature_range=(1, 2))\n",
        "power = PowerTransformer(method='box-cox')\n",
        "pipeline = Pipeline(steps=[('s', scaler),('p', power)])\n",
        "\n",
        "data_EaseofUse = pd.DataFrame(data2['EaseofUse'])\n",
        "data_EaseofUse1 = pipeline.fit_transform(data_EaseofUse)\n",
        "\n",
        "plt.figure(figsize=(10,6))\n",
        "\n",
        "plt.subplot(2,2,1)\n",
        "plt.boxplot(data_EaseofUse1)\n",
        "plt.title(\" Box Plot\")\n",
        "\n",
        "plt.subplot(2,2,2)\n",
        "plt.hist(data_EaseofUse1)\n",
        "plt.title(\" Histogram\")\n",
        "\n",
        "data2['EaseofUse_boxcox'] = data_EaseofUse1\n",
        "data2.EaseofUse_boxcox.skew()"
      ]
    },
    {
      "cell_type": "markdown",
      "id": "08b3d1db",
      "metadata": {
        "papermill": {
          "duration": 0.0292,
          "end_time": "2023-05-09T02:40:37.474950",
          "exception": false,
          "start_time": "2023-05-09T02:40:37.445750",
          "status": "completed"
        },
        "tags": [],
        "id": "08b3d1db"
      },
      "source": [
        "## Satisfaction column"
      ]
    },
    {
      "cell_type": "code",
      "execution_count": null,
      "id": "fdab1bd4",
      "metadata": {
        "execution": {
          "iopub.execute_input": "2023-05-09T02:40:37.537166Z",
          "iopub.status.busy": "2023-05-09T02:40:37.536417Z",
          "iopub.status.idle": "2023-05-09T02:40:37.900259Z",
          "shell.execute_reply": "2023-05-09T02:40:37.899090Z"
        },
        "papermill": {
          "duration": 0.398,
          "end_time": "2023-05-09T02:40:37.902753",
          "exception": false,
          "start_time": "2023-05-09T02:40:37.504753",
          "status": "completed"
        },
        "tags": [],
        "colab": {
          "base_uri": "https://localhost:8080/",
          "height": 310
        },
        "id": "fdab1bd4",
        "outputId": "a14c30a5-8c5e-4889-c690-3668320f0dd7"
      },
      "outputs": [
        {
          "output_type": "execute_result",
          "data": {
            "text/plain": [
              "0.46899147382396195"
            ]
          },
          "metadata": {},
          "execution_count": 36
        },
        {
          "output_type": "display_data",
          "data": {
            "text/plain": [
              "<Figure size 1000x600 with 2 Axes>"
            ],
            "image/png": "[encoded data removed]"
          },
          "metadata": {}
        }
      ],
      "source": [
        "plt.figure(figsize=(10,6))\n",
        "\n",
        "plt.subplot(2,2,1)\n",
        "plt.boxplot(data2[\"Satisfaction\"])\n",
        "plt.title(\" Box Plot\")\n",
        "\n",
        "plt.subplot(2,2,2)\n",
        "plt.hist(data2[\"Satisfaction\"])\n",
        "plt.title(\" Histogram\")\n",
        "data2.Satisfaction.skew()"
      ]
    },
    {
      "cell_type": "markdown",
      "id": "1a34987a",
      "metadata": {
        "papermill": {
          "duration": 0.029463,
          "end_time": "2023-05-09T02:40:37.962058",
          "exception": false,
          "start_time": "2023-05-09T02:40:37.932595",
          "status": "completed"
        },
        "tags": [],
        "id": "1a34987a"
      },
      "source": [
        "## Effectiveness"
      ]
    },
    {
      "cell_type": "code",
      "execution_count": null,
      "id": "1a7315c2",
      "metadata": {
        "execution": {
          "iopub.execute_input": "2023-05-09T02:40:38.024026Z",
          "iopub.status.busy": "2023-05-09T02:40:38.023108Z",
          "iopub.status.idle": "2023-05-09T02:40:38.388842Z",
          "shell.execute_reply": "2023-05-09T02:40:38.387801Z"
        },
        "papermill": {
          "duration": 0.399337,
          "end_time": "2023-05-09T02:40:38.391239",
          "exception": false,
          "start_time": "2023-05-09T02:40:37.991902",
          "status": "completed"
        },
        "tags": [],
        "colab": {
          "base_uri": "https://localhost:8080/",
          "height": 310
        },
        "id": "1a7315c2",
        "outputId": "13d4ef1f-9d25-4c32-d51d-5d0b37fab092"
      },
      "outputs": [
        {
          "output_type": "execute_result",
          "data": {
            "text/plain": [
              "-0.35269982353771245"
            ]
          },
          "metadata": {},
          "execution_count": 37
        },
        {
          "output_type": "display_data",
          "data": {
            "text/plain": [
              "<Figure size 1000x600 with 2 Axes>"
            ],
            "image/png": "[encoded data removed]"
          },
          "metadata": {}
        }
      ],
      "source": [
        "plt.figure(figsize=(10,6))\n",
        "\n",
        "plt.subplot(2,2,1)\n",
        "plt.boxplot(data2[\"Effectiveness\"])\n",
        "plt.title(\" Box Plot\")\n",
        "\n",
        "plt.subplot(2,2,2)\n",
        "plt.hist(data2[\"Effectiveness\"])\n",
        "plt.title(\" Histogram\")\n",
        "data2.Effectiveness.skew()"
      ]
    },
    {
      "cell_type": "markdown",
      "id": "37b58c07",
      "metadata": {
        "papermill": {
          "duration": 0.031602,
          "end_time": "2023-05-09T02:40:38.454162",
          "exception": false,
          "start_time": "2023-05-09T02:40:38.422560",
          "status": "completed"
        },
        "tags": [],
        "id": "37b58c07"
      },
      "source": [
        "### After checking the skewness and outliers, Usefulcount, easeofuse, effectiveness and satisfaction column has been processed"
      ]
    },
    {
      "cell_type": "markdown",
      "id": "a4e7dff2",
      "metadata": {
        "papermill": {
          "duration": 0.030194,
          "end_time": "2023-05-09T02:40:38.514854",
          "exception": false,
          "start_time": "2023-05-09T02:40:38.484660",
          "status": "completed"
        },
        "tags": [],
        "id": "a4e7dff2"
      },
      "source": [
        "# New Feature creation: Sideeffect"
      ]
    },
    {
      "cell_type": "code",
      "execution_count": null,
      "id": "662440ea",
      "metadata": {
        "execution": {
          "iopub.execute_input": "2023-05-09T02:40:38.577842Z",
          "iopub.status.busy": "2023-05-09T02:40:38.577462Z",
          "iopub.status.idle": "2023-05-09T02:40:38.585638Z",
          "shell.execute_reply": "2023-05-09T02:40:38.584560Z"
        },
        "papermill": {
          "duration": 0.042466,
          "end_time": "2023-05-09T02:40:38.588024",
          "exception": false,
          "start_time": "2023-05-09T02:40:38.545558",
          "status": "completed"
        },
        "tags": [],
        "id": "662440ea"
      },
      "outputs": [],
      "source": [
        "mapping = {1: 5, 2: 4, 3: 3, 4: 2, 5: 1}\n",
        "data2['Sideeffect'] = data2['Satisfaction'].map(mapping)\n",
        "# data2.loc[data2['Satisfaction'] == 1, 'Sideeffect'] = data2.loc[data2['Satisfaction'] == 1,5, 'Sideeffect']"
      ]
    },
    {
      "cell_type": "code",
      "execution_count": null,
      "id": "61a784ee",
      "metadata": {
        "execution": {
          "iopub.execute_input": "2023-05-09T02:40:38.651703Z",
          "iopub.status.busy": "2023-05-09T02:40:38.651103Z",
          "iopub.status.idle": "2023-05-09T02:40:38.657691Z",
          "shell.execute_reply": "2023-05-09T02:40:38.656762Z"
        },
        "papermill": {
          "duration": 0.04027,
          "end_time": "2023-05-09T02:40:38.659638",
          "exception": false,
          "start_time": "2023-05-09T02:40:38.619368",
          "status": "completed"
        },
        "tags": [],
        "id": "61a784ee"
      },
      "outputs": [],
      "source": [
        "data2.columns"
      ]
    },
    {
      "cell_type": "markdown",
      "id": "1c734cf6",
      "metadata": {
        "papermill": {
          "duration": 0.030322,
          "end_time": "2023-05-09T02:40:38.720484",
          "exception": false,
          "start_time": "2023-05-09T02:40:38.690162",
          "status": "completed"
        },
        "tags": [],
        "id": "1c734cf6"
      },
      "source": [
        "# Exploratory Data Analysis"
      ]
    },
    {
      "cell_type": "markdown",
      "id": "29d42d05",
      "metadata": {
        "papermill": {
          "duration": 0.030201,
          "end_time": "2023-05-09T02:40:38.780864",
          "exception": false,
          "start_time": "2023-05-09T02:40:38.750663",
          "status": "completed"
        },
        "tags": [],
        "id": "29d42d05"
      },
      "source": [
        "## Top 20 Drugs based on No. of Users"
      ]
    },
    {
      "cell_type": "code",
      "execution_count": null,
      "id": "29929f8b",
      "metadata": {
        "execution": {
          "iopub.execute_input": "2023-05-09T02:40:38.843937Z",
          "iopub.status.busy": "2023-05-09T02:40:38.843329Z",
          "iopub.status.idle": "2023-05-09T02:40:39.235962Z",
          "shell.execute_reply": "2023-05-09T02:40:39.235203Z"
        },
        "papermill": {
          "duration": 0.426593,
          "end_time": "2023-05-09T02:40:39.237943",
          "exception": false,
          "start_time": "2023-05-09T02:40:38.811350",
          "status": "completed"
        },
        "tags": [],
        "colab": {
          "base_uri": "https://localhost:8080/",
          "height": 673
        },
        "id": "29929f8b",
        "outputId": "0018c51e-b8b4-4481-8c14-40d5afcf6809"
      },
      "outputs": [
        {
          "output_type": "display_data",
          "data": {
            "text/plain": [
              "<Figure size 640x480 with 1 Axes>"
            ],
            "image/png": "[encoded data removed]"
          },
          "metadata": {}
        }
      ],
      "source": [
        "data_= data['Drug'].value_counts().head(20).reset_index()\n",
        "data_.columns = ['Drug', 'Name']\n",
        "sns.barplot(data=data_, x = 'Drug', y = 'Name')\n",
        "plt.suptitle(\"Top 20 Drugs\")\n",
        "plt.xticks(rotation=90,fontsize=10)\n",
        "plt.show()"
      ]
    },
    {
      "cell_type": "markdown",
      "id": "8217825d",
      "metadata": {
        "papermill": {
          "duration": 0.031666,
          "end_time": "2023-05-09T02:40:39.301656",
          "exception": false,
          "start_time": "2023-05-09T02:40:39.269990",
          "status": "completed"
        },
        "tags": [],
        "id": "8217825d"
      },
      "source": [
        "#### Cymbalta tops the list followed by Lisinopril. It is to be noted that all the 20 drugs has been used by more than atleast 2000 people"
      ]
    },
    {
      "cell_type": "markdown",
      "id": "2d3f825d",
      "metadata": {
        "papermill": {
          "duration": 0.032733,
          "end_time": "2023-05-09T02:40:39.366139",
          "exception": false,
          "start_time": "2023-05-09T02:40:39.333406",
          "status": "completed"
        },
        "tags": [],
        "id": "2d3f825d"
      },
      "source": [
        "## Top 15 Conditions"
      ]
    },
    {
      "cell_type": "code",
      "execution_count": null,
      "id": "e433ba87",
      "metadata": {
        "execution": {
          "iopub.execute_input": "2023-05-09T02:40:39.432851Z",
          "iopub.status.busy": "2023-05-09T02:40:39.431889Z",
          "iopub.status.idle": "2023-05-09T02:40:39.947518Z",
          "shell.execute_reply": "2023-05-09T02:40:39.946410Z"
        },
        "papermill": {
          "duration": 0.551777,
          "end_time": "2023-05-09T02:40:39.950139",
          "exception": false,
          "start_time": "2023-05-09T02:40:39.398362",
          "status": "completed"
        },
        "tags": [],
        "colab": {
          "base_uri": "https://localhost:8080/",
          "height": 1000
        },
        "id": "e433ba87",
        "outputId": "4f096394-5609-43d2-f36e-738da800edec"
      },
      "outputs": [
        {
          "output_type": "execute_result",
          "data": {
            "text/plain": [
              "Text(0, 0.5, 'Users')"
            ]
          },
          "metadata": {},
          "execution_count": 40
        },
        {
          "output_type": "display_data",
          "data": {
            "text/plain": [
              "<Figure size 800x800 with 1 Axes>"
            ],
            "image/png": "[encoded data removed]"
          },
          "metadata": {}
        }
      ],
      "source": [
        "data['Condition'].value_counts().nlargest(20).plot(kind='bar',figsize=(8,8))\n",
        "plt.suptitle(\"Top 15 Conditions\")\n",
        "plt.xlabel('Conditions')\n",
        "plt.ylabel('Users')"
      ]
    },
    {
      "cell_type": "markdown",
      "id": "58cacbfc",
      "metadata": {
        "papermill": {
          "duration": 0.032313,
          "end_time": "2023-05-09T02:40:40.016155",
          "exception": false,
          "start_time": "2023-05-09T02:40:39.983842",
          "status": "completed"
        },
        "tags": [],
        "id": "58cacbfc"
      },
      "source": [
        "#### As much as 50,000 users have reported other conditions followed by Pain topped the list with more than 25000 people reporting it."
      ]
    },
    {
      "cell_type": "markdown",
      "id": "8df1f2b9",
      "metadata": {
        "papermill": {
          "duration": 0.032724,
          "end_time": "2023-05-09T02:40:40.081226",
          "exception": false,
          "start_time": "2023-05-09T02:40:40.048502",
          "status": "completed"
        },
        "tags": [],
        "id": "8df1f2b9"
      },
      "source": [
        "# EDA on Licinopril"
      ]
    },
    {
      "cell_type": "markdown",
      "id": "d45d5cb2",
      "metadata": {
        "papermill": {
          "duration": 0.032574,
          "end_time": "2023-05-09T02:40:40.146374",
          "exception": false,
          "start_time": "2023-05-09T02:40:40.113800",
          "status": "completed"
        },
        "tags": [],
        "id": "d45d5cb2"
      },
      "source": [
        "## Which gender is the predominant user?"
      ]
    },
    {
      "cell_type": "code",
      "execution_count": null,
      "id": "a94d6823",
      "metadata": {
        "execution": {
          "iopub.execute_input": "2023-05-09T02:40:40.218599Z",
          "iopub.status.busy": "2023-05-09T02:40:40.218213Z",
          "iopub.status.idle": "2023-05-09T02:40:40.439072Z",
          "shell.execute_reply": "2023-05-09T02:40:40.438208Z"
        },
        "papermill": {
          "duration": 0.257883,
          "end_time": "2023-05-09T02:40:40.441607",
          "exception": false,
          "start_time": "2023-05-09T02:40:40.183724",
          "status": "completed"
        },
        "tags": [],
        "colab": {
          "base_uri": "https://localhost:8080/",
          "height": 412
        },
        "id": "a94d6823",
        "outputId": "0bbc0de0-dde9-464e-dddb-7b3bdf1be62d"
      },
      "outputs": [
        {
          "output_type": "display_data",
          "data": {
            "text/plain": [
              "<Figure size 400x400 with 1 Axes>"
            ],
            "image/png": "[encoded data removed]"
          },
          "metadata": {}
        }
      ],
      "source": [
        "plt.figure(figsize = (4,4))\n",
        "s=sns.countplot(x='Sex', data=data2)\n",
        "plt.title('Users by Gender', fontsize=15)\n",
        "plt.xlabel('Sex')\n",
        "plt.ylabel('Count')\n",
        "plt.show()"
      ]
    },
    {
      "cell_type": "markdown",
      "id": "adab6214",
      "metadata": {
        "papermill": {
          "duration": 0.035051,
          "end_time": "2023-05-09T02:40:40.510526",
          "exception": false,
          "start_time": "2023-05-09T02:40:40.475475",
          "status": "completed"
        },
        "tags": [],
        "id": "adab6214"
      },
      "source": [
        "#### Female users are predominant"
      ]
    },
    {
      "cell_type": "markdown",
      "id": "ef1a09ee",
      "metadata": {
        "papermill": {
          "duration": 0.032785,
          "end_time": "2023-05-09T02:40:40.577161",
          "exception": false,
          "start_time": "2023-05-09T02:40:40.544376",
          "status": "completed"
        },
        "tags": [],
        "id": "ef1a09ee"
      },
      "source": [
        "#### Which race is the predominant user?"
      ]
    },
    {
      "cell_type": "code",
      "execution_count": null,
      "id": "44186f92",
      "metadata": {
        "execution": {
          "iopub.execute_input": "2023-05-09T02:40:40.644910Z",
          "iopub.status.busy": "2023-05-09T02:40:40.644310Z",
          "iopub.status.idle": "2023-05-09T02:40:40.920933Z",
          "shell.execute_reply": "2023-05-09T02:40:40.920099Z"
        },
        "papermill": {
          "duration": 0.312965,
          "end_time": "2023-05-09T02:40:40.922943",
          "exception": false,
          "start_time": "2023-05-09T02:40:40.609978",
          "status": "completed"
        },
        "tags": [],
        "colab": {
          "base_uri": "https://localhost:8080/",
          "height": 531
        },
        "id": "44186f92",
        "outputId": "a926e4a0-4fe4-4698-da2e-5083cfe38766"
      },
      "outputs": [
        {
          "output_type": "execute_result",
          "data": {
            "text/plain": [
              "Text(0, 0.5, 'Count')"
            ]
          },
          "metadata": {},
          "execution_count": 42
        },
        {
          "output_type": "display_data",
          "data": {
            "text/plain": [
              "<Figure size 640x480 with 1 Axes>"
            ],
            "image/png": "[encoded data removed]"
          },
          "metadata": {}
        }
      ],
      "source": [
        "data2['Race'].value_counts().plot(kind='bar')\n",
        "plt.title(\"Race\", fontsize = 10)\n",
        "plt.xlabel(\"Race\", fontsize = 10)\n",
        "plt.ylabel(\"Count\", fontsize = 10)"
      ]
    },
    {
      "cell_type": "markdown",
      "id": "5d3777d5",
      "metadata": {
        "papermill": {
          "duration": 0.033697,
          "end_time": "2023-05-09T02:40:40.990802",
          "exception": false,
          "start_time": "2023-05-09T02:40:40.957105",
          "status": "completed"
        },
        "tags": [],
        "id": "5d3777d5"
      },
      "source": [
        "#### In each race, which gender is the predominant user?"
      ]
    },
    {
      "cell_type": "code",
      "execution_count": null,
      "id": "c6356bc8",
      "metadata": {
        "execution": {
          "iopub.execute_input": "2023-05-09T02:40:41.061275Z",
          "iopub.status.busy": "2023-05-09T02:40:41.060837Z",
          "iopub.status.idle": "2023-05-09T02:40:41.376548Z",
          "shell.execute_reply": "2023-05-09T02:40:41.375301Z"
        },
        "papermill": {
          "duration": 0.354134,
          "end_time": "2023-05-09T02:40:41.379106",
          "exception": false,
          "start_time": "2023-05-09T02:40:41.024972",
          "status": "completed"
        },
        "tags": [],
        "colab": {
          "base_uri": "https://localhost:8080/",
          "height": 486
        },
        "id": "c6356bc8",
        "outputId": "aef93770-c879-41a1-d3b1-a8fb5e2bcaed"
      },
      "outputs": [
        {
          "output_type": "execute_result",
          "data": {
            "text/plain": [
              "Text(0.5, 1.0, 'Users by Race and Gender')"
            ]
          },
          "metadata": {},
          "execution_count": 43
        },
        {
          "output_type": "display_data",
          "data": {
            "text/plain": [
              "<Figure size 640x480 with 1 Axes>"
            ],
            "image/png": "[encoded data removed]"
          },
          "metadata": {}
        }
      ],
      "source": [
        "sns.countplot(x='Race',hue='Sex',data=data2)\n",
        "plt.title(\"Users by Race and Gender\", fontsize = 10)"
      ]
    },
    {
      "cell_type": "markdown",
      "id": "9bacb2ba",
      "metadata": {
        "papermill": {
          "duration": 0.033816,
          "end_time": "2023-05-09T02:40:41.447596",
          "exception": false,
          "start_time": "2023-05-09T02:40:41.413780",
          "status": "completed"
        },
        "tags": [],
        "id": "9bacb2ba"
      },
      "source": [
        "#### In each age group, which gender is the predominant user?"
      ]
    },
    {
      "cell_type": "code",
      "execution_count": null,
      "id": "2aab4bf5",
      "metadata": {
        "execution": {
          "iopub.execute_input": "2023-05-09T02:40:41.521953Z",
          "iopub.status.busy": "2023-05-09T02:40:41.521575Z",
          "iopub.status.idle": "2023-05-09T02:40:41.904508Z",
          "shell.execute_reply": "2023-05-09T02:40:41.903249Z"
        },
        "papermill": {
          "duration": 0.422298,
          "end_time": "2023-05-09T02:40:41.906890",
          "exception": false,
          "start_time": "2023-05-09T02:40:41.484592",
          "status": "completed"
        },
        "tags": [],
        "colab": {
          "base_uri": "https://localhost:8080/",
          "height": 578
        },
        "id": "2aab4bf5",
        "outputId": "ce263c20-deb6-4b78-f832-0f4d88e825d0"
      },
      "outputs": [
        {
          "output_type": "execute_result",
          "data": {
            "text/plain": [
              "Text(0.5, 1.0, 'Users by Age and Gender')"
            ]
          },
          "metadata": {},
          "execution_count": 44
        },
        {
          "output_type": "display_data",
          "data": {
            "text/plain": [
              "<Figure size 1000x600 with 1 Axes>"
            ],
            "image/png": "[encoded data removed]"
          },
          "metadata": {}
        }
      ],
      "source": [
        "plt.figure(figsize=(10, 6))\n",
        "sns.countplot(x='Age',hue='Sex',data=data2)\n",
        "plt.title(\"Users by Age and Gender\", fontsize = 10)"
      ]
    },
    {
      "cell_type": "markdown",
      "id": "9eb89a91",
      "metadata": {
        "papermill": {
          "duration": 0.034995,
          "end_time": "2023-05-09T02:40:41.977060",
          "exception": false,
          "start_time": "2023-05-09T02:40:41.942065",
          "status": "completed"
        },
        "tags": [],
        "id": "9eb89a91"
      },
      "source": [
        "#### In each year, how many reviews were collected?"
      ]
    },
    {
      "cell_type": "code",
      "execution_count": null,
      "id": "ea7fda97",
      "metadata": {
        "execution": {
          "iopub.execute_input": "2023-05-09T02:40:42.048986Z",
          "iopub.status.busy": "2023-05-09T02:40:42.048574Z",
          "iopub.status.idle": "2023-05-09T02:40:42.393511Z",
          "shell.execute_reply": "2023-05-09T02:40:42.392265Z"
        },
        "papermill": {
          "duration": 0.384285,
          "end_time": "2023-05-09T02:40:42.396345",
          "exception": false,
          "start_time": "2023-05-09T02:40:42.012060",
          "status": "completed"
        },
        "tags": [],
        "colab": {
          "base_uri": "https://localhost:8080/",
          "height": 507
        },
        "id": "ea7fda97",
        "outputId": "fccb9928-5552-44ff-9dee-aa0a2c3f44f6"
      },
      "outputs": [
        {
          "output_type": "execute_result",
          "data": {
            "text/plain": [
              "Text(0, 0.5, 'Count of Reviews')"
            ]
          },
          "metadata": {},
          "execution_count": 45
        },
        {
          "output_type": "display_data",
          "data": {
            "text/plain": [
              "<Figure size 640x480 with 1 Axes>"
            ],
            "image/png": "[encoded data removed]"
          },
          "metadata": {}
        }
      ],
      "source": [
        "data2['Year'].value_counts().plot(kind='bar')\n",
        "plt.title(\"Year\", fontsize = 10)\n",
        "plt.xlabel(\"Year\", fontsize = 10)\n",
        "plt.ylabel(\"Count of Reviews\", fontsize = 10)"
      ]
    },
    {
      "cell_type": "markdown",
      "id": "32392500",
      "metadata": {
        "papermill": {
          "duration": 0.036428,
          "end_time": "2023-05-09T02:40:42.468088",
          "exception": false,
          "start_time": "2023-05-09T02:40:42.431660",
          "status": "completed"
        },
        "tags": [],
        "id": "32392500"
      },
      "source": [
        "#### In each year, there is a gradual decrease in user reviews"
      ]
    },
    {
      "cell_type": "markdown",
      "id": "08bbba16",
      "metadata": {
        "papermill": {
          "duration": 0.035831,
          "end_time": "2023-05-09T02:40:42.539915",
          "exception": false,
          "start_time": "2023-05-09T02:40:42.504084",
          "status": "completed"
        },
        "tags": [],
        "id": "08bbba16"
      },
      "source": [
        "#### how effective is the drug?"
      ]
    },
    {
      "cell_type": "code",
      "execution_count": null,
      "id": "20f2db43",
      "metadata": {
        "execution": {
          "iopub.execute_input": "2023-05-09T02:40:42.614455Z",
          "iopub.status.busy": "2023-05-09T02:40:42.613533Z",
          "iopub.status.idle": "2023-05-09T02:40:42.891219Z",
          "shell.execute_reply": "2023-05-09T02:40:42.890103Z"
        },
        "papermill": {
          "duration": 0.317683,
          "end_time": "2023-05-09T02:40:42.893463",
          "exception": false,
          "start_time": "2023-05-09T02:40:42.575780",
          "status": "completed"
        },
        "tags": [],
        "colab": {
          "base_uri": "https://localhost:8080/",
          "height": 494
        },
        "id": "20f2db43",
        "outputId": "943fb9b8-0d44-40b6-c3ab-bbc538670b57"
      },
      "outputs": [
        {
          "output_type": "execute_result",
          "data": {
            "text/plain": [
              "Text(0, 0.5, 'Count')"
            ]
          },
          "metadata": {},
          "execution_count": 46
        },
        {
          "output_type": "display_data",
          "data": {
            "text/plain": [
              "<Figure size 640x480 with 1 Axes>"
            ],
            "image/png": "[encoded data removed]"
          },
          "metadata": {}
        }
      ],
      "source": [
        "data2['Effectiveness'].value_counts().plot(kind='bar')\n",
        "plt.title(\"Effectiveness\", fontsize = 10)\n",
        "plt.xlabel(\"Effectiveness\", fontsize = 10)\n",
        "plt.ylabel(\"Count\", fontsize = 10)"
      ]
    },
    {
      "cell_type": "markdown",
      "id": "e635240a",
      "metadata": {
        "papermill": {
          "duration": 0.035692,
          "end_time": "2023-05-09T02:40:42.965567",
          "exception": false,
          "start_time": "2023-05-09T02:40:42.929875",
          "status": "completed"
        },
        "tags": [],
        "id": "e635240a"
      },
      "source": [
        "#### The drug is fairly effective with around 1600 users voting a 4 rating to it."
      ]
    },
    {
      "cell_type": "markdown",
      "id": "a9307958",
      "metadata": {
        "papermill": {
          "duration": 0.03561,
          "end_time": "2023-05-09T02:40:43.037614",
          "exception": false,
          "start_time": "2023-05-09T02:40:43.002004",
          "status": "completed"
        },
        "tags": [],
        "id": "a9307958"
      },
      "source": [
        "#### How effective is the drug among both the gender category?"
      ]
    },
    {
      "cell_type": "code",
      "execution_count": null,
      "id": "265453e2",
      "metadata": {
        "execution": {
          "iopub.execute_input": "2023-05-09T02:40:43.175971Z",
          "iopub.status.busy": "2023-05-09T02:40:43.174951Z",
          "iopub.status.idle": "2023-05-09T02:40:43.747027Z",
          "shell.execute_reply": "2023-05-09T02:40:43.745882Z"
        },
        "papermill": {
          "duration": 0.675069,
          "end_time": "2023-05-09T02:40:43.749402",
          "exception": false,
          "start_time": "2023-05-09T02:40:43.074333",
          "status": "completed"
        },
        "tags": [],
        "colab": {
          "base_uri": "https://localhost:8080/",
          "height": 624
        },
        "id": "265453e2",
        "outputId": "914fb4d3-43d1-4934-8d72-c408d274c603"
      },
      "outputs": [
        {
          "output_type": "display_data",
          "data": {
            "text/plain": [
              "<Figure size 1000x800 with 0 Axes>"
            ]
          },
          "metadata": {}
        },
        {
          "output_type": "display_data",
          "data": {
            "text/plain": [
              "<Figure size 1080x600 with 2 Axes>"
            ],
            "image/png": "[encoded data removed]"
          },
          "metadata": {}
        }
      ],
      "source": [
        "plt.figure(figsize=(10,8))\n",
        "g = sns.catplot(x=\"Effectiveness\",col=\"Sex\",\n",
        "                data=data2, kind=\"count\",\n",
        "                height=6,aspect =.9);"
      ]
    },
    {
      "cell_type": "markdown",
      "id": "ff36399c",
      "metadata": {
        "papermill": {
          "duration": 0.037058,
          "end_time": "2023-05-09T02:40:43.823210",
          "exception": false,
          "start_time": "2023-05-09T02:40:43.786152",
          "status": "completed"
        },
        "tags": [],
        "id": "ff36399c"
      },
      "source": [
        "#### Both the users have given a mixed response"
      ]
    },
    {
      "cell_type": "markdown",
      "id": "d6ed82f5",
      "metadata": {
        "papermill": {
          "duration": 0.03736,
          "end_time": "2023-05-09T02:40:43.898239",
          "exception": false,
          "start_time": "2023-05-09T02:40:43.860879",
          "status": "completed"
        },
        "tags": [],
        "id": "d6ed82f5"
      },
      "source": [
        "#### How many reported side effects for the drug?"
      ]
    },
    {
      "cell_type": "code",
      "execution_count": null,
      "id": "5262890e",
      "metadata": {
        "execution": {
          "iopub.execute_input": "2023-05-09T02:40:43.975241Z",
          "iopub.status.busy": "2023-05-09T02:40:43.974850Z",
          "iopub.status.idle": "2023-05-09T02:40:44.141982Z",
          "shell.execute_reply": "2023-05-09T02:40:44.140425Z"
        },
        "papermill": {
          "duration": 0.210688,
          "end_time": "2023-05-09T02:40:44.145883",
          "exception": false,
          "start_time": "2023-05-09T02:40:43.935195",
          "status": "completed"
        },
        "tags": [],
        "id": "5262890e"
      },
      "outputs": [],
      "source": [
        "plt.figure(figsize=(6,6))\n",
        "data2['Sideeffect'].value_counts().plot.pie(autopct='%1.1f%%')\n",
        "plt.show()"
      ]
    },
    {
      "cell_type": "markdown",
      "id": "d6f0fb8b",
      "metadata": {
        "papermill": {
          "duration": 0.03636,
          "end_time": "2023-05-09T02:40:44.243902",
          "exception": false,
          "start_time": "2023-05-09T02:40:44.207542",
          "status": "completed"
        },
        "tags": [],
        "id": "d6f0fb8b"
      },
      "source": [
        "#### 42% users reported extreme sideeffects with 1 being no side effect and 5 being extreme side effect"
      ]
    },
    {
      "cell_type": "markdown",
      "id": "e6b89222",
      "metadata": {
        "papermill": {
          "duration": 0.036737,
          "end_time": "2023-05-09T02:40:44.319680",
          "exception": false,
          "start_time": "2023-05-09T02:40:44.282943",
          "status": "completed"
        },
        "tags": [],
        "id": "e6b89222"
      },
      "source": [
        "#### Which age group has reported most side effect?"
      ]
    },
    {
      "cell_type": "code",
      "execution_count": null,
      "id": "3d1dbb02",
      "metadata": {
        "execution": {
          "iopub.execute_input": "2023-05-09T02:40:44.397189Z",
          "iopub.status.busy": "2023-05-09T02:40:44.396295Z",
          "iopub.status.idle": "2023-05-09T02:40:44.829532Z",
          "shell.execute_reply": "2023-05-09T02:40:44.828424Z"
        },
        "papermill": {
          "duration": 0.475221,
          "end_time": "2023-05-09T02:40:44.831663",
          "exception": false,
          "start_time": "2023-05-09T02:40:44.356442",
          "status": "completed"
        },
        "tags": [],
        "colab": {
          "base_uri": "https://localhost:8080/",
          "height": 559
        },
        "id": "3d1dbb02",
        "outputId": "937d54e5-dafd-469e-87ff-44f2e5dbff22"
      },
      "outputs": [
        {
          "output_type": "execute_result",
          "data": {
            "text/plain": [
              "<Axes: xlabel='Age', ylabel='count'>"
            ]
          },
          "metadata": {},
          "execution_count": 48
        },
        {
          "output_type": "display_data",
          "data": {
            "text/plain": [
              "<Figure size 1000x600 with 1 Axes>"
            ],
            "image/png": "[encoded data removed]"
          },
          "metadata": {}
        }
      ],
      "source": [
        "plt.figure(figsize=(10, 6))\n",
        "sns.countplot(x='Age',hue='Sideeffect',data=data2)"
      ]
    },
    {
      "cell_type": "markdown",
      "id": "2c9f515e",
      "metadata": {
        "papermill": {
          "duration": 0.037069,
          "end_time": "2023-05-09T02:40:44.906396",
          "exception": false,
          "start_time": "2023-05-09T02:40:44.869327",
          "status": "completed"
        },
        "tags": [],
        "id": "2c9f515e"
      },
      "source": [
        "#### 55-64 age group has opinionated that they had extreme side effects"
      ]
    },
    {
      "cell_type": "markdown",
      "id": "4e2559aa",
      "metadata": {
        "papermill": {
          "duration": 0.037578,
          "end_time": "2023-05-09T02:40:44.981468",
          "exception": false,
          "start_time": "2023-05-09T02:40:44.943890",
          "status": "completed"
        },
        "tags": [],
        "id": "4e2559aa"
      },
      "source": [
        "#### Among both the gender category, how is the sideeffects of the drug?"
      ]
    },
    {
      "cell_type": "code",
      "execution_count": null,
      "id": "7f7d2bc1",
      "metadata": {
        "execution": {
          "iopub.execute_input": "2023-05-09T02:40:45.059094Z",
          "iopub.status.busy": "2023-05-09T02:40:45.058588Z",
          "iopub.status.idle": "2023-05-09T02:40:45.664402Z",
          "shell.execute_reply": "2023-05-09T02:40:45.663295Z"
        },
        "papermill": {
          "duration": 0.647359,
          "end_time": "2023-05-09T02:40:45.666926",
          "exception": false,
          "start_time": "2023-05-09T02:40:45.019567",
          "status": "completed"
        },
        "tags": [],
        "colab": {
          "base_uri": "https://localhost:8080/",
          "height": 624
        },
        "id": "7f7d2bc1",
        "outputId": "e74884ac-d8a9-4839-ec63-9946c91ac0ab"
      },
      "outputs": [
        {
          "output_type": "display_data",
          "data": {
            "text/plain": [
              "<Figure size 2000x1000 with 0 Axes>"
            ]
          },
          "metadata": {}
        },
        {
          "output_type": "display_data",
          "data": {
            "text/plain": [
              "<Figure size 1080x600 with 2 Axes>"
            ],
            "image/png": "[encoded data removed]"
          },
          "metadata": {}
        }
      ],
      "source": [
        "plt.figure(figsize=(20,10))\n",
        "\n",
        "g = sns.catplot(x=\"Sideeffect\",col=\"Sex\",data=data2, kind=\"count\",height=6,aspect =.9);"
      ]
    },
    {
      "cell_type": "markdown",
      "id": "a5ac5b96",
      "metadata": {
        "papermill": {
          "duration": 0.040726,
          "end_time": "2023-05-09T02:40:45.747276",
          "exception": false,
          "start_time": "2023-05-09T02:40:45.706550",
          "status": "completed"
        },
        "tags": [],
        "id": "a5ac5b96"
      },
      "source": [
        "#### Female users have reported more extreme side effects"
      ]
    },
    {
      "cell_type": "markdown",
      "id": "04fab228",
      "metadata": {
        "papermill": {
          "duration": 0.037411,
          "end_time": "2023-05-09T02:40:45.822957",
          "exception": false,
          "start_time": "2023-05-09T02:40:45.785546",
          "status": "completed"
        },
        "tags": [],
        "id": "04fab228"
      },
      "source": [
        "#### which race has reported extreme side effects?"
      ]
    },
    {
      "cell_type": "code",
      "execution_count": null,
      "id": "5b2f7b72",
      "metadata": {
        "execution": {
          "iopub.execute_input": "2023-05-09T02:40:45.899999Z",
          "iopub.status.busy": "2023-05-09T02:40:45.899627Z",
          "iopub.status.idle": "2023-05-09T02:40:46.255548Z",
          "shell.execute_reply": "2023-05-09T02:40:46.254390Z"
        },
        "papermill": {
          "duration": 0.397097,
          "end_time": "2023-05-09T02:40:46.257967",
          "exception": false,
          "start_time": "2023-05-09T02:40:45.860870",
          "status": "completed"
        },
        "tags": [],
        "colab": {
          "base_uri": "https://localhost:8080/",
          "height": 559
        },
        "id": "5b2f7b72",
        "outputId": "55fbbb5c-b461-4d3b-ac67-ba2d25e19606"
      },
      "outputs": [
        {
          "output_type": "execute_result",
          "data": {
            "text/plain": [
              "<Axes: xlabel='Race', ylabel='count'>"
            ]
          },
          "metadata": {},
          "execution_count": 50
        },
        {
          "output_type": "display_data",
          "data": {
            "text/plain": [
              "<Figure size 1000x600 with 1 Axes>"
            ],
            "image/png": "[encoded data removed]"
          },
          "metadata": {}
        }
      ],
      "source": [
        "plt.figure(figsize=(10, 6))\n",
        "sns.countplot(x='Race',hue='Sideeffect',data=data2)"
      ]
    },
    {
      "cell_type": "markdown",
      "id": "a469d276",
      "metadata": {
        "papermill": {
          "duration": 0.03911,
          "end_time": "2023-05-09T02:40:46.336506",
          "exception": false,
          "start_time": "2023-05-09T02:40:46.297396",
          "status": "completed"
        },
        "tags": [],
        "id": "a469d276"
      },
      "source": [
        "#### White and Hispanic users reported more extreme side effects"
      ]
    },
    {
      "cell_type": "markdown",
      "id": "60f36a7d",
      "metadata": {
        "papermill": {
          "duration": 0.038443,
          "end_time": "2023-05-09T02:40:46.414092",
          "exception": false,
          "start_time": "2023-05-09T02:40:46.375649",
          "status": "completed"
        },
        "tags": [],
        "id": "60f36a7d"
      },
      "source": [
        "## Reviews"
      ]
    },
    {
      "cell_type": "markdown",
      "id": "191144b1",
      "metadata": {
        "papermill": {
          "duration": 0.038191,
          "end_time": "2023-05-09T02:40:46.490796",
          "exception": false,
          "start_time": "2023-05-09T02:40:46.452605",
          "status": "completed"
        },
        "tags": [],
        "id": "191144b1"
      },
      "source": [
        "#### Let us look at a sample of Review"
      ]
    },
    {
      "cell_type": "code",
      "execution_count": null,
      "id": "5617f5b6",
      "metadata": {
        "execution": {
          "iopub.execute_input": "2023-05-09T02:40:46.570311Z",
          "iopub.status.busy": "2023-05-09T02:40:46.569888Z",
          "iopub.status.idle": "2023-05-09T02:40:46.578687Z",
          "shell.execute_reply": "2023-05-09T02:40:46.577474Z"
        },
        "papermill": {
          "duration": 0.051576,
          "end_time": "2023-05-09T02:40:46.580856",
          "exception": false,
          "start_time": "2023-05-09T02:40:46.529280",
          "status": "completed"
        },
        "tags": [],
        "colab": {
          "base_uri": "https://localhost:8080/"
        },
        "id": "5617f5b6",
        "outputId": "ed182246-a998-46c8-8200-bb866115958f"
      },
      "outputs": [
        {
          "output_type": "execute_result",
          "data": {
            "text/plain": [
              "14130    This drug is awful, developed horrible cough, ...\n",
              "13568    Cant sleep because of a choking feeling, and p...\n",
              "12744    No matter how much I reduce my food intake, I ...\n",
              "13406                                   weak feeling,dizzy\n",
              "11851    Brought BP down quickly but made me tired and ...\n",
              "Name: Reviews, dtype: object"
            ]
          },
          "metadata": {},
          "execution_count": 51
        }
      ],
      "source": [
        "data2.Reviews.sample(5)"
      ]
    },
    {
      "cell_type": "markdown",
      "id": "78255b8d",
      "metadata": {
        "papermill": {
          "duration": 0.038209,
          "end_time": "2023-05-09T02:40:46.657819",
          "exception": false,
          "start_time": "2023-05-09T02:40:46.619610",
          "status": "completed"
        },
        "tags": [],
        "id": "78255b8d"
      },
      "source": [
        "#### Let us define a function to clean the text in the review so as to generate meaningfull output. The plan is to rank the reviews as either positive or negative. But, so as to rank the reviews, we need a more samples than what we have here. So, we will train the algoithm on the complete parent dataset (containing data about all the medicines). The algorithm will get trained on satisfaction and reviews, which means, it will identify which reviews or specifically word consitutes positive review ( satisfaction > 3) and which one consitute negative reviews (satisfaction < 3). Then, the generated model will be used to generate review rank ( 1 for positve and 0 for negative) for us in our dataset. Kindly note, the review rank for entries where satisfaction > 3 is 1 and for satisfaction < 3 is 0. The entries with satisfaction == 3 will be fed to the model to generate review rank values. Finally, our dataset will be complete after this."
      ]
    },
    {
      "cell_type": "markdown",
      "id": "91f48ce4",
      "metadata": {
        "papermill": {
          "duration": 0.038167,
          "end_time": "2023-05-09T02:40:46.734536",
          "exception": false,
          "start_time": "2023-05-09T02:40:46.696369",
          "status": "completed"
        },
        "tags": [],
        "id": "91f48ce4"
      },
      "source": [
        "# Cleaning the Global Review column"
      ]
    },
    {
      "cell_type": "code",
      "execution_count": null,
      "id": "920c87f2",
      "metadata": {
        "execution": {
          "iopub.execute_input": "2023-05-09T02:40:46.814890Z",
          "iopub.status.busy": "2023-05-09T02:40:46.813603Z",
          "iopub.status.idle": "2023-05-09T02:40:47.058193Z",
          "shell.execute_reply": "2023-05-09T02:40:47.057066Z"
        },
        "papermill": {
          "duration": 0.288542,
          "end_time": "2023-05-09T02:40:47.061461",
          "exception": false,
          "start_time": "2023-05-09T02:40:46.772919",
          "status": "completed"
        },
        "tags": [],
        "id": "920c87f2"
      },
      "outputs": [],
      "source": [
        "if data['Reviews'].dtype.kind == \"O\":\n",
        "        data['Reviews'] = data['Reviews'].str.strip()"
      ]
    },
    {
      "cell_type": "code",
      "execution_count": null,
      "id": "bbba9e1a",
      "metadata": {
        "execution": {
          "iopub.execute_input": "2023-05-09T02:40:47.140584Z",
          "iopub.status.busy": "2023-05-09T02:40:47.140166Z",
          "iopub.status.idle": "2023-05-09T02:40:47.196955Z",
          "shell.execute_reply": "2023-05-09T02:40:47.195666Z"
        },
        "papermill": {
          "duration": 0.099238,
          "end_time": "2023-05-09T02:40:47.199782",
          "exception": false,
          "start_time": "2023-05-09T02:40:47.100544",
          "status": "completed"
        },
        "tags": [],
        "id": "bbba9e1a"
      },
      "outputs": [],
      "source": [
        "data['Reviews']= data['Reviews'].astype(str)"
      ]
    },
    {
      "cell_type": "code",
      "source": [
        "import nltk\n",
        "nltk.download('stopwords')\n"
      ],
      "metadata": {
        "colab": {
          "base_uri": "https://localhost:8080/"
        },
        "id": "TKkSR-ED08-Z",
        "outputId": "f9dabf9f-8b10-407d-b901-c5e2fa487ba8"
      },
      "id": "TKkSR-ED08-Z",
      "execution_count": null,
      "outputs": [
        {
          "output_type": "stream",
          "name": "stderr",
          "text": [
            "[nltk_data] Downloading package stopwords to /root/nltk_data...\n",
            "[nltk_data]   Unzipping corpora/stopwords.zip.\n"
          ]
        },
        {
          "output_type": "execute_result",
          "data": {
            "text/plain": [
              "True"
            ]
          },
          "metadata": {},
          "execution_count": 56
        }
      ]
    },
    {
      "cell_type": "code",
      "source": [],
      "metadata": {
        "id": "Li8SB5MW1APG"
      },
      "id": "Li8SB5MW1APG",
      "execution_count": null,
      "outputs": []
    },
    {
      "cell_type": "code",
      "execution_count": null,
      "id": "e93e8e15",
      "metadata": {
        "execution": {
          "iopub.execute_input": "2023-05-09T02:40:47.291625Z",
          "iopub.status.busy": "2023-05-09T02:40:47.291268Z",
          "iopub.status.idle": "2023-05-09T03:07:25.302836Z",
          "shell.execute_reply": "2023-05-09T03:07:25.301531Z"
        },
        "papermill": {
          "duration": 1598.094872,
          "end_time": "2023-05-09T03:07:25.346344",
          "exception": false,
          "start_time": "2023-05-09T02:40:47.251472",
          "status": "completed"
        },
        "tags": [],
        "colab": {
          "base_uri": "https://localhost:8080/"
        },
        "id": "e93e8e15",
        "outputId": "4691605a-a502-4d99-e5fa-5ad13f77d68d"
      },
      "outputs": [
        {
          "output_type": "stream",
          "name": "stderr",
          "text": [
            "[nltk_data] Downloading package stopwords to /root/nltk_data...\n",
            "[nltk_data]   Package stopwords is already up-to-date!\n"
          ]
        },
        {
          "output_type": "stream",
          "name": "stdout",
          "text": [
            "CPU times: user 5min 41s, sys: 1.05 s, total: 5min 42s\n",
            "Wall time: 5min 47s\n"
          ]
        }
      ],
      "source": [
        "%%time\n",
        "\n",
        "import nltk\n",
        "nltk.download('stopwords')\n",
        "\n",
        "nlp = spacy.load(\"en_core_web_sm\", disable=[\"ner\", \"parser\"])\n",
        "STOPWORDS = set(sklearn_stop_words).union(set(stopwords.words(\"english\")))\n",
        "\n",
        "\n",
        "def clean_review(text, STOPWORDS=STOPWORDS, nlp=nlp):\n",
        "    \"\"\"Cleans up text\"\"\"\n",
        "\n",
        "    def rep_emo(text, placeholder_pos=' happyemoticon ', placeholder_neg=' sademoticon '):\n",
        "        \"\"\"Replace emoticons\"\"\"\n",
        "\n",
        "        emoticons_pos = [\":)\", \":-)\", \":p\", \":-p\", \":P\", \":-P\", \":D\",\":-D\", \":]\", \":-]\", \";)\", \";-)\",\n",
        "                         \";p\", \";-p\", \";P\", \";-P\", \";D\", \";-D\", \";]\", \";-]\", \"=)\", \"=-)\", \"<3\"]\n",
        "        emoticons_neg = [\":o\", \":-o\", \":O\", \":-O\", \":(\", \":-(\", \":c\", \":-c\", \":C\", \":-C\", \":[\", \":-[\",\n",
        "                         \":/\", \":-/\", \":\\\\\", \":-\\\\\", \":n\", \":-n\", \":u\", \":-u\", \"=(\", \"=-(\", \":$\", \":-$\"]\n",
        "\n",
        "        for e in emoticons_pos:\n",
        "            text = text.replace(e, placeholder_pos)\n",
        "\n",
        "        for e in emoticons_neg:\n",
        "            text = text.replace(e, placeholder_neg)\n",
        "        return text\n",
        "\n",
        "    def rep_punct(text):\n",
        "        \"\"\"Replace all punctuation with space\"\"\"\n",
        "        for c in string.punctuation:\n",
        "            text = text.replace(c, \" \")\n",
        "        return text\n",
        "\n",
        "    def rem_stop_num(text):\n",
        "        \"\"\"Remove stop words and anything starting with number\"\"\"\n",
        "        return \" \".join(word for word in text.split() if word not in STOPWORDS and not word[0].isdigit())\n",
        "\n",
        "    def lemmatize(text):\n",
        "        \"\"\"Return lemmas of tokens in text\"\"\"\n",
        "        return \" \".join(tok.lemma_.lower().strip() for tok in nlp(text) if tok.lemma_ != \"-PRON-\")\n",
        "\n",
        "    return lemmatize(rem_stop_num(rep_punct(rep_emo(text))))\n",
        "\n",
        "mldf = data[[\"Satisfaction\", \"Reviews\"]]\n",
        "mldf[\"Reviews\"] = mldf[\"Reviews\"].apply(clean_review)\n",
        "\n",
        "# remove any rows with new empty strings following the clean-up\n",
        "mldf[\"Reviews\"].replace(\"\", np.nan, inplace=True)\n",
        "mldf.dropna(inplace=True)\n",
        "# adding indexes as \"index\" column for later use to recreate same splits\n",
        "mldf.reset_index(inplace=True)"
      ]
    },
    {
      "cell_type": "markdown",
      "id": "dc330555",
      "metadata": {
        "papermill": {
          "duration": 0.039216,
          "end_time": "2023-05-09T03:07:25.424271",
          "exception": false,
          "start_time": "2023-05-09T03:07:25.385055",
          "status": "completed"
        },
        "tags": [],
        "id": "dc330555"
      },
      "source": [
        "#### Review column is cleaned. A new column satisfaction1 is generated which will help in identifiying postive and negative reviews for algorithm where 0 is negative, 2 is positive and 1 is neutral for satisfaction < 3, > 3 and ==3 respectively. We will omit the neutral reviews."
      ]
    },
    {
      "cell_type": "code",
      "execution_count": null,
      "id": "28f1d0f6",
      "metadata": {
        "execution": {
          "iopub.execute_input": "2023-05-09T03:07:25.503817Z",
          "iopub.status.busy": "2023-05-09T03:07:25.503437Z",
          "iopub.status.idle": "2023-05-09T03:07:25.640634Z",
          "shell.execute_reply": "2023-05-09T03:07:25.639509Z"
        },
        "papermill": {
          "duration": 0.179702,
          "end_time": "2023-05-09T03:07:25.643284",
          "exception": false,
          "start_time": "2023-05-09T03:07:25.463582",
          "status": "completed"
        },
        "tags": [],
        "id": "28f1d0f6"
      },
      "outputs": [],
      "source": [
        "def relabel(x):\n",
        "    return 0 if x < 3 else 1 if x == 3 else 2\n",
        "\n",
        "mldf[\"Satisfaction1\"] = mldf[\"Satisfaction\"].apply(relabel)"
      ]
    },
    {
      "cell_type": "markdown",
      "id": "cea1300d",
      "metadata": {
        "papermill": {
          "duration": 0.038355,
          "end_time": "2023-05-09T03:07:25.720406",
          "exception": false,
          "start_time": "2023-05-09T03:07:25.682051",
          "status": "completed"
        },
        "tags": [],
        "id": "cea1300d"
      },
      "source": [
        "# Generating Text processing Model"
      ]
    },
    {
      "cell_type": "code",
      "execution_count": null,
      "id": "16cbaded",
      "metadata": {
        "execution": {
          "iopub.execute_input": "2023-05-09T03:07:25.799383Z",
          "iopub.status.busy": "2023-05-09T03:07:25.798701Z",
          "iopub.status.idle": "2023-05-09T03:07:25.960698Z",
          "shell.execute_reply": "2023-05-09T03:07:25.959219Z"
        },
        "papermill": {
          "duration": 0.204275,
          "end_time": "2023-05-09T03:07:25.963250",
          "exception": false,
          "start_time": "2023-05-09T03:07:25.758975",
          "status": "completed"
        },
        "tags": [],
        "colab": {
          "base_uri": "https://localhost:8080/"
        },
        "id": "16cbaded",
        "outputId": "39506df0-9683-4986-d59e-ae2cafd0e0d0"
      },
      "outputs": [
        {
          "output_type": "stream",
          "name": "stdout",
          "text": [
            "(50777, 4)\n",
            "(16926, 4)\n"
          ]
        }
      ],
      "source": [
        "train_set, test_set = train_test_split(mldf, test_size=0.25, random_state=0, stratify=mldf[\"Satisfaction1\"])\n",
        "train_index = train_set.index\n",
        "test_index = test_set.index\n",
        "print(train_set.shape)\n",
        "print(test_set.shape)"
      ]
    },
    {
      "cell_type": "code",
      "execution_count": null,
      "id": "4128b8ec",
      "metadata": {
        "execution": {
          "iopub.execute_input": "2023-05-09T03:07:26.044268Z",
          "iopub.status.busy": "2023-05-09T03:07:26.043856Z",
          "iopub.status.idle": "2023-05-09T03:21:43.272439Z",
          "shell.execute_reply": "2023-05-09T03:21:43.271124Z"
        },
        "papermill": {
          "duration": 857.271789,
          "end_time": "2023-05-09T03:21:43.274942",
          "exception": false,
          "start_time": "2023-05-09T03:07:26.003153",
          "status": "completed"
        },
        "tags": [],
        "colab": {
          "base_uri": "https://localhost:8080/"
        },
        "id": "4128b8ec",
        "outputId": "2150d52c-f321-4602-c8cc-23ded15f055f"
      },
      "outputs": [
        {
          "output_type": "stream",
          "name": "stdout",
          "text": [
            "(43527, 4)\n",
            "(14510, 4)\n",
            "\n",
            "Accuracy in train set: 0.99\n",
            "\n",
            "Accuracy in test  set: 0.86\n",
            "\n",
            "              precision    recall  f1-score   support\n",
            "\n",
            "           0       0.86      0.84      0.85      6931\n",
            "           2       0.86      0.87      0.87      7579\n",
            "\n",
            "    accuracy                           0.86     14510\n",
            "   macro avg       0.86      0.86      0.86     14510\n",
            "weighted avg       0.86      0.86      0.86     14510\n",
            "\n",
            "CPU times: user 2min 2s, sys: 1.61 s, total: 2min 4s\n",
            "Wall time: 2min 4s\n"
          ]
        }
      ],
      "source": [
        "%%time\n",
        "train_set = train_set[train_set[\"Satisfaction1\"] != 1]\n",
        "test_set = test_set[test_set[\"Satisfaction1\"] != 1]\n",
        "print(train_set.shape)\n",
        "print(test_set.shape)\n",
        "\n",
        "vectorizer = TfidfVectorizer(max_features=2500, min_df=10, max_df=0.8)\n",
        "X_train = vectorizer.fit_transform(train_set[\"Reviews\"]).toarray()\n",
        "X_test = vectorizer.transform(test_set[\"Reviews\"]).toarray()\n",
        "y_train = train_set[\"Satisfaction1\"].values\n",
        "y_test = test_set[\"Satisfaction1\"].values\n",
        "\n",
        "model = RandomForestClassifier(min_samples_split=6, random_state=0)\n",
        "model.fit(X_train, y_train)\n",
        "\n",
        "acc_train = accuracy_score(y_train, model.predict(X_train))\n",
        "print(f\"\\nAccuracy in train set: {acc_train:.2}\")\n",
        "predictions = model.predict(X_test)\n",
        "acc_test = accuracy_score(y_test, predictions)\n",
        "print(f\"\\nAccuracy in test  set: {acc_test:.2}\\n\")\n",
        "print(classification_report(y_test, predictions))"
      ]
    },
    {
      "cell_type": "markdown",
      "id": "8d6a222b",
      "metadata": {
        "papermill": {
          "duration": 0.039429,
          "end_time": "2023-05-09T03:21:43.354450",
          "exception": false,
          "start_time": "2023-05-09T03:21:43.315021",
          "status": "completed"
        },
        "tags": [],
        "id": "8d6a222b"
      },
      "source": [
        "#### We got an accuracy of 83%."
      ]
    },
    {
      "cell_type": "markdown",
      "id": "17cdb81d",
      "metadata": {
        "papermill": {
          "duration": 0.03941,
          "end_time": "2023-05-09T03:21:43.433808",
          "exception": false,
          "start_time": "2023-05-09T03:21:43.394398",
          "status": "completed"
        },
        "tags": [],
        "id": "17cdb81d"
      },
      "source": [
        "#### Let us the clean the review specific to our drug"
      ]
    },
    {
      "cell_type": "code",
      "execution_count": null,
      "id": "52962f38",
      "metadata": {
        "execution": {
          "iopub.execute_input": "2023-05-09T03:21:43.515115Z",
          "iopub.status.busy": "2023-05-09T03:21:43.513954Z",
          "iopub.status.idle": "2023-05-09T03:22:10.927664Z",
          "shell.execute_reply": "2023-05-09T03:22:10.926319Z"
        },
        "papermill": {
          "duration": 27.45765,
          "end_time": "2023-05-09T03:22:10.930361",
          "exception": false,
          "start_time": "2023-05-09T03:21:43.472711",
          "status": "completed"
        },
        "tags": [],
        "id": "52962f38"
      },
      "outputs": [],
      "source": [
        "data2[\"Reviews\"] = data2[\"Reviews\"].apply(clean_review)"
      ]
    },
    {
      "cell_type": "markdown",
      "id": "43e971ca",
      "metadata": {
        "papermill": {
          "duration": 0.039234,
          "end_time": "2023-05-09T03:22:11.008641",
          "exception": false,
          "start_time": "2023-05-09T03:22:10.969407",
          "status": "completed"
        },
        "tags": [],
        "id": "43e971ca"
      },
      "source": [
        "#### Let us the rank the reviews by creating a function for the same"
      ]
    },
    {
      "cell_type": "code",
      "execution_count": null,
      "id": "cbf32172",
      "metadata": {
        "execution": {
          "iopub.execute_input": "2023-05-09T03:22:11.089541Z",
          "iopub.status.busy": "2023-05-09T03:22:11.088372Z",
          "iopub.status.idle": "2023-05-09T03:22:27.314587Z",
          "shell.execute_reply": "2023-05-09T03:22:27.313132Z"
        },
        "papermill": {
          "duration": 16.269752,
          "end_time": "2023-05-09T03:22:27.316993",
          "exception": false,
          "start_time": "2023-05-09T03:22:11.047241",
          "status": "completed"
        },
        "tags": [],
        "colab": {
          "base_uri": "https://localhost:8080/"
        },
        "id": "cbf32172",
        "outputId": "b6202c13-3347-4527-cc5b-e2e49f7357d3"
      },
      "outputs": [
        {
          "output_type": "execute_result",
          "data": {
            "text/plain": [
              "array([1., 0.])"
            ]
          },
          "metadata": {},
          "execution_count": 63
        }
      ],
      "source": [
        "\n",
        "def predict_rank(text):\n",
        "    cleaned_text = [clean_review(text)]\n",
        "    padded_text = vectorizer.transform(cleaned_text)\n",
        "    p = model.predict(padded_text)[0]\n",
        "    if (p == 0):\n",
        "        return 0\n",
        "    else :\n",
        "        return 1\n",
        "\n",
        "def predict_rank1(rank):\n",
        "    if (rank < 3):\n",
        "        return 0\n",
        "    else:\n",
        "        return 1\n",
        "\n",
        "# predict_rank(\"I loved it\")\n",
        "data2['Reviews_Rank'] = data2['Satisfaction']\n",
        "data2.loc[data2['Satisfaction'] < 3, 'Reviews_Rank'] = data2.loc[data2['Satisfaction'] < 3, 'Reviews_Rank'].apply(predict_rank1)\n",
        "data2.loc[data2['Satisfaction'] > 3, 'Reviews_Rank'] = data2.loc[data2['Satisfaction'] > 3, 'Reviews_Rank'].apply(predict_rank1)\n",
        "data2.loc[data2['Satisfaction'] == 3, 'Reviews_Rank'] = data2.loc[data2['Satisfaction'] == 3, 'Reviews'].apply(predict_rank)\n",
        "data2['Reviews_Rank'].unique()"
      ]
    },
    {
      "cell_type": "markdown",
      "id": "cce9e9f2",
      "metadata": {
        "papermill": {
          "duration": 0.040351,
          "end_time": "2023-05-09T03:22:27.398080",
          "exception": false,
          "start_time": "2023-05-09T03:22:27.357729",
          "status": "completed"
        },
        "tags": [],
        "id": "cce9e9f2"
      },
      "source": [
        "#### Columns Name has unique values so will be dropped. Drug, DrugId, Condition, Date, Easeofuse, usefulcount, sides, Year will be dropped. Race, Sex, Year, Month, Dayofweek will be onehot encoded. Satisfaction will be segregated based on the values as nil, mild, moderate, sever, extreme based on values of 5, 4, 3, 2, 1 respectively. The assumption being that thet satisfaction is a parameter that gets affected by side effects in case of patients."
      ]
    },
    {
      "cell_type": "code",
      "execution_count": null,
      "id": "81a37bda",
      "metadata": {
        "execution": {
          "iopub.execute_input": "2023-05-09T03:22:27.482906Z",
          "iopub.status.busy": "2023-05-09T03:22:27.481945Z",
          "iopub.status.idle": "2023-05-09T03:22:27.490188Z",
          "shell.execute_reply": "2023-05-09T03:22:27.489074Z"
        },
        "papermill": {
          "duration": 0.052799,
          "end_time": "2023-05-09T03:22:27.492480",
          "exception": false,
          "start_time": "2023-05-09T03:22:27.439681",
          "status": "completed"
        },
        "tags": [],
        "id": "81a37bda"
      },
      "outputs": [],
      "source": [
        "data2.drop(['Name','Condition','Date','Drug','DrugId','EaseofUse','Sides','UsefulCount'], axis=1, inplace = True)"
      ]
    },
    {
      "cell_type": "code",
      "execution_count": null,
      "id": "ab5511f4",
      "metadata": {
        "execution": {
          "iopub.execute_input": "2023-05-09T03:22:27.575077Z",
          "iopub.status.busy": "2023-05-09T03:22:27.573393Z",
          "iopub.status.idle": "2023-05-09T03:22:27.594672Z",
          "shell.execute_reply": "2023-05-09T03:22:27.593643Z"
        },
        "papermill": {
          "duration": 0.063824,
          "end_time": "2023-05-09T03:22:27.596926",
          "exception": false,
          "start_time": "2023-05-09T03:22:27.533102",
          "status": "completed"
        },
        "tags": [],
        "colab": {
          "base_uri": "https://localhost:8080/"
        },
        "id": "ab5511f4",
        "outputId": "14adac6c-844b-429c-d2df-1798ab33e9e5"
      },
      "outputs": [
        {
          "output_type": "execute_result",
          "data": {
            "text/plain": [
              "Index(['Race', 'Age', 'Effectiveness', 'Reviews', 'Satisfaction', 'Sex',\n",
              "       'Year', 'Month', 'day_of_week', 'UsefulCount_boxcox',\n",
              "       'EaseofUse_boxcox', 'Sideeffect', 'Reviews_Rank'],\n",
              "      dtype='object')"
            ]
          },
          "metadata": {},
          "execution_count": 65
        }
      ],
      "source": [
        "data2.Month = data2.Month.astype(str)\n",
        "data2.Year = data2.Year.astype(str)\n",
        "data_encod = data2[['Race', 'Age','Sex','Month','day_of_week']]\n",
        "data_num = data2[['Effectiveness']]\n",
        "data2.columns"
      ]
    },
    {
      "cell_type": "markdown",
      "id": "b4eca087",
      "metadata": {
        "papermill": {
          "duration": 0.039432,
          "end_time": "2023-05-09T03:22:27.675540",
          "exception": false,
          "start_time": "2023-05-09T03:22:27.636108",
          "status": "completed"
        },
        "tags": [],
        "id": "b4eca087"
      },
      "source": [
        "# Encoding : One Hot Encoding"
      ]
    },
    {
      "cell_type": "code",
      "execution_count": null,
      "id": "bbc9e523",
      "metadata": {
        "execution": {
          "iopub.execute_input": "2023-05-09T03:22:27.757472Z",
          "iopub.status.busy": "2023-05-09T03:22:27.756774Z",
          "iopub.status.idle": "2023-05-09T03:22:27.788099Z",
          "shell.execute_reply": "2023-05-09T03:22:27.787110Z"
        },
        "papermill": {
          "duration": 0.075594,
          "end_time": "2023-05-09T03:22:27.790469",
          "exception": false,
          "start_time": "2023-05-09T03:22:27.714875",
          "status": "completed"
        },
        "tags": [],
        "colab": {
          "base_uri": "https://localhost:8080/",
          "height": 461
        },
        "id": "bbc9e523",
        "outputId": "9f409514-abf8-479f-9dc2-f9ac4b3d7d21"
      },
      "outputs": [
        {
          "output_type": "execute_result",
          "data": {
            "text/plain": [
              "       Race_Asian  Race_Black  Race_Hispanic  Race_White  Age_0-2  Age_13-18  \\\n",
              "9203            0           0              0           1        0          0   \n",
              "9209            0           0              1           0        0          0   \n",
              "9215            0           0              0           1        0          0   \n",
              "9221            0           0              0           1        0          0   \n",
              "9227            0           0              1           0        0          0   \n",
              "...           ...         ...            ...         ...      ...        ...   \n",
              "18981           0           0              0           1        0          0   \n",
              "18982           0           0              0           1        0          0   \n",
              "18984           0           0              0           1        0          0   \n",
              "18985           0           0              1           0        0          0   \n",
              "18990           1           0              0           0        0          0   \n",
              "\n",
              "       Age_19-24  Age_25-34  Age_35-44  Age_45-54  ...  Month_7  Month_8  \\\n",
              "9203           0          0          0          0  ...        0        0   \n",
              "9209           0          0          0          0  ...        0        0   \n",
              "9215           0          0          0          0  ...        0        0   \n",
              "9221           0          0          0          0  ...        0        0   \n",
              "9227           0          0          0          0  ...        0        1   \n",
              "...          ...        ...        ...        ...  ...      ...      ...   \n",
              "18981          0          1          0          0  ...        0        0   \n",
              "18982          0          0          0          1  ...        0        0   \n",
              "18984          0          0          0          1  ...        0        0   \n",
              "18985          0          1          0          0  ...        0        0   \n",
              "18990          0          0          0          0  ...        0        0   \n",
              "\n",
              "       Month_9  day_of_week_Friday  day_of_week_Monday  day_of_week_Saturday  \\\n",
              "9203         0                   0                   0                     1   \n",
              "9209         0                   0                   0                     0   \n",
              "9215         0                   0                   0                     0   \n",
              "9221         0                   0                   0                     0   \n",
              "9227         0                   1                   0                     0   \n",
              "...        ...                 ...                 ...                   ...   \n",
              "18981        0                   0                   0                     0   \n",
              "18982        0                   0                   0                     1   \n",
              "18984        0                   1                   0                     0   \n",
              "18985        0                   1                   0                     0   \n",
              "18990        0                   0                   1                     0   \n",
              "\n",
              "       day_of_week_Sunday  day_of_week_Thursday  day_of_week_Tuesday  \\\n",
              "9203                    0                     0                    0   \n",
              "9209                    0                     0                    1   \n",
              "9215                    0                     1                    0   \n",
              "9221                    1                     0                    0   \n",
              "9227                    0                     0                    0   \n",
              "...                   ...                   ...                  ...   \n",
              "18981                   1                     0                    0   \n",
              "18982                   0                     0                    0   \n",
              "18984                   0                     0                    0   \n",
              "18985                   0                     0                    0   \n",
              "18990                   0                     0                    0   \n",
              "\n",
              "       day_of_week_Wednesday  \n",
              "9203                       0  \n",
              "9209                       0  \n",
              "9215                       0  \n",
              "9221                       0  \n",
              "9227                       0  \n",
              "...                      ...  \n",
              "18981                      0  \n",
              "18982                      0  \n",
              "18984                      0  \n",
              "18985                      0  \n",
              "18990                      0  \n",
              "\n",
              "[6526 rows x 34 columns]"
            ],
            "text/html": [
              "\n",
              "  <div id=\"df-7d707b00-0c12-46e3-b801-eaa6377d91af\" class=\"colab-df-container\">\n",
              "    <div>\n",
              "<style scoped>\n",
              "    .dataframe tbody tr th:only-of-type {\n",
              "        vertical-align: middle;\n",
              "    }\n",
              "\n",
              "    .dataframe tbody tr th {\n",
              "        vertical-align: top;\n",
              "    }\n",
              "\n",
              "    .dataframe thead th {\n",
              "        text-align: right;\n",
              "    }\n",
              "</style>\n",
              "<table border=\"1\" class=\"dataframe\">\n",
              "  <thead>\n",
              "    <tr style=\"text-align: right;\">\n",
              "      <th></th>\n",
              "      <th>Race_Asian</th>\n",
              "      <th>Race_Black</th>\n",
              "      <th>Race_Hispanic</th>\n",
              "      <th>Race_White</th>\n",
              "      <th>Age_0-2</th>\n",
              "      <th>Age_13-18</th>\n",
              "      <th>Age_19-24</th>\n",
              "      <th>Age_25-34</th>\n",
              "      <th>Age_35-44</th>\n",
              "      <th>Age_45-54</th>\n",
              "      <th>...</th>\n",
              "      <th>Month_7</th>\n",
              "      <th>Month_8</th>\n",
              "      <th>Month_9</th>\n",
              "      <th>day_of_week_Friday</th>\n",
              "      <th>day_of_week_Monday</th>\n",
              "      <th>day_of_week_Saturday</th>\n",
              "      <th>day_of_week_Sunday</th>\n",
              "      <th>day_of_week_Thursday</th>\n",
              "      <th>day_of_week_Tuesday</th>\n",
              "      <th>day_of_week_Wednesday</th>\n",
              "    </tr>\n",
              "  </thead>\n",
              "  <tbody>\n",
              "    <tr>\n",
              "      <th>9203</th>\n",
              "      <td>0</td>\n",
              "      <td>0</td>\n",
              "      <td>0</td>\n",
              "      <td>1</td>\n",
              "      <td>0</td>\n",
              "      <td>0</td>\n",
              "      <td>0</td>\n",
              "      <td>0</td>\n",
              "      <td>0</td>\n",
              "      <td>0</td>\n",
              "      <td>...</td>\n",
              "      <td>0</td>\n",
              "      <td>0</td>\n",
              "      <td>0</td>\n",
              "      <td>0</td>\n",
              "      <td>0</td>\n",
              "      <td>1</td>\n",
              "      <td>0</td>\n",
              "      <td>0</td>\n",
              "      <td>0</td>\n",
              "      <td>0</td>\n",
              "    </tr>\n",
              "    <tr>\n",
              "      <th>9209</th>\n",
              "      <td>0</td>\n",
              "      <td>0</td>\n",
              "      <td>1</td>\n",
              "      <td>0</td>\n",
              "      <td>0</td>\n",
              "      <td>0</td>\n",
              "      <td>0</td>\n",
              "      <td>0</td>\n",
              "      <td>0</td>\n",
              "      <td>0</td>\n",
              "      <td>...</td>\n",
              "      <td>0</td>\n",
              "      <td>0</td>\n",
              "      <td>0</td>\n",
              "      <td>0</td>\n",
              "      <td>0</td>\n",
              "      <td>0</td>\n",
              "      <td>0</td>\n",
              "      <td>0</td>\n",
              "      <td>1</td>\n",
              "      <td>0</td>\n",
              "    </tr>\n",
              "    <tr>\n",
              "      <th>9215</th>\n",
              "      <td>0</td>\n",
              "      <td>0</td>\n",
              "      <td>0</td>\n",
              "      <td>1</td>\n",
              "      <td>0</td>\n",
              "      <td>0</td>\n",
              "      <td>0</td>\n",
              "      <td>0</td>\n",
              "      <td>0</td>\n",
              "      <td>0</td>\n",
              "      <td>...</td>\n",
              "      <td>0</td>\n",
              "      <td>0</td>\n",
              "      <td>0</td>\n",
              "      <td>0</td>\n",
              "      <td>0</td>\n",
              "      <td>0</td>\n",
              "      <td>0</td>\n",
              "      <td>1</td>\n",
              "      <td>0</td>\n",
              "      <td>0</td>\n",
              "    </tr>\n",
              "    <tr>\n",
              "      <th>9221</th>\n",
              "      <td>0</td>\n",
              "      <td>0</td>\n",
              "      <td>0</td>\n",
              "      <td>1</td>\n",
              "      <td>0</td>\n",
              "      <td>0</td>\n",
              "      <td>0</td>\n",
              "      <td>0</td>\n",
              "      <td>0</td>\n",
              "      <td>0</td>\n",
              "      <td>...</td>\n",
              "      <td>0</td>\n",
              "      <td>0</td>\n",
              "      <td>0</td>\n",
              "      <td>0</td>\n",
              "      <td>0</td>\n",
              "      <td>0</td>\n",
              "      <td>1</td>\n",
              "      <td>0</td>\n",
              "      <td>0</td>\n",
              "      <td>0</td>\n",
              "    </tr>\n",
              "    <tr>\n",
              "      <th>9227</th>\n",
              "      <td>0</td>\n",
              "      <td>0</td>\n",
              "      <td>1</td>\n",
              "      <td>0</td>\n",
              "      <td>0</td>\n",
              "      <td>0</td>\n",
              "      <td>0</td>\n",
              "      <td>0</td>\n",
              "      <td>0</td>\n",
              "      <td>0</td>\n",
              "      <td>...</td>\n",
              "      <td>0</td>\n",
              "      <td>1</td>\n",
              "      <td>0</td>\n",
              "      <td>1</td>\n",
              "      <td>0</td>\n",
              "      <td>0</td>\n",
              "      <td>0</td>\n",
              "      <td>0</td>\n",
              "      <td>0</td>\n",
              "      <td>0</td>\n",
              "    </tr>\n",
              "    <tr>\n",
              "      <th>...</th>\n",
              "      <td>...</td>\n",
              "      <td>...</td>\n",
              "      <td>...</td>\n",
              "      <td>...</td>\n",
              "      <td>...</td>\n",
              "      <td>...</td>\n",
              "      <td>...</td>\n",
              "      <td>...</td>\n",
              "      <td>...</td>\n",
              "      <td>...</td>\n",
              "      <td>...</td>\n",
              "      <td>...</td>\n",
              "      <td>...</td>\n",
              "      <td>...</td>\n",
              "      <td>...</td>\n",
              "      <td>...</td>\n",
              "      <td>...</td>\n",
              "      <td>...</td>\n",
              "      <td>...</td>\n",
              "      <td>...</td>\n",
              "      <td>...</td>\n",
              "    </tr>\n",
              "    <tr>\n",
              "      <th>18981</th>\n",
              "      <td>0</td>\n",
              "      <td>0</td>\n",
              "      <td>0</td>\n",
              "      <td>1</td>\n",
              "      <td>0</td>\n",
              "      <td>0</td>\n",
              "      <td>0</td>\n",
              "      <td>1</td>\n",
              "      <td>0</td>\n",
              "      <td>0</td>\n",
              "      <td>...</td>\n",
              "      <td>0</td>\n",
              "      <td>0</td>\n",
              "      <td>0</td>\n",
              "      <td>0</td>\n",
              "      <td>0</td>\n",
              "      <td>0</td>\n",
              "      <td>1</td>\n",
              "      <td>0</td>\n",
              "      <td>0</td>\n",
              "      <td>0</td>\n",
              "    </tr>\n",
              "    <tr>\n",
              "      <th>18982</th>\n",
              "      <td>0</td>\n",
              "      <td>0</td>\n",
              "      <td>0</td>\n",
              "      <td>1</td>\n",
              "      <td>0</td>\n",
              "      <td>0</td>\n",
              "      <td>0</td>\n",
              "      <td>0</td>\n",
              "      <td>0</td>\n",
              "      <td>1</td>\n",
              "      <td>...</td>\n",
              "      <td>0</td>\n",
              "      <td>0</td>\n",
              "      <td>0</td>\n",
              "      <td>0</td>\n",
              "      <td>0</td>\n",
              "      <td>1</td>\n",
              "      <td>0</td>\n",
              "      <td>0</td>\n",
              "      <td>0</td>\n",
              "      <td>0</td>\n",
              "    </tr>\n",
              "    <tr>\n",
              "      <th>18984</th>\n",
              "      <td>0</td>\n",
              "      <td>0</td>\n",
              "      <td>0</td>\n",
              "      <td>1</td>\n",
              "      <td>0</td>\n",
              "      <td>0</td>\n",
              "      <td>0</td>\n",
              "      <td>0</td>\n",
              "      <td>0</td>\n",
              "      <td>1</td>\n",
              "      <td>...</td>\n",
              "      <td>0</td>\n",
              "      <td>0</td>\n",
              "      <td>0</td>\n",
              "      <td>1</td>\n",
              "      <td>0</td>\n",
              "      <td>0</td>\n",
              "      <td>0</td>\n",
              "      <td>0</td>\n",
              "      <td>0</td>\n",
              "      <td>0</td>\n",
              "    </tr>\n",
              "    <tr>\n",
              "      <th>18985</th>\n",
              "      <td>0</td>\n",
              "      <td>0</td>\n",
              "      <td>1</td>\n",
              "      <td>0</td>\n",
              "      <td>0</td>\n",
              "      <td>0</td>\n",
              "      <td>0</td>\n",
              "      <td>1</td>\n",
              "      <td>0</td>\n",
              "      <td>0</td>\n",
              "      <td>...</td>\n",
              "      <td>0</td>\n",
              "      <td>0</td>\n",
              "      <td>0</td>\n",
              "      <td>1</td>\n",
              "      <td>0</td>\n",
              "      <td>0</td>\n",
              "      <td>0</td>\n",
              "      <td>0</td>\n",
              "      <td>0</td>\n",
              "      <td>0</td>\n",
              "    </tr>\n",
              "    <tr>\n",
              "      <th>18990</th>\n",
              "      <td>1</td>\n",
              "      <td>0</td>\n",
              "      <td>0</td>\n",
              "      <td>0</td>\n",
              "      <td>0</td>\n",
              "      <td>0</td>\n",
              "      <td>0</td>\n",
              "      <td>0</td>\n",
              "      <td>0</td>\n",
              "      <td>0</td>\n",
              "      <td>...</td>\n",
              "      <td>0</td>\n",
              "      <td>0</td>\n",
              "      <td>0</td>\n",
              "      <td>0</td>\n",
              "      <td>1</td>\n",
              "      <td>0</td>\n",
              "      <td>0</td>\n",
              "      <td>0</td>\n",
              "      <td>0</td>\n",
              "      <td>0</td>\n",
              "    </tr>\n",
              "  </tbody>\n",
              "</table>\n",
              "<p>6526 rows × 34 columns</p>\n",
              "</div>\n",
              "    <div class=\"colab-df-buttons\">\n",
              "\n",
              "  <div class=\"colab-df-container\">\n",
              "    <button class=\"colab-df-convert\" onclick=\"convertToInteractive('df-7d707b00-0c12-46e3-b801-eaa6377d91af')\"\n",
              "            title=\"Convert this dataframe to an interactive table.\"\n",
              "            style=\"display:none;\">\n",
              "\n",
              "  <svg xmlns=\"http://www.w3.org/2000/svg\" height=\"24px\" viewBox=\"0 -960 960 960\">\n",
              "    <path d=\"M120-120v-720h720v720H120Zm60-500h600v-160H180v160Zm220 220h160v-160H400v160Zm0 220h160v-160H400v160ZM180-400h160v-160H180v160Zm440 0h160v-160H620v160ZM180-180h160v-160H180v160Zm440 0h160v-160H620v160Z\"/>\n",
              "  </svg>\n",
              "    </button>\n",
              "\n",
              "  <style>\n",
              "    .colab-df-container {\n",
              "      display:flex;\n",
              "      gap: 12px;\n",
              "    }\n",
              "\n",
              "    .colab-df-convert {\n",
              "      background-color: #E8F0FE;\n",
              "      border: none;\n",
              "      border-radius: 50%;\n",
              "      cursor: pointer;\n",
              "      display: none;\n",
              "      fill: #1967D2;\n",
              "      height: 32px;\n",
              "      padding: 0 0 0 0;\n",
              "      width: 32px;\n",
              "    }\n",
              "\n",
              "    .colab-df-convert:hover {\n",
              "      background-color: #E2EBFA;\n",
              "      box-shadow: 0px 1px 2px rgba(60, 64, 67, 0.3), 0px 1px 3px 1px rgba(60, 64, 67, 0.15);\n",
              "      fill: #174EA6;\n",
              "    }\n",
              "\n",
              "    .colab-df-buttons div {\n",
              "      margin-bottom: 4px;\n",
              "    }\n",
              "\n",
              "    [theme=dark] .colab-df-convert {\n",
              "      background-color: #3B4455;\n",
              "      fill: #D2E3FC;\n",
              "    }\n",
              "\n",
              "    [theme=dark] .colab-df-convert:hover {\n",
              "      background-color: #434B5C;\n",
              "      box-shadow: 0px 1px 3px 1px rgba(0, 0, 0, 0.15);\n",
              "      filter: drop-shadow(0px 1px 2px rgba(0, 0, 0, 0.3));\n",
              "      fill: #FFFFFF;\n",
              "    }\n",
              "  </style>\n",
              "\n",
              "    <script>\n",
              "      const buttonEl =\n",
              "        document.querySelector('#df-7d707b00-0c12-46e3-b801-eaa6377d91af button.colab-df-convert');\n",
              "      buttonEl.style.display =\n",
              "        google.colab.kernel.accessAllowed ? 'block' : 'none';\n",
              "\n",
              "      async function convertToInteractive(key) {\n",
              "        const element = document.querySelector('#df-7d707b00-0c12-46e3-b801-eaa6377d91af');\n",
              "        const dataTable =\n",
              "          await google.colab.kernel.invokeFunction('convertToInteractive',\n",
              "                                                    [key], {});\n",
              "        if (!dataTable) return;\n",
              "\n",
              "        const docLinkHtml = 'Like what you see? Visit the ' +\n",
              "          '<a target=\"_blank\" href=https://colab.research.google.com/notebooks/data_table.ipynb>data table notebook</a>'\n",
              "          + ' to learn more about interactive tables.';\n",
              "        element.innerHTML = '';\n",
              "        dataTable['output_type'] = 'display_data';\n",
              "        await google.colab.output.renderOutput(dataTable, element);\n",
              "        const docLink = document.createElement('div');\n",
              "        docLink.innerHTML = docLinkHtml;\n",
              "        element.appendChild(docLink);\n",
              "      }\n",
              "    </script>\n",
              "  </div>\n",
              "\n",
              "\n",
              "<div id=\"df-a11d39f0-79fe-49b4-a907-bbdc4fd2e020\">\n",
              "  <button class=\"colab-df-quickchart\" onclick=\"quickchart('df-a11d39f0-79fe-49b4-a907-bbdc4fd2e020')\"\n",
              "            title=\"Suggest charts\"\n",
              "            style=\"display:none;\">\n",
              "\n",
              "<svg xmlns=\"http://www.w3.org/2000/svg\" height=\"24px\"viewBox=\"0 0 24 24\"\n",
              "     width=\"24px\">\n",
              "    <g>\n",
              "        <path d=\"M19 3H5c-1.1 0-2 .9-2 2v14c0 1.1.9 2 2 2h14c1.1 0 2-.9 2-2V5c0-1.1-.9-2-2-2zM9 17H7v-7h2v7zm4 0h-2V7h2v10zm4 0h-2v-4h2v4z\"/>\n",
              "    </g>\n",
              "</svg>\n",
              "  </button>\n",
              "\n",
              "<style>\n",
              "  .colab-df-quickchart {\n",
              "      --bg-color: #E8F0FE;\n",
              "      --fill-color: #1967D2;\n",
              "      --hover-bg-color: #E2EBFA;\n",
              "      --hover-fill-color: #174EA6;\n",
              "      --disabled-fill-color: #AAA;\n",
              "      --disabled-bg-color: #DDD;\n",
              "  }\n",
              "\n",
              "  [theme=dark] .colab-df-quickchart {\n",
              "      --bg-color: #3B4455;\n",
              "      --fill-color: #D2E3FC;\n",
              "      --hover-bg-color: #434B5C;\n",
              "      --hover-fill-color: #FFFFFF;\n",
              "      --disabled-bg-color: #3B4455;\n",
              "      --disabled-fill-color: #666;\n",
              "  }\n",
              "\n",
              "  .colab-df-quickchart {\n",
              "    background-color: var(--bg-color);\n",
              "    border: none;\n",
              "    border-radius: 50%;\n",
              "    cursor: pointer;\n",
              "    display: none;\n",
              "    fill: var(--fill-color);\n",
              "    height: 32px;\n",
              "    padding: 0;\n",
              "    width: 32px;\n",
              "  }\n",
              "\n",
              "  .colab-df-quickchart:hover {\n",
              "    background-color: var(--hover-bg-color);\n",
              "    box-shadow: 0 1px 2px rgba(60, 64, 67, 0.3), 0 1px 3px 1px rgba(60, 64, 67, 0.15);\n",
              "    fill: var(--button-hover-fill-color);\n",
              "  }\n",
              "\n",
              "  .colab-df-quickchart-complete:disabled,\n",
              "  .colab-df-quickchart-complete:disabled:hover {\n",
              "    background-color: var(--disabled-bg-color);\n",
              "    fill: var(--disabled-fill-color);\n",
              "    box-shadow: none;\n",
              "  }\n",
              "\n",
              "  .colab-df-spinner {\n",
              "    border: 2px solid var(--fill-color);\n",
              "    border-color: transparent;\n",
              "    border-bottom-color: var(--fill-color);\n",
              "    animation:\n",
              "      spin 1s steps(1) infinite;\n",
              "  }\n",
              "\n",
              "  @keyframes spin {\n",
              "    0% {\n",
              "      border-color: transparent;\n",
              "      border-bottom-color: var(--fill-color);\n",
              "      border-left-color: var(--fill-color);\n",
              "    }\n",
              "    20% {\n",
              "      border-color: transparent;\n",
              "      border-left-color: var(--fill-color);\n",
              "      border-top-color: var(--fill-color);\n",
              "    }\n",
              "    30% {\n",
              "      border-color: transparent;\n",
              "      border-left-color: var(--fill-color);\n",
              "      border-top-color: var(--fill-color);\n",
              "      border-right-color: var(--fill-color);\n",
              "    }\n",
              "    40% {\n",
              "      border-color: transparent;\n",
              "      border-right-color: var(--fill-color);\n",
              "      border-top-color: var(--fill-color);\n",
              "    }\n",
              "    60% {\n",
              "      border-color: transparent;\n",
              "      border-right-color: var(--fill-color);\n",
              "    }\n",
              "    80% {\n",
              "      border-color: transparent;\n",
              "      border-right-color: var(--fill-color);\n",
              "      border-bottom-color: var(--fill-color);\n",
              "    }\n",
              "    90% {\n",
              "      border-color: transparent;\n",
              "      border-bottom-color: var(--fill-color);\n",
              "    }\n",
              "  }\n",
              "</style>\n",
              "\n",
              "  <script>\n",
              "    async function quickchart(key) {\n",
              "      const quickchartButtonEl =\n",
              "        document.querySelector('#' + key + ' button');\n",
              "      quickchartButtonEl.disabled = true;  // To prevent multiple clicks.\n",
              "      quickchartButtonEl.classList.add('colab-df-spinner');\n",
              "      try {\n",
              "        const charts = await google.colab.kernel.invokeFunction(\n",
              "            'suggestCharts', [key], {});\n",
              "      } catch (error) {\n",
              "        console.error('Error during call to suggestCharts:', error);\n",
              "      }\n",
              "      quickchartButtonEl.classList.remove('colab-df-spinner');\n",
              "      quickchartButtonEl.classList.add('colab-df-quickchart-complete');\n",
              "    }\n",
              "    (() => {\n",
              "      let quickchartButtonEl =\n",
              "        document.querySelector('#df-a11d39f0-79fe-49b4-a907-bbdc4fd2e020 button');\n",
              "      quickchartButtonEl.style.display =\n",
              "        google.colab.kernel.accessAllowed ? 'block' : 'none';\n",
              "    })();\n",
              "  </script>\n",
              "</div>\n",
              "    </div>\n",
              "  </div>\n"
            ]
          },
          "metadata": {},
          "execution_count": 66
        }
      ],
      "source": [
        "data_encod = pd.get_dummies(data_encod)\n",
        "data_encod"
      ]
    },
    {
      "cell_type": "markdown",
      "id": "ce46dfd0",
      "metadata": {
        "papermill": {
          "duration": 0.039605,
          "end_time": "2023-05-09T03:22:27.870126",
          "exception": false,
          "start_time": "2023-05-09T03:22:27.830521",
          "status": "completed"
        },
        "tags": [],
        "id": "ce46dfd0"
      },
      "source": [
        "# Scaling : Standard Scaling"
      ]
    },
    {
      "cell_type": "code",
      "execution_count": null,
      "id": "695d8998",
      "metadata": {
        "execution": {
          "iopub.execute_input": "2023-05-09T03:22:27.952928Z",
          "iopub.status.busy": "2023-05-09T03:22:27.952514Z",
          "iopub.status.idle": "2023-05-09T03:22:27.968077Z",
          "shell.execute_reply": "2023-05-09T03:22:27.966748Z"
        },
        "papermill": {
          "duration": 0.060836,
          "end_time": "2023-05-09T03:22:27.970543",
          "exception": false,
          "start_time": "2023-05-09T03:22:27.909707",
          "status": "completed"
        },
        "tags": [],
        "colab": {
          "base_uri": "https://localhost:8080/",
          "height": 423
        },
        "id": "695d8998",
        "outputId": "2ff0af84-cbe7-471f-ec02-7b800d888fd5"
      },
      "outputs": [
        {
          "output_type": "execute_result",
          "data": {
            "text/plain": [
              "      Effectiveness\n",
              "0          0.517259\n",
              "1          1.226128\n",
              "2          1.226128\n",
              "3          0.517259\n",
              "4         -1.609348\n",
              "...             ...\n",
              "6521      -1.609348\n",
              "6522      -1.609348\n",
              "6523       1.226128\n",
              "6524      -1.609348\n",
              "6525      -1.609348\n",
              "\n",
              "[6526 rows x 1 columns]"
            ],
            "text/html": [
              "\n",
              "  <div id=\"df-cee6b2bb-3dc8-4f46-9cc6-3d7fe8f46044\" class=\"colab-df-container\">\n",
              "    <div>\n",
              "<style scoped>\n",
              "    .dataframe tbody tr th:only-of-type {\n",
              "        vertical-align: middle;\n",
              "    }\n",
              "\n",
              "    .dataframe tbody tr th {\n",
              "        vertical-align: top;\n",
              "    }\n",
              "\n",
              "    .dataframe thead th {\n",
              "        text-align: right;\n",
              "    }\n",
              "</style>\n",
              "<table border=\"1\" class=\"dataframe\">\n",
              "  <thead>\n",
              "    <tr style=\"text-align: right;\">\n",
              "      <th></th>\n",
              "      <th>Effectiveness</th>\n",
              "    </tr>\n",
              "  </thead>\n",
              "  <tbody>\n",
              "    <tr>\n",
              "      <th>0</th>\n",
              "      <td>0.517259</td>\n",
              "    </tr>\n",
              "    <tr>\n",
              "      <th>1</th>\n",
              "      <td>1.226128</td>\n",
              "    </tr>\n",
              "    <tr>\n",
              "      <th>2</th>\n",
              "      <td>1.226128</td>\n",
              "    </tr>\n",
              "    <tr>\n",
              "      <th>3</th>\n",
              "      <td>0.517259</td>\n",
              "    </tr>\n",
              "    <tr>\n",
              "      <th>4</th>\n",
              "      <td>-1.609348</td>\n",
              "    </tr>\n",
              "    <tr>\n",
              "      <th>...</th>\n",
              "      <td>...</td>\n",
              "    </tr>\n",
              "    <tr>\n",
              "      <th>6521</th>\n",
              "      <td>-1.609348</td>\n",
              "    </tr>\n",
              "    <tr>\n",
              "      <th>6522</th>\n",
              "      <td>-1.609348</td>\n",
              "    </tr>\n",
              "    <tr>\n",
              "      <th>6523</th>\n",
              "      <td>1.226128</td>\n",
              "    </tr>\n",
              "    <tr>\n",
              "      <th>6524</th>\n",
              "      <td>-1.609348</td>\n",
              "    </tr>\n",
              "    <tr>\n",
              "      <th>6525</th>\n",
              "      <td>-1.609348</td>\n",
              "    </tr>\n",
              "  </tbody>\n",
              "</table>\n",
              "<p>6526 rows × 1 columns</p>\n",
              "</div>\n",
              "    <div class=\"colab-df-buttons\">\n",
              "\n",
              "  <div class=\"colab-df-container\">\n",
              "    <button class=\"colab-df-convert\" onclick=\"convertToInteractive('df-cee6b2bb-3dc8-4f46-9cc6-3d7fe8f46044')\"\n",
              "            title=\"Convert this dataframe to an interactive table.\"\n",
              "            style=\"display:none;\">\n",
              "\n",
              "  <svg xmlns=\"http://www.w3.org/2000/svg\" height=\"24px\" viewBox=\"0 -960 960 960\">\n",
              "    <path d=\"M120-120v-720h720v720H120Zm60-500h600v-160H180v160Zm220 220h160v-160H400v160Zm0 220h160v-160H400v160ZM180-400h160v-160H180v160Zm440 0h160v-160H620v160ZM180-180h160v-160H180v160Zm440 0h160v-160H620v160Z\"/>\n",
              "  </svg>\n",
              "    </button>\n",
              "\n",
              "  <style>\n",
              "    .colab-df-container {\n",
              "      display:flex;\n",
              "      gap: 12px;\n",
              "    }\n",
              "\n",
              "    .colab-df-convert {\n",
              "      background-color: #E8F0FE;\n",
              "      border: none;\n",
              "      border-radius: 50%;\n",
              "      cursor: pointer;\n",
              "      display: none;\n",
              "      fill: #1967D2;\n",
              "      height: 32px;\n",
              "      padding: 0 0 0 0;\n",
              "      width: 32px;\n",
              "    }\n",
              "\n",
              "    .colab-df-convert:hover {\n",
              "      background-color: #E2EBFA;\n",
              "      box-shadow: 0px 1px 2px rgba(60, 64, 67, 0.3), 0px 1px 3px 1px rgba(60, 64, 67, 0.15);\n",
              "      fill: #174EA6;\n",
              "    }\n",
              "\n",
              "    .colab-df-buttons div {\n",
              "      margin-bottom: 4px;\n",
              "    }\n",
              "\n",
              "    [theme=dark] .colab-df-convert {\n",
              "      background-color: #3B4455;\n",
              "      fill: #D2E3FC;\n",
              "    }\n",
              "\n",
              "    [theme=dark] .colab-df-convert:hover {\n",
              "      background-color: #434B5C;\n",
              "      box-shadow: 0px 1px 3px 1px rgba(0, 0, 0, 0.15);\n",
              "      filter: drop-shadow(0px 1px 2px rgba(0, 0, 0, 0.3));\n",
              "      fill: #FFFFFF;\n",
              "    }\n",
              "  </style>\n",
              "\n",
              "    <script>\n",
              "      const buttonEl =\n",
              "        document.querySelector('#df-cee6b2bb-3dc8-4f46-9cc6-3d7fe8f46044 button.colab-df-convert');\n",
              "      buttonEl.style.display =\n",
              "        google.colab.kernel.accessAllowed ? 'block' : 'none';\n",
              "\n",
              "      async function convertToInteractive(key) {\n",
              "        const element = document.querySelector('#df-cee6b2bb-3dc8-4f46-9cc6-3d7fe8f46044');\n",
              "        const dataTable =\n",
              "          await google.colab.kernel.invokeFunction('convertToInteractive',\n",
              "                                                    [key], {});\n",
              "        if (!dataTable) return;\n",
              "\n",
              "        const docLinkHtml = 'Like what you see? Visit the ' +\n",
              "          '<a target=\"_blank\" href=https://colab.research.google.com/notebooks/data_table.ipynb>data table notebook</a>'\n",
              "          + ' to learn more about interactive tables.';\n",
              "        element.innerHTML = '';\n",
              "        dataTable['output_type'] = 'display_data';\n",
              "        await google.colab.output.renderOutput(dataTable, element);\n",
              "        const docLink = document.createElement('div');\n",
              "        docLink.innerHTML = docLinkHtml;\n",
              "        element.appendChild(docLink);\n",
              "      }\n",
              "    </script>\n",
              "  </div>\n",
              "\n",
              "\n",
              "<div id=\"df-45418373-bb32-4107-91cf-99d5c6f84e89\">\n",
              "  <button class=\"colab-df-quickchart\" onclick=\"quickchart('df-45418373-bb32-4107-91cf-99d5c6f84e89')\"\n",
              "            title=\"Suggest charts\"\n",
              "            style=\"display:none;\">\n",
              "\n",
              "<svg xmlns=\"http://www.w3.org/2000/svg\" height=\"24px\"viewBox=\"0 0 24 24\"\n",
              "     width=\"24px\">\n",
              "    <g>\n",
              "        <path d=\"M19 3H5c-1.1 0-2 .9-2 2v14c0 1.1.9 2 2 2h14c1.1 0 2-.9 2-2V5c0-1.1-.9-2-2-2zM9 17H7v-7h2v7zm4 0h-2V7h2v10zm4 0h-2v-4h2v4z\"/>\n",
              "    </g>\n",
              "</svg>\n",
              "  </button>\n",
              "\n",
              "<style>\n",
              "  .colab-df-quickchart {\n",
              "      --bg-color: #E8F0FE;\n",
              "      --fill-color: #1967D2;\n",
              "      --hover-bg-color: #E2EBFA;\n",
              "      --hover-fill-color: #174EA6;\n",
              "      --disabled-fill-color: #AAA;\n",
              "      --disabled-bg-color: #DDD;\n",
              "  }\n",
              "\n",
              "  [theme=dark] .colab-df-quickchart {\n",
              "      --bg-color: #3B4455;\n",
              "      --fill-color: #D2E3FC;\n",
              "      --hover-bg-color: #434B5C;\n",
              "      --hover-fill-color: #FFFFFF;\n",
              "      --disabled-bg-color: #3B4455;\n",
              "      --disabled-fill-color: #666;\n",
              "  }\n",
              "\n",
              "  .colab-df-quickchart {\n",
              "    background-color: var(--bg-color);\n",
              "    border: none;\n",
              "    border-radius: 50%;\n",
              "    cursor: pointer;\n",
              "    display: none;\n",
              "    fill: var(--fill-color);\n",
              "    height: 32px;\n",
              "    padding: 0;\n",
              "    width: 32px;\n",
              "  }\n",
              "\n",
              "  .colab-df-quickchart:hover {\n",
              "    background-color: var(--hover-bg-color);\n",
              "    box-shadow: 0 1px 2px rgba(60, 64, 67, 0.3), 0 1px 3px 1px rgba(60, 64, 67, 0.15);\n",
              "    fill: var(--button-hover-fill-color);\n",
              "  }\n",
              "\n",
              "  .colab-df-quickchart-complete:disabled,\n",
              "  .colab-df-quickchart-complete:disabled:hover {\n",
              "    background-color: var(--disabled-bg-color);\n",
              "    fill: var(--disabled-fill-color);\n",
              "    box-shadow: none;\n",
              "  }\n",
              "\n",
              "  .colab-df-spinner {\n",
              "    border: 2px solid var(--fill-color);\n",
              "    border-color: transparent;\n",
              "    border-bottom-color: var(--fill-color);\n",
              "    animation:\n",
              "      spin 1s steps(1) infinite;\n",
              "  }\n",
              "\n",
              "  @keyframes spin {\n",
              "    0% {\n",
              "      border-color: transparent;\n",
              "      border-bottom-color: var(--fill-color);\n",
              "      border-left-color: var(--fill-color);\n",
              "    }\n",
              "    20% {\n",
              "      border-color: transparent;\n",
              "      border-left-color: var(--fill-color);\n",
              "      border-top-color: var(--fill-color);\n",
              "    }\n",
              "    30% {\n",
              "      border-color: transparent;\n",
              "      border-left-color: var(--fill-color);\n",
              "      border-top-color: var(--fill-color);\n",
              "      border-right-color: var(--fill-color);\n",
              "    }\n",
              "    40% {\n",
              "      border-color: transparent;\n",
              "      border-right-color: var(--fill-color);\n",
              "      border-top-color: var(--fill-color);\n",
              "    }\n",
              "    60% {\n",
              "      border-color: transparent;\n",
              "      border-right-color: var(--fill-color);\n",
              "    }\n",
              "    80% {\n",
              "      border-color: transparent;\n",
              "      border-right-color: var(--fill-color);\n",
              "      border-bottom-color: var(--fill-color);\n",
              "    }\n",
              "    90% {\n",
              "      border-color: transparent;\n",
              "      border-bottom-color: var(--fill-color);\n",
              "    }\n",
              "  }\n",
              "</style>\n",
              "\n",
              "  <script>\n",
              "    async function quickchart(key) {\n",
              "      const quickchartButtonEl =\n",
              "        document.querySelector('#' + key + ' button');\n",
              "      quickchartButtonEl.disabled = true;  // To prevent multiple clicks.\n",
              "      quickchartButtonEl.classList.add('colab-df-spinner');\n",
              "      try {\n",
              "        const charts = await google.colab.kernel.invokeFunction(\n",
              "            'suggestCharts', [key], {});\n",
              "      } catch (error) {\n",
              "        console.error('Error during call to suggestCharts:', error);\n",
              "      }\n",
              "      quickchartButtonEl.classList.remove('colab-df-spinner');\n",
              "      quickchartButtonEl.classList.add('colab-df-quickchart-complete');\n",
              "    }\n",
              "    (() => {\n",
              "      let quickchartButtonEl =\n",
              "        document.querySelector('#df-45418373-bb32-4107-91cf-99d5c6f84e89 button');\n",
              "      quickchartButtonEl.style.display =\n",
              "        google.colab.kernel.accessAllowed ? 'block' : 'none';\n",
              "    })();\n",
              "  </script>\n",
              "</div>\n",
              "    </div>\n",
              "  </div>\n"
            ]
          },
          "metadata": {},
          "execution_count": 67
        }
      ],
      "source": [
        "from sklearn.preprocessing import StandardScaler\n",
        "mm = StandardScaler()\n",
        "data_num = mm.fit_transform(data_num)\n",
        "data_num = pd.DataFrame(data_num, columns = ['Effectiveness'])\n",
        "data_num"
      ]
    },
    {
      "cell_type": "code",
      "execution_count": null,
      "id": "9a8b9f8f",
      "metadata": {
        "execution": {
          "iopub.execute_input": "2023-05-09T03:22:28.053746Z",
          "iopub.status.busy": "2023-05-09T03:22:28.053156Z",
          "iopub.status.idle": "2023-05-09T03:22:28.075435Z",
          "shell.execute_reply": "2023-05-09T03:22:28.074648Z"
        },
        "papermill": {
          "duration": 0.066603,
          "end_time": "2023-05-09T03:22:28.077390",
          "exception": false,
          "start_time": "2023-05-09T03:22:28.010787",
          "status": "completed"
        },
        "tags": [],
        "colab": {
          "base_uri": "https://localhost:8080/",
          "height": 461
        },
        "id": "9a8b9f8f",
        "outputId": "91570ea2-223d-4315-84fd-2aeeaac939e0"
      },
      "outputs": [
        {
          "output_type": "execute_result",
          "data": {
            "text/plain": [
              "       Race_Asian  Race_Black  Race_Hispanic  Race_White  Age_0-2  Age_13-18  \\\n",
              "9203            0           0              0           1        0          0   \n",
              "9209            0           0              1           0        0          0   \n",
              "9215            0           0              0           1        0          0   \n",
              "9221            0           0              0           1        0          0   \n",
              "9227            0           0              1           0        0          0   \n",
              "...           ...         ...            ...         ...      ...        ...   \n",
              "18981           0           0              0           1        0          0   \n",
              "18982           0           0              0           1        0          0   \n",
              "18984           0           0              0           1        0          0   \n",
              "18985           0           0              1           0        0          0   \n",
              "18990           1           0              0           0        0          0   \n",
              "\n",
              "       Age_19-24  Age_25-34  Age_35-44  Age_45-54  ...  Month_8  Month_9  \\\n",
              "9203           0          0          0          0  ...        0        0   \n",
              "9209           0          0          0          0  ...        0        0   \n",
              "9215           0          0          0          0  ...        0        0   \n",
              "9221           0          0          0          0  ...        0        0   \n",
              "9227           0          0          0          0  ...        1        0   \n",
              "...          ...        ...        ...        ...  ...      ...      ...   \n",
              "18981          0          1          0          0  ...        0        0   \n",
              "18982          0          0          0          1  ...        0        0   \n",
              "18984          0          0          0          1  ...        0        0   \n",
              "18985          0          1          0          0  ...        0        0   \n",
              "18990          0          0          0          0  ...        0        0   \n",
              "\n",
              "       day_of_week_Friday  day_of_week_Monday  day_of_week_Saturday  \\\n",
              "9203                    0                   0                     1   \n",
              "9209                    0                   0                     0   \n",
              "9215                    0                   0                     0   \n",
              "9221                    0                   0                     0   \n",
              "9227                    1                   0                     0   \n",
              "...                   ...                 ...                   ...   \n",
              "18981                   0                   0                     0   \n",
              "18982                   0                   0                     1   \n",
              "18984                   1                   0                     0   \n",
              "18985                   1                   0                     0   \n",
              "18990                   0                   1                     0   \n",
              "\n",
              "       day_of_week_Sunday  day_of_week_Thursday  day_of_week_Tuesday  \\\n",
              "9203                    0                     0                    0   \n",
              "9209                    0                     0                    1   \n",
              "9215                    0                     1                    0   \n",
              "9221                    1                     0                    0   \n",
              "9227                    0                     0                    0   \n",
              "...                   ...                   ...                  ...   \n",
              "18981                   1                     0                    0   \n",
              "18982                   0                     0                    0   \n",
              "18984                   0                     0                    0   \n",
              "18985                   0                     0                    0   \n",
              "18990                   0                     0                    0   \n",
              "\n",
              "       day_of_week_Wednesday  Effectiveness  \n",
              "9203                       0       0.517259  \n",
              "9209                       0       1.226128  \n",
              "9215                       0       1.226128  \n",
              "9221                       0       0.517259  \n",
              "9227                       0      -1.609348  \n",
              "...                      ...            ...  \n",
              "18981                      0      -1.609348  \n",
              "18982                      0      -1.609348  \n",
              "18984                      0       1.226128  \n",
              "18985                      0      -1.609348  \n",
              "18990                      0      -1.609348  \n",
              "\n",
              "[6526 rows x 35 columns]"
            ],
            "text/html": [
              "\n",
              "  <div id=\"df-b90ecf24-10a5-4d32-9bce-2ef0760363d0\" class=\"colab-df-container\">\n",
              "    <div>\n",
              "<style scoped>\n",
              "    .dataframe tbody tr th:only-of-type {\n",
              "        vertical-align: middle;\n",
              "    }\n",
              "\n",
              "    .dataframe tbody tr th {\n",
              "        vertical-align: top;\n",
              "    }\n",
              "\n",
              "    .dataframe thead th {\n",
              "        text-align: right;\n",
              "    }\n",
              "</style>\n",
              "<table border=\"1\" class=\"dataframe\">\n",
              "  <thead>\n",
              "    <tr style=\"text-align: right;\">\n",
              "      <th></th>\n",
              "      <th>Race_Asian</th>\n",
              "      <th>Race_Black</th>\n",
              "      <th>Race_Hispanic</th>\n",
              "      <th>Race_White</th>\n",
              "      <th>Age_0-2</th>\n",
              "      <th>Age_13-18</th>\n",
              "      <th>Age_19-24</th>\n",
              "      <th>Age_25-34</th>\n",
              "      <th>Age_35-44</th>\n",
              "      <th>Age_45-54</th>\n",
              "      <th>...</th>\n",
              "      <th>Month_8</th>\n",
              "      <th>Month_9</th>\n",
              "      <th>day_of_week_Friday</th>\n",
              "      <th>day_of_week_Monday</th>\n",
              "      <th>day_of_week_Saturday</th>\n",
              "      <th>day_of_week_Sunday</th>\n",
              "      <th>day_of_week_Thursday</th>\n",
              "      <th>day_of_week_Tuesday</th>\n",
              "      <th>day_of_week_Wednesday</th>\n",
              "      <th>Effectiveness</th>\n",
              "    </tr>\n",
              "  </thead>\n",
              "  <tbody>\n",
              "    <tr>\n",
              "      <th>9203</th>\n",
              "      <td>0</td>\n",
              "      <td>0</td>\n",
              "      <td>0</td>\n",
              "      <td>1</td>\n",
              "      <td>0</td>\n",
              "      <td>0</td>\n",
              "      <td>0</td>\n",
              "      <td>0</td>\n",
              "      <td>0</td>\n",
              "      <td>0</td>\n",
              "      <td>...</td>\n",
              "      <td>0</td>\n",
              "      <td>0</td>\n",
              "      <td>0</td>\n",
              "      <td>0</td>\n",
              "      <td>1</td>\n",
              "      <td>0</td>\n",
              "      <td>0</td>\n",
              "      <td>0</td>\n",
              "      <td>0</td>\n",
              "      <td>0.517259</td>\n",
              "    </tr>\n",
              "    <tr>\n",
              "      <th>9209</th>\n",
              "      <td>0</td>\n",
              "      <td>0</td>\n",
              "      <td>1</td>\n",
              "      <td>0</td>\n",
              "      <td>0</td>\n",
              "      <td>0</td>\n",
              "      <td>0</td>\n",
              "      <td>0</td>\n",
              "      <td>0</td>\n",
              "      <td>0</td>\n",
              "      <td>...</td>\n",
              "      <td>0</td>\n",
              "      <td>0</td>\n",
              "      <td>0</td>\n",
              "      <td>0</td>\n",
              "      <td>0</td>\n",
              "      <td>0</td>\n",
              "      <td>0</td>\n",
              "      <td>1</td>\n",
              "      <td>0</td>\n",
              "      <td>1.226128</td>\n",
              "    </tr>\n",
              "    <tr>\n",
              "      <th>9215</th>\n",
              "      <td>0</td>\n",
              "      <td>0</td>\n",
              "      <td>0</td>\n",
              "      <td>1</td>\n",
              "      <td>0</td>\n",
              "      <td>0</td>\n",
              "      <td>0</td>\n",
              "      <td>0</td>\n",
              "      <td>0</td>\n",
              "      <td>0</td>\n",
              "      <td>...</td>\n",
              "      <td>0</td>\n",
              "      <td>0</td>\n",
              "      <td>0</td>\n",
              "      <td>0</td>\n",
              "      <td>0</td>\n",
              "      <td>0</td>\n",
              "      <td>1</td>\n",
              "      <td>0</td>\n",
              "      <td>0</td>\n",
              "      <td>1.226128</td>\n",
              "    </tr>\n",
              "    <tr>\n",
              "      <th>9221</th>\n",
              "      <td>0</td>\n",
              "      <td>0</td>\n",
              "      <td>0</td>\n",
              "      <td>1</td>\n",
              "      <td>0</td>\n",
              "      <td>0</td>\n",
              "      <td>0</td>\n",
              "      <td>0</td>\n",
              "      <td>0</td>\n",
              "      <td>0</td>\n",
              "      <td>...</td>\n",
              "      <td>0</td>\n",
              "      <td>0</td>\n",
              "      <td>0</td>\n",
              "      <td>0</td>\n",
              "      <td>0</td>\n",
              "      <td>1</td>\n",
              "      <td>0</td>\n",
              "      <td>0</td>\n",
              "      <td>0</td>\n",
              "      <td>0.517259</td>\n",
              "    </tr>\n",
              "    <tr>\n",
              "      <th>9227</th>\n",
              "      <td>0</td>\n",
              "      <td>0</td>\n",
              "      <td>1</td>\n",
              "      <td>0</td>\n",
              "      <td>0</td>\n",
              "      <td>0</td>\n",
              "      <td>0</td>\n",
              "      <td>0</td>\n",
              "      <td>0</td>\n",
              "      <td>0</td>\n",
              "      <td>...</td>\n",
              "      <td>1</td>\n",
              "      <td>0</td>\n",
              "      <td>1</td>\n",
              "      <td>0</td>\n",
              "      <td>0</td>\n",
              "      <td>0</td>\n",
              "      <td>0</td>\n",
              "      <td>0</td>\n",
              "      <td>0</td>\n",
              "      <td>-1.609348</td>\n",
              "    </tr>\n",
              "    <tr>\n",
              "      <th>...</th>\n",
              "      <td>...</td>\n",
              "      <td>...</td>\n",
              "      <td>...</td>\n",
              "      <td>...</td>\n",
              "      <td>...</td>\n",
              "      <td>...</td>\n",
              "      <td>...</td>\n",
              "      <td>...</td>\n",
              "      <td>...</td>\n",
              "      <td>...</td>\n",
              "      <td>...</td>\n",
              "      <td>...</td>\n",
              "      <td>...</td>\n",
              "      <td>...</td>\n",
              "      <td>...</td>\n",
              "      <td>...</td>\n",
              "      <td>...</td>\n",
              "      <td>...</td>\n",
              "      <td>...</td>\n",
              "      <td>...</td>\n",
              "      <td>...</td>\n",
              "    </tr>\n",
              "    <tr>\n",
              "      <th>18981</th>\n",
              "      <td>0</td>\n",
              "      <td>0</td>\n",
              "      <td>0</td>\n",
              "      <td>1</td>\n",
              "      <td>0</td>\n",
              "      <td>0</td>\n",
              "      <td>0</td>\n",
              "      <td>1</td>\n",
              "      <td>0</td>\n",
              "      <td>0</td>\n",
              "      <td>...</td>\n",
              "      <td>0</td>\n",
              "      <td>0</td>\n",
              "      <td>0</td>\n",
              "      <td>0</td>\n",
              "      <td>0</td>\n",
              "      <td>1</td>\n",
              "      <td>0</td>\n",
              "      <td>0</td>\n",
              "      <td>0</td>\n",
              "      <td>-1.609348</td>\n",
              "    </tr>\n",
              "    <tr>\n",
              "      <th>18982</th>\n",
              "      <td>0</td>\n",
              "      <td>0</td>\n",
              "      <td>0</td>\n",
              "      <td>1</td>\n",
              "      <td>0</td>\n",
              "      <td>0</td>\n",
              "      <td>0</td>\n",
              "      <td>0</td>\n",
              "      <td>0</td>\n",
              "      <td>1</td>\n",
              "      <td>...</td>\n",
              "      <td>0</td>\n",
              "      <td>0</td>\n",
              "      <td>0</td>\n",
              "      <td>0</td>\n",
              "      <td>1</td>\n",
              "      <td>0</td>\n",
              "      <td>0</td>\n",
              "      <td>0</td>\n",
              "      <td>0</td>\n",
              "      <td>-1.609348</td>\n",
              "    </tr>\n",
              "    <tr>\n",
              "      <th>18984</th>\n",
              "      <td>0</td>\n",
              "      <td>0</td>\n",
              "      <td>0</td>\n",
              "      <td>1</td>\n",
              "      <td>0</td>\n",
              "      <td>0</td>\n",
              "      <td>0</td>\n",
              "      <td>0</td>\n",
              "      <td>0</td>\n",
              "      <td>1</td>\n",
              "      <td>...</td>\n",
              "      <td>0</td>\n",
              "      <td>0</td>\n",
              "      <td>1</td>\n",
              "      <td>0</td>\n",
              "      <td>0</td>\n",
              "      <td>0</td>\n",
              "      <td>0</td>\n",
              "      <td>0</td>\n",
              "      <td>0</td>\n",
              "      <td>1.226128</td>\n",
              "    </tr>\n",
              "    <tr>\n",
              "      <th>18985</th>\n",
              "      <td>0</td>\n",
              "      <td>0</td>\n",
              "      <td>1</td>\n",
              "      <td>0</td>\n",
              "      <td>0</td>\n",
              "      <td>0</td>\n",
              "      <td>0</td>\n",
              "      <td>1</td>\n",
              "      <td>0</td>\n",
              "      <td>0</td>\n",
              "      <td>...</td>\n",
              "      <td>0</td>\n",
              "      <td>0</td>\n",
              "      <td>1</td>\n",
              "      <td>0</td>\n",
              "      <td>0</td>\n",
              "      <td>0</td>\n",
              "      <td>0</td>\n",
              "      <td>0</td>\n",
              "      <td>0</td>\n",
              "      <td>-1.609348</td>\n",
              "    </tr>\n",
              "    <tr>\n",
              "      <th>18990</th>\n",
              "      <td>1</td>\n",
              "      <td>0</td>\n",
              "      <td>0</td>\n",
              "      <td>0</td>\n",
              "      <td>0</td>\n",
              "      <td>0</td>\n",
              "      <td>0</td>\n",
              "      <td>0</td>\n",
              "      <td>0</td>\n",
              "      <td>0</td>\n",
              "      <td>...</td>\n",
              "      <td>0</td>\n",
              "      <td>0</td>\n",
              "      <td>0</td>\n",
              "      <td>1</td>\n",
              "      <td>0</td>\n",
              "      <td>0</td>\n",
              "      <td>0</td>\n",
              "      <td>0</td>\n",
              "      <td>0</td>\n",
              "      <td>-1.609348</td>\n",
              "    </tr>\n",
              "  </tbody>\n",
              "</table>\n",
              "<p>6526 rows × 35 columns</p>\n",
              "</div>\n",
              "    <div class=\"colab-df-buttons\">\n",
              "\n",
              "  <div class=\"colab-df-container\">\n",
              "    <button class=\"colab-df-convert\" onclick=\"convertToInteractive('df-b90ecf24-10a5-4d32-9bce-2ef0760363d0')\"\n",
              "            title=\"Convert this dataframe to an interactive table.\"\n",
              "            style=\"display:none;\">\n",
              "\n",
              "  <svg xmlns=\"http://www.w3.org/2000/svg\" height=\"24px\" viewBox=\"0 -960 960 960\">\n",
              "    <path d=\"M120-120v-720h720v720H120Zm60-500h600v-160H180v160Zm220 220h160v-160H400v160Zm0 220h160v-160H400v160ZM180-400h160v-160H180v160Zm440 0h160v-160H620v160ZM180-180h160v-160H180v160Zm440 0h160v-160H620v160Z\"/>\n",
              "  </svg>\n",
              "    </button>\n",
              "\n",
              "  <style>\n",
              "    .colab-df-container {\n",
              "      display:flex;\n",
              "      gap: 12px;\n",
              "    }\n",
              "\n",
              "    .colab-df-convert {\n",
              "      background-color: #E8F0FE;\n",
              "      border: none;\n",
              "      border-radius: 50%;\n",
              "      cursor: pointer;\n",
              "      display: none;\n",
              "      fill: #1967D2;\n",
              "      height: 32px;\n",
              "      padding: 0 0 0 0;\n",
              "      width: 32px;\n",
              "    }\n",
              "\n",
              "    .colab-df-convert:hover {\n",
              "      background-color: #E2EBFA;\n",
              "      box-shadow: 0px 1px 2px rgba(60, 64, 67, 0.3), 0px 1px 3px 1px rgba(60, 64, 67, 0.15);\n",
              "      fill: #174EA6;\n",
              "    }\n",
              "\n",
              "    .colab-df-buttons div {\n",
              "      margin-bottom: 4px;\n",
              "    }\n",
              "\n",
              "    [theme=dark] .colab-df-convert {\n",
              "      background-color: #3B4455;\n",
              "      fill: #D2E3FC;\n",
              "    }\n",
              "\n",
              "    [theme=dark] .colab-df-convert:hover {\n",
              "      background-color: #434B5C;\n",
              "      box-shadow: 0px 1px 3px 1px rgba(0, 0, 0, 0.15);\n",
              "      filter: drop-shadow(0px 1px 2px rgba(0, 0, 0, 0.3));\n",
              "      fill: #FFFFFF;\n",
              "    }\n",
              "  </style>\n",
              "\n",
              "    <script>\n",
              "      const buttonEl =\n",
              "        document.querySelector('#df-b90ecf24-10a5-4d32-9bce-2ef0760363d0 button.colab-df-convert');\n",
              "      buttonEl.style.display =\n",
              "        google.colab.kernel.accessAllowed ? 'block' : 'none';\n",
              "\n",
              "      async function convertToInteractive(key) {\n",
              "        const element = document.querySelector('#df-b90ecf24-10a5-4d32-9bce-2ef0760363d0');\n",
              "        const dataTable =\n",
              "          await google.colab.kernel.invokeFunction('convertToInteractive',\n",
              "                                                    [key], {});\n",
              "        if (!dataTable) return;\n",
              "\n",
              "        const docLinkHtml = 'Like what you see? Visit the ' +\n",
              "          '<a target=\"_blank\" href=https://colab.research.google.com/notebooks/data_table.ipynb>data table notebook</a>'\n",
              "          + ' to learn more about interactive tables.';\n",
              "        element.innerHTML = '';\n",
              "        dataTable['output_type'] = 'display_data';\n",
              "        await google.colab.output.renderOutput(dataTable, element);\n",
              "        const docLink = document.createElement('div');\n",
              "        docLink.innerHTML = docLinkHtml;\n",
              "        element.appendChild(docLink);\n",
              "      }\n",
              "    </script>\n",
              "  </div>\n",
              "\n",
              "\n",
              "<div id=\"df-ca6a0321-cd00-47bd-a9d2-e9db890c7ad2\">\n",
              "  <button class=\"colab-df-quickchart\" onclick=\"quickchart('df-ca6a0321-cd00-47bd-a9d2-e9db890c7ad2')\"\n",
              "            title=\"Suggest charts\"\n",
              "            style=\"display:none;\">\n",
              "\n",
              "<svg xmlns=\"http://www.w3.org/2000/svg\" height=\"24px\"viewBox=\"0 0 24 24\"\n",
              "     width=\"24px\">\n",
              "    <g>\n",
              "        <path d=\"M19 3H5c-1.1 0-2 .9-2 2v14c0 1.1.9 2 2 2h14c1.1 0 2-.9 2-2V5c0-1.1-.9-2-2-2zM9 17H7v-7h2v7zm4 0h-2V7h2v10zm4 0h-2v-4h2v4z\"/>\n",
              "    </g>\n",
              "</svg>\n",
              "  </button>\n",
              "\n",
              "<style>\n",
              "  .colab-df-quickchart {\n",
              "      --bg-color: #E8F0FE;\n",
              "      --fill-color: #1967D2;\n",
              "      --hover-bg-color: #E2EBFA;\n",
              "      --hover-fill-color: #174EA6;\n",
              "      --disabled-fill-color: #AAA;\n",
              "      --disabled-bg-color: #DDD;\n",
              "  }\n",
              "\n",
              "  [theme=dark] .colab-df-quickchart {\n",
              "      --bg-color: #3B4455;\n",
              "      --fill-color: #D2E3FC;\n",
              "      --hover-bg-color: #434B5C;\n",
              "      --hover-fill-color: #FFFFFF;\n",
              "      --disabled-bg-color: #3B4455;\n",
              "      --disabled-fill-color: #666;\n",
              "  }\n",
              "\n",
              "  .colab-df-quickchart {\n",
              "    background-color: var(--bg-color);\n",
              "    border: none;\n",
              "    border-radius: 50%;\n",
              "    cursor: pointer;\n",
              "    display: none;\n",
              "    fill: var(--fill-color);\n",
              "    height: 32px;\n",
              "    padding: 0;\n",
              "    width: 32px;\n",
              "  }\n",
              "\n",
              "  .colab-df-quickchart:hover {\n",
              "    background-color: var(--hover-bg-color);\n",
              "    box-shadow: 0 1px 2px rgba(60, 64, 67, 0.3), 0 1px 3px 1px rgba(60, 64, 67, 0.15);\n",
              "    fill: var(--button-hover-fill-color);\n",
              "  }\n",
              "\n",
              "  .colab-df-quickchart-complete:disabled,\n",
              "  .colab-df-quickchart-complete:disabled:hover {\n",
              "    background-color: var(--disabled-bg-color);\n",
              "    fill: var(--disabled-fill-color);\n",
              "    box-shadow: none;\n",
              "  }\n",
              "\n",
              "  .colab-df-spinner {\n",
              "    border: 2px solid var(--fill-color);\n",
              "    border-color: transparent;\n",
              "    border-bottom-color: var(--fill-color);\n",
              "    animation:\n",
              "      spin 1s steps(1) infinite;\n",
              "  }\n",
              "\n",
              "  @keyframes spin {\n",
              "    0% {\n",
              "      border-color: transparent;\n",
              "      border-bottom-color: var(--fill-color);\n",
              "      border-left-color: var(--fill-color);\n",
              "    }\n",
              "    20% {\n",
              "      border-color: transparent;\n",
              "      border-left-color: var(--fill-color);\n",
              "      border-top-color: var(--fill-color);\n",
              "    }\n",
              "    30% {\n",
              "      border-color: transparent;\n",
              "      border-left-color: var(--fill-color);\n",
              "      border-top-color: var(--fill-color);\n",
              "      border-right-color: var(--fill-color);\n",
              "    }\n",
              "    40% {\n",
              "      border-color: transparent;\n",
              "      border-right-color: var(--fill-color);\n",
              "      border-top-color: var(--fill-color);\n",
              "    }\n",
              "    60% {\n",
              "      border-color: transparent;\n",
              "      border-right-color: var(--fill-color);\n",
              "    }\n",
              "    80% {\n",
              "      border-color: transparent;\n",
              "      border-right-color: var(--fill-color);\n",
              "      border-bottom-color: var(--fill-color);\n",
              "    }\n",
              "    90% {\n",
              "      border-color: transparent;\n",
              "      border-bottom-color: var(--fill-color);\n",
              "    }\n",
              "  }\n",
              "</style>\n",
              "\n",
              "  <script>\n",
              "    async function quickchart(key) {\n",
              "      const quickchartButtonEl =\n",
              "        document.querySelector('#' + key + ' button');\n",
              "      quickchartButtonEl.disabled = true;  // To prevent multiple clicks.\n",
              "      quickchartButtonEl.classList.add('colab-df-spinner');\n",
              "      try {\n",
              "        const charts = await google.colab.kernel.invokeFunction(\n",
              "            'suggestCharts', [key], {});\n",
              "      } catch (error) {\n",
              "        console.error('Error during call to suggestCharts:', error);\n",
              "      }\n",
              "      quickchartButtonEl.classList.remove('colab-df-spinner');\n",
              "      quickchartButtonEl.classList.add('colab-df-quickchart-complete');\n",
              "    }\n",
              "    (() => {\n",
              "      let quickchartButtonEl =\n",
              "        document.querySelector('#df-ca6a0321-cd00-47bd-a9d2-e9db890c7ad2 button');\n",
              "      quickchartButtonEl.style.display =\n",
              "        google.colab.kernel.accessAllowed ? 'block' : 'none';\n",
              "    })();\n",
              "  </script>\n",
              "</div>\n",
              "    </div>\n",
              "  </div>\n"
            ]
          },
          "metadata": {},
          "execution_count": 68
        }
      ],
      "source": [
        "data3 = data_encod\n",
        "data3['Effectiveness'] = data_num.values\n",
        "data3"
      ]
    },
    {
      "cell_type": "markdown",
      "id": "c6861fcd",
      "metadata": {
        "papermill": {
          "duration": 0.040911,
          "end_time": "2023-05-09T03:22:28.159142",
          "exception": false,
          "start_time": "2023-05-09T03:22:28.118231",
          "status": "completed"
        },
        "tags": [],
        "id": "c6861fcd"
      },
      "source": [
        "#### So finally what I suppose is the following features which are race, age, review rank and effectiveness can form the dataset which will predict the sideeffect of the user."
      ]
    },
    {
      "cell_type": "code",
      "execution_count": null,
      "id": "67eebe8a",
      "metadata": {
        "execution": {
          "iopub.execute_input": "2023-05-09T03:22:28.243776Z",
          "iopub.status.busy": "2023-05-09T03:22:28.243181Z",
          "iopub.status.idle": "2023-05-09T03:22:28.267577Z",
          "shell.execute_reply": "2023-05-09T03:22:28.266724Z"
        },
        "papermill": {
          "duration": 0.069351,
          "end_time": "2023-05-09T03:22:28.269610",
          "exception": false,
          "start_time": "2023-05-09T03:22:28.200259",
          "status": "completed"
        },
        "tags": [],
        "colab": {
          "base_uri": "https://localhost:8080/",
          "height": 461
        },
        "id": "67eebe8a",
        "outputId": "f7f01d25-eba2-4187-f9e8-305861df6547"
      },
      "outputs": [
        {
          "output_type": "execute_result",
          "data": {
            "text/plain": [
              "       Race_Asian  Race_Black  Race_Hispanic  Race_White  Age_0-2  Age_13-18  \\\n",
              "9203            0           0              0           1        0          0   \n",
              "9209            0           0              1           0        0          0   \n",
              "9215            0           0              0           1        0          0   \n",
              "9221            0           0              0           1        0          0   \n",
              "9227            0           0              1           0        0          0   \n",
              "...           ...         ...            ...         ...      ...        ...   \n",
              "18981           0           0              0           1        0          0   \n",
              "18982           0           0              0           1        0          0   \n",
              "18984           0           0              0           1        0          0   \n",
              "18985           0           0              1           0        0          0   \n",
              "18990           1           0              0           0        0          0   \n",
              "\n",
              "       Age_19-24  Age_25-34  Age_35-44  Age_45-54  ...  day_of_week_Monday  \\\n",
              "9203           0          0          0          0  ...                   0   \n",
              "9209           0          0          0          0  ...                   0   \n",
              "9215           0          0          0          0  ...                   0   \n",
              "9221           0          0          0          0  ...                   0   \n",
              "9227           0          0          0          0  ...                   0   \n",
              "...          ...        ...        ...        ...  ...                 ...   \n",
              "18981          0          1          0          0  ...                   0   \n",
              "18982          0          0          0          1  ...                   0   \n",
              "18984          0          0          0          1  ...                   0   \n",
              "18985          0          1          0          0  ...                   0   \n",
              "18990          0          0          0          0  ...                   1   \n",
              "\n",
              "       day_of_week_Saturday  day_of_week_Sunday  day_of_week_Thursday  \\\n",
              "9203                      1                   0                     0   \n",
              "9209                      0                   0                     0   \n",
              "9215                      0                   0                     1   \n",
              "9221                      0                   1                     0   \n",
              "9227                      0                   0                     0   \n",
              "...                     ...                 ...                   ...   \n",
              "18981                     0                   1                     0   \n",
              "18982                     1                   0                     0   \n",
              "18984                     0                   0                     0   \n",
              "18985                     0                   0                     0   \n",
              "18990                     0                   0                     0   \n",
              "\n",
              "       day_of_week_Tuesday  day_of_week_Wednesday  Effectiveness  \\\n",
              "9203                     0                      0       0.517259   \n",
              "9209                     1                      0       1.226128   \n",
              "9215                     0                      0       1.226128   \n",
              "9221                     0                      0       0.517259   \n",
              "9227                     0                      0      -1.609348   \n",
              "...                    ...                    ...            ...   \n",
              "18981                    0                      0      -1.609348   \n",
              "18982                    0                      0      -1.609348   \n",
              "18984                    0                      0       1.226128   \n",
              "18985                    0                      0      -1.609348   \n",
              "18990                    0                      0      -1.609348   \n",
              "\n",
              "       Reviews_Rank  UsefulCount_boxcox  EaseofUse_boxcox  \n",
              "9203            1.0           -0.835439          0.943255  \n",
              "9209            1.0           -0.835439         -0.231105  \n",
              "9215            1.0           -0.102133          0.943255  \n",
              "9221            0.0            0.918562         -1.480793  \n",
              "9227            0.0            1.837785         -1.004962  \n",
              "...             ...                 ...               ...  \n",
              "18981           0.0            1.551731         -1.480793  \n",
              "18982           0.0            0.918562          0.943255  \n",
              "18984           1.0           -0.835439          0.943255  \n",
              "18985           0.0            0.631664         -1.746405  \n",
              "18990           0.0            1.951718         -1.746405  \n",
              "\n",
              "[6526 rows x 38 columns]"
            ],
            "text/html": [
              "\n",
              "  <div id=\"df-f0eb1b01-da2b-4036-bffd-6f2a7de700d4\" class=\"colab-df-container\">\n",
              "    <div>\n",
              "<style scoped>\n",
              "    .dataframe tbody tr th:only-of-type {\n",
              "        vertical-align: middle;\n",
              "    }\n",
              "\n",
              "    .dataframe tbody tr th {\n",
              "        vertical-align: top;\n",
              "    }\n",
              "\n",
              "    .dataframe thead th {\n",
              "        text-align: right;\n",
              "    }\n",
              "</style>\n",
              "<table border=\"1\" class=\"dataframe\">\n",
              "  <thead>\n",
              "    <tr style=\"text-align: right;\">\n",
              "      <th></th>\n",
              "      <th>Race_Asian</th>\n",
              "      <th>Race_Black</th>\n",
              "      <th>Race_Hispanic</th>\n",
              "      <th>Race_White</th>\n",
              "      <th>Age_0-2</th>\n",
              "      <th>Age_13-18</th>\n",
              "      <th>Age_19-24</th>\n",
              "      <th>Age_25-34</th>\n",
              "      <th>Age_35-44</th>\n",
              "      <th>Age_45-54</th>\n",
              "      <th>...</th>\n",
              "      <th>day_of_week_Monday</th>\n",
              "      <th>day_of_week_Saturday</th>\n",
              "      <th>day_of_week_Sunday</th>\n",
              "      <th>day_of_week_Thursday</th>\n",
              "      <th>day_of_week_Tuesday</th>\n",
              "      <th>day_of_week_Wednesday</th>\n",
              "      <th>Effectiveness</th>\n",
              "      <th>Reviews_Rank</th>\n",
              "      <th>UsefulCount_boxcox</th>\n",
              "      <th>EaseofUse_boxcox</th>\n",
              "    </tr>\n",
              "  </thead>\n",
              "  <tbody>\n",
              "    <tr>\n",
              "      <th>9203</th>\n",
              "      <td>0</td>\n",
              "      <td>0</td>\n",
              "      <td>0</td>\n",
              "      <td>1</td>\n",
              "      <td>0</td>\n",
              "      <td>0</td>\n",
              "      <td>0</td>\n",
              "      <td>0</td>\n",
              "      <td>0</td>\n",
              "      <td>0</td>\n",
              "      <td>...</td>\n",
              "      <td>0</td>\n",
              "      <td>1</td>\n",
              "      <td>0</td>\n",
              "      <td>0</td>\n",
              "      <td>0</td>\n",
              "      <td>0</td>\n",
              "      <td>0.517259</td>\n",
              "      <td>1.0</td>\n",
              "      <td>-0.835439</td>\n",
              "      <td>0.943255</td>\n",
              "    </tr>\n",
              "    <tr>\n",
              "      <th>9209</th>\n",
              "      <td>0</td>\n",
              "      <td>0</td>\n",
              "      <td>1</td>\n",
              "      <td>0</td>\n",
              "      <td>0</td>\n",
              "      <td>0</td>\n",
              "      <td>0</td>\n",
              "      <td>0</td>\n",
              "      <td>0</td>\n",
              "      <td>0</td>\n",
              "      <td>...</td>\n",
              "      <td>0</td>\n",
              "      <td>0</td>\n",
              "      <td>0</td>\n",
              "      <td>0</td>\n",
              "      <td>1</td>\n",
              "      <td>0</td>\n",
              "      <td>1.226128</td>\n",
              "      <td>1.0</td>\n",
              "      <td>-0.835439</td>\n",
              "      <td>-0.231105</td>\n",
              "    </tr>\n",
              "    <tr>\n",
              "      <th>9215</th>\n",
              "      <td>0</td>\n",
              "      <td>0</td>\n",
              "      <td>0</td>\n",
              "      <td>1</td>\n",
              "      <td>0</td>\n",
              "      <td>0</td>\n",
              "      <td>0</td>\n",
              "      <td>0</td>\n",
              "      <td>0</td>\n",
              "      <td>0</td>\n",
              "      <td>...</td>\n",
              "      <td>0</td>\n",
              "      <td>0</td>\n",
              "      <td>0</td>\n",
              "      <td>1</td>\n",
              "      <td>0</td>\n",
              "      <td>0</td>\n",
              "      <td>1.226128</td>\n",
              "      <td>1.0</td>\n",
              "      <td>-0.102133</td>\n",
              "      <td>0.943255</td>\n",
              "    </tr>\n",
              "    <tr>\n",
              "      <th>9221</th>\n",
              "      <td>0</td>\n",
              "      <td>0</td>\n",
              "      <td>0</td>\n",
              "      <td>1</td>\n",
              "      <td>0</td>\n",
              "      <td>0</td>\n",
              "      <td>0</td>\n",
              "      <td>0</td>\n",
              "      <td>0</td>\n",
              "      <td>0</td>\n",
              "      <td>...</td>\n",
              "      <td>0</td>\n",
              "      <td>0</td>\n",
              "      <td>1</td>\n",
              "      <td>0</td>\n",
              "      <td>0</td>\n",
              "      <td>0</td>\n",
              "      <td>0.517259</td>\n",
              "      <td>0.0</td>\n",
              "      <td>0.918562</td>\n",
              "      <td>-1.480793</td>\n",
              "    </tr>\n",
              "    <tr>\n",
              "      <th>9227</th>\n",
              "      <td>0</td>\n",
              "      <td>0</td>\n",
              "      <td>1</td>\n",
              "      <td>0</td>\n",
              "      <td>0</td>\n",
              "      <td>0</td>\n",
              "      <td>0</td>\n",
              "      <td>0</td>\n",
              "      <td>0</td>\n",
              "      <td>0</td>\n",
              "      <td>...</td>\n",
              "      <td>0</td>\n",
              "      <td>0</td>\n",
              "      <td>0</td>\n",
              "      <td>0</td>\n",
              "      <td>0</td>\n",
              "      <td>0</td>\n",
              "      <td>-1.609348</td>\n",
              "      <td>0.0</td>\n",
              "      <td>1.837785</td>\n",
              "      <td>-1.004962</td>\n",
              "    </tr>\n",
              "    <tr>\n",
              "      <th>...</th>\n",
              "      <td>...</td>\n",
              "      <td>...</td>\n",
              "      <td>...</td>\n",
              "      <td>...</td>\n",
              "      <td>...</td>\n",
              "      <td>...</td>\n",
              "      <td>...</td>\n",
              "      <td>...</td>\n",
              "      <td>...</td>\n",
              "      <td>...</td>\n",
              "      <td>...</td>\n",
              "      <td>...</td>\n",
              "      <td>...</td>\n",
              "      <td>...</td>\n",
              "      <td>...</td>\n",
              "      <td>...</td>\n",
              "      <td>...</td>\n",
              "      <td>...</td>\n",
              "      <td>...</td>\n",
              "      <td>...</td>\n",
              "      <td>...</td>\n",
              "    </tr>\n",
              "    <tr>\n",
              "      <th>18981</th>\n",
              "      <td>0</td>\n",
              "      <td>0</td>\n",
              "      <td>0</td>\n",
              "      <td>1</td>\n",
              "      <td>0</td>\n",
              "      <td>0</td>\n",
              "      <td>0</td>\n",
              "      <td>1</td>\n",
              "      <td>0</td>\n",
              "      <td>0</td>\n",
              "      <td>...</td>\n",
              "      <td>0</td>\n",
              "      <td>0</td>\n",
              "      <td>1</td>\n",
              "      <td>0</td>\n",
              "      <td>0</td>\n",
              "      <td>0</td>\n",
              "      <td>-1.609348</td>\n",
              "      <td>0.0</td>\n",
              "      <td>1.551731</td>\n",
              "      <td>-1.480793</td>\n",
              "    </tr>\n",
              "    <tr>\n",
              "      <th>18982</th>\n",
              "      <td>0</td>\n",
              "      <td>0</td>\n",
              "      <td>0</td>\n",
              "      <td>1</td>\n",
              "      <td>0</td>\n",
              "      <td>0</td>\n",
              "      <td>0</td>\n",
              "      <td>0</td>\n",
              "      <td>0</td>\n",
              "      <td>1</td>\n",
              "      <td>...</td>\n",
              "      <td>0</td>\n",
              "      <td>1</td>\n",
              "      <td>0</td>\n",
              "      <td>0</td>\n",
              "      <td>0</td>\n",
              "      <td>0</td>\n",
              "      <td>-1.609348</td>\n",
              "      <td>0.0</td>\n",
              "      <td>0.918562</td>\n",
              "      <td>0.943255</td>\n",
              "    </tr>\n",
              "    <tr>\n",
              "      <th>18984</th>\n",
              "      <td>0</td>\n",
              "      <td>0</td>\n",
              "      <td>0</td>\n",
              "      <td>1</td>\n",
              "      <td>0</td>\n",
              "      <td>0</td>\n",
              "      <td>0</td>\n",
              "      <td>0</td>\n",
              "      <td>0</td>\n",
              "      <td>1</td>\n",
              "      <td>...</td>\n",
              "      <td>0</td>\n",
              "      <td>0</td>\n",
              "      <td>0</td>\n",
              "      <td>0</td>\n",
              "      <td>0</td>\n",
              "      <td>0</td>\n",
              "      <td>1.226128</td>\n",
              "      <td>1.0</td>\n",
              "      <td>-0.835439</td>\n",
              "      <td>0.943255</td>\n",
              "    </tr>\n",
              "    <tr>\n",
              "      <th>18985</th>\n",
              "      <td>0</td>\n",
              "      <td>0</td>\n",
              "      <td>1</td>\n",
              "      <td>0</td>\n",
              "      <td>0</td>\n",
              "      <td>0</td>\n",
              "      <td>0</td>\n",
              "      <td>1</td>\n",
              "      <td>0</td>\n",
              "      <td>0</td>\n",
              "      <td>...</td>\n",
              "      <td>0</td>\n",
              "      <td>0</td>\n",
              "      <td>0</td>\n",
              "      <td>0</td>\n",
              "      <td>0</td>\n",
              "      <td>0</td>\n",
              "      <td>-1.609348</td>\n",
              "      <td>0.0</td>\n",
              "      <td>0.631664</td>\n",
              "      <td>-1.746405</td>\n",
              "    </tr>\n",
              "    <tr>\n",
              "      <th>18990</th>\n",
              "      <td>1</td>\n",
              "      <td>0</td>\n",
              "      <td>0</td>\n",
              "      <td>0</td>\n",
              "      <td>0</td>\n",
              "      <td>0</td>\n",
              "      <td>0</td>\n",
              "      <td>0</td>\n",
              "      <td>0</td>\n",
              "      <td>0</td>\n",
              "      <td>...</td>\n",
              "      <td>1</td>\n",
              "      <td>0</td>\n",
              "      <td>0</td>\n",
              "      <td>0</td>\n",
              "      <td>0</td>\n",
              "      <td>0</td>\n",
              "      <td>-1.609348</td>\n",
              "      <td>0.0</td>\n",
              "      <td>1.951718</td>\n",
              "      <td>-1.746405</td>\n",
              "    </tr>\n",
              "  </tbody>\n",
              "</table>\n",
              "<p>6526 rows × 38 columns</p>\n",
              "</div>\n",
              "    <div class=\"colab-df-buttons\">\n",
              "\n",
              "  <div class=\"colab-df-container\">\n",
              "    <button class=\"colab-df-convert\" onclick=\"convertToInteractive('df-f0eb1b01-da2b-4036-bffd-6f2a7de700d4')\"\n",
              "            title=\"Convert this dataframe to an interactive table.\"\n",
              "            style=\"display:none;\">\n",
              "\n",
              "  <svg xmlns=\"http://www.w3.org/2000/svg\" height=\"24px\" viewBox=\"0 -960 960 960\">\n",
              "    <path d=\"M120-120v-720h720v720H120Zm60-500h600v-160H180v160Zm220 220h160v-160H400v160Zm0 220h160v-160H400v160ZM180-400h160v-160H180v160Zm440 0h160v-160H620v160ZM180-180h160v-160H180v160Zm440 0h160v-160H620v160Z\"/>\n",
              "  </svg>\n",
              "    </button>\n",
              "\n",
              "  <style>\n",
              "    .colab-df-container {\n",
              "      display:flex;\n",
              "      gap: 12px;\n",
              "    }\n",
              "\n",
              "    .colab-df-convert {\n",
              "      background-color: #E8F0FE;\n",
              "      border: none;\n",
              "      border-radius: 50%;\n",
              "      cursor: pointer;\n",
              "      display: none;\n",
              "      fill: #1967D2;\n",
              "      height: 32px;\n",
              "      padding: 0 0 0 0;\n",
              "      width: 32px;\n",
              "    }\n",
              "\n",
              "    .colab-df-convert:hover {\n",
              "      background-color: #E2EBFA;\n",
              "      box-shadow: 0px 1px 2px rgba(60, 64, 67, 0.3), 0px 1px 3px 1px rgba(60, 64, 67, 0.15);\n",
              "      fill: #174EA6;\n",
              "    }\n",
              "\n",
              "    .colab-df-buttons div {\n",
              "      margin-bottom: 4px;\n",
              "    }\n",
              "\n",
              "    [theme=dark] .colab-df-convert {\n",
              "      background-color: #3B4455;\n",
              "      fill: #D2E3FC;\n",
              "    }\n",
              "\n",
              "    [theme=dark] .colab-df-convert:hover {\n",
              "      background-color: #434B5C;\n",
              "      box-shadow: 0px 1px 3px 1px rgba(0, 0, 0, 0.15);\n",
              "      filter: drop-shadow(0px 1px 2px rgba(0, 0, 0, 0.3));\n",
              "      fill: #FFFFFF;\n",
              "    }\n",
              "  </style>\n",
              "\n",
              "    <script>\n",
              "      const buttonEl =\n",
              "        document.querySelector('#df-f0eb1b01-da2b-4036-bffd-6f2a7de700d4 button.colab-df-convert');\n",
              "      buttonEl.style.display =\n",
              "        google.colab.kernel.accessAllowed ? 'block' : 'none';\n",
              "\n",
              "      async function convertToInteractive(key) {\n",
              "        const element = document.querySelector('#df-f0eb1b01-da2b-4036-bffd-6f2a7de700d4');\n",
              "        const dataTable =\n",
              "          await google.colab.kernel.invokeFunction('convertToInteractive',\n",
              "                                                    [key], {});\n",
              "        if (!dataTable) return;\n",
              "\n",
              "        const docLinkHtml = 'Like what you see? Visit the ' +\n",
              "          '<a target=\"_blank\" href=https://colab.research.google.com/notebooks/data_table.ipynb>data table notebook</a>'\n",
              "          + ' to learn more about interactive tables.';\n",
              "        element.innerHTML = '';\n",
              "        dataTable['output_type'] = 'display_data';\n",
              "        await google.colab.output.renderOutput(dataTable, element);\n",
              "        const docLink = document.createElement('div');\n",
              "        docLink.innerHTML = docLinkHtml;\n",
              "        element.appendChild(docLink);\n",
              "      }\n",
              "    </script>\n",
              "  </div>\n",
              "\n",
              "\n",
              "<div id=\"df-752b644c-cca3-411b-915f-a156db7a77c5\">\n",
              "  <button class=\"colab-df-quickchart\" onclick=\"quickchart('df-752b644c-cca3-411b-915f-a156db7a77c5')\"\n",
              "            title=\"Suggest charts\"\n",
              "            style=\"display:none;\">\n",
              "\n",
              "<svg xmlns=\"http://www.w3.org/2000/svg\" height=\"24px\"viewBox=\"0 0 24 24\"\n",
              "     width=\"24px\">\n",
              "    <g>\n",
              "        <path d=\"M19 3H5c-1.1 0-2 .9-2 2v14c0 1.1.9 2 2 2h14c1.1 0 2-.9 2-2V5c0-1.1-.9-2-2-2zM9 17H7v-7h2v7zm4 0h-2V7h2v10zm4 0h-2v-4h2v4z\"/>\n",
              "    </g>\n",
              "</svg>\n",
              "  </button>\n",
              "\n",
              "<style>\n",
              "  .colab-df-quickchart {\n",
              "      --bg-color: #E8F0FE;\n",
              "      --fill-color: #1967D2;\n",
              "      --hover-bg-color: #E2EBFA;\n",
              "      --hover-fill-color: #174EA6;\n",
              "      --disabled-fill-color: #AAA;\n",
              "      --disabled-bg-color: #DDD;\n",
              "  }\n",
              "\n",
              "  [theme=dark] .colab-df-quickchart {\n",
              "      --bg-color: #3B4455;\n",
              "      --fill-color: #D2E3FC;\n",
              "      --hover-bg-color: #434B5C;\n",
              "      --hover-fill-color: #FFFFFF;\n",
              "      --disabled-bg-color: #3B4455;\n",
              "      --disabled-fill-color: #666;\n",
              "  }\n",
              "\n",
              "  .colab-df-quickchart {\n",
              "    background-color: var(--bg-color);\n",
              "    border: none;\n",
              "    border-radius: 50%;\n",
              "    cursor: pointer;\n",
              "    display: none;\n",
              "    fill: var(--fill-color);\n",
              "    height: 32px;\n",
              "    padding: 0;\n",
              "    width: 32px;\n",
              "  }\n",
              "\n",
              "  .colab-df-quickchart:hover {\n",
              "    background-color: var(--hover-bg-color);\n",
              "    box-shadow: 0 1px 2px rgba(60, 64, 67, 0.3), 0 1px 3px 1px rgba(60, 64, 67, 0.15);\n",
              "    fill: var(--button-hover-fill-color);\n",
              "  }\n",
              "\n",
              "  .colab-df-quickchart-complete:disabled,\n",
              "  .colab-df-quickchart-complete:disabled:hover {\n",
              "    background-color: var(--disabled-bg-color);\n",
              "    fill: var(--disabled-fill-color);\n",
              "    box-shadow: none;\n",
              "  }\n",
              "\n",
              "  .colab-df-spinner {\n",
              "    border: 2px solid var(--fill-color);\n",
              "    border-color: transparent;\n",
              "    border-bottom-color: var(--fill-color);\n",
              "    animation:\n",
              "      spin 1s steps(1) infinite;\n",
              "  }\n",
              "\n",
              "  @keyframes spin {\n",
              "    0% {\n",
              "      border-color: transparent;\n",
              "      border-bottom-color: var(--fill-color);\n",
              "      border-left-color: var(--fill-color);\n",
              "    }\n",
              "    20% {\n",
              "      border-color: transparent;\n",
              "      border-left-color: var(--fill-color);\n",
              "      border-top-color: var(--fill-color);\n",
              "    }\n",
              "    30% {\n",
              "      border-color: transparent;\n",
              "      border-left-color: var(--fill-color);\n",
              "      border-top-color: var(--fill-color);\n",
              "      border-right-color: var(--fill-color);\n",
              "    }\n",
              "    40% {\n",
              "      border-color: transparent;\n",
              "      border-right-color: var(--fill-color);\n",
              "      border-top-color: var(--fill-color);\n",
              "    }\n",
              "    60% {\n",
              "      border-color: transparent;\n",
              "      border-right-color: var(--fill-color);\n",
              "    }\n",
              "    80% {\n",
              "      border-color: transparent;\n",
              "      border-right-color: var(--fill-color);\n",
              "      border-bottom-color: var(--fill-color);\n",
              "    }\n",
              "    90% {\n",
              "      border-color: transparent;\n",
              "      border-bottom-color: var(--fill-color);\n",
              "    }\n",
              "  }\n",
              "</style>\n",
              "\n",
              "  <script>\n",
              "    async function quickchart(key) {\n",
              "      const quickchartButtonEl =\n",
              "        document.querySelector('#' + key + ' button');\n",
              "      quickchartButtonEl.disabled = true;  // To prevent multiple clicks.\n",
              "      quickchartButtonEl.classList.add('colab-df-spinner');\n",
              "      try {\n",
              "        const charts = await google.colab.kernel.invokeFunction(\n",
              "            'suggestCharts', [key], {});\n",
              "      } catch (error) {\n",
              "        console.error('Error during call to suggestCharts:', error);\n",
              "      }\n",
              "      quickchartButtonEl.classList.remove('colab-df-spinner');\n",
              "      quickchartButtonEl.classList.add('colab-df-quickchart-complete');\n",
              "    }\n",
              "    (() => {\n",
              "      let quickchartButtonEl =\n",
              "        document.querySelector('#df-752b644c-cca3-411b-915f-a156db7a77c5 button');\n",
              "      quickchartButtonEl.style.display =\n",
              "        google.colab.kernel.accessAllowed ? 'block' : 'none';\n",
              "    })();\n",
              "  </script>\n",
              "</div>\n",
              "    </div>\n",
              "  </div>\n"
            ]
          },
          "metadata": {},
          "execution_count": 69
        }
      ],
      "source": [
        "data3 = data_encod\n",
        "data3['Effectiveness'] = data_num.values\n",
        "data3['Reviews_Rank'] = data2.Reviews_Rank\n",
        "data3['UsefulCount_boxcox'] = data_Usefulcount1\n",
        "data3['EaseofUse_boxcox'] = data_EaseofUse1\n",
        "data3"
      ]
    },
    {
      "cell_type": "markdown",
      "id": "d8e7dc36",
      "metadata": {
        "papermill": {
          "duration": 0.041004,
          "end_time": "2023-05-09T03:22:28.351657",
          "exception": false,
          "start_time": "2023-05-09T03:22:28.310653",
          "status": "completed"
        },
        "tags": [],
        "id": "d8e7dc36"
      },
      "source": [
        "# data3 froms our final dataset"
      ]
    },
    {
      "cell_type": "code",
      "execution_count": null,
      "id": "878018fd",
      "metadata": {
        "execution": {
          "iopub.execute_input": "2023-05-09T03:22:28.437180Z",
          "iopub.status.busy": "2023-05-09T03:22:28.436458Z",
          "iopub.status.idle": "2023-05-09T03:22:28.447772Z",
          "shell.execute_reply": "2023-05-09T03:22:28.446521Z"
        },
        "papermill": {
          "duration": 0.056974,
          "end_time": "2023-05-09T03:22:28.450435",
          "exception": false,
          "start_time": "2023-05-09T03:22:28.393461",
          "status": "completed"
        },
        "tags": [],
        "colab": {
          "base_uri": "https://localhost:8080/",
          "height": 423
        },
        "id": "878018fd",
        "outputId": "45e48be4-2a77-4dbb-c7bd-59393b3f4c0c"
      },
      "outputs": [
        {
          "output_type": "execute_result",
          "data": {
            "text/plain": [
              "       Sideeffect\n",
              "9203            2\n",
              "9209            2\n",
              "9215            1\n",
              "9221            4\n",
              "9227            5\n",
              "...           ...\n",
              "18981           5\n",
              "18982           5\n",
              "18984           2\n",
              "18985           5\n",
              "18990           5\n",
              "\n",
              "[6526 rows x 1 columns]"
            ],
            "text/html": [
              "\n",
              "  <div id=\"df-909afdf3-499e-4fe9-b9c8-f24aa13bf2c0\" class=\"colab-df-container\">\n",
              "    <div>\n",
              "<style scoped>\n",
              "    .dataframe tbody tr th:only-of-type {\n",
              "        vertical-align: middle;\n",
              "    }\n",
              "\n",
              "    .dataframe tbody tr th {\n",
              "        vertical-align: top;\n",
              "    }\n",
              "\n",
              "    .dataframe thead th {\n",
              "        text-align: right;\n",
              "    }\n",
              "</style>\n",
              "<table border=\"1\" class=\"dataframe\">\n",
              "  <thead>\n",
              "    <tr style=\"text-align: right;\">\n",
              "      <th></th>\n",
              "      <th>Sideeffect</th>\n",
              "    </tr>\n",
              "  </thead>\n",
              "  <tbody>\n",
              "    <tr>\n",
              "      <th>9203</th>\n",
              "      <td>2</td>\n",
              "    </tr>\n",
              "    <tr>\n",
              "      <th>9209</th>\n",
              "      <td>2</td>\n",
              "    </tr>\n",
              "    <tr>\n",
              "      <th>9215</th>\n",
              "      <td>1</td>\n",
              "    </tr>\n",
              "    <tr>\n",
              "      <th>9221</th>\n",
              "      <td>4</td>\n",
              "    </tr>\n",
              "    <tr>\n",
              "      <th>9227</th>\n",
              "      <td>5</td>\n",
              "    </tr>\n",
              "    <tr>\n",
              "      <th>...</th>\n",
              "      <td>...</td>\n",
              "    </tr>\n",
              "    <tr>\n",
              "      <th>18981</th>\n",
              "      <td>5</td>\n",
              "    </tr>\n",
              "    <tr>\n",
              "      <th>18982</th>\n",
              "      <td>5</td>\n",
              "    </tr>\n",
              "    <tr>\n",
              "      <th>18984</th>\n",
              "      <td>2</td>\n",
              "    </tr>\n",
              "    <tr>\n",
              "      <th>18985</th>\n",
              "      <td>5</td>\n",
              "    </tr>\n",
              "    <tr>\n",
              "      <th>18990</th>\n",
              "      <td>5</td>\n",
              "    </tr>\n",
              "  </tbody>\n",
              "</table>\n",
              "<p>6526 rows × 1 columns</p>\n",
              "</div>\n",
              "    <div class=\"colab-df-buttons\">\n",
              "\n",
              "  <div class=\"colab-df-container\">\n",
              "    <button class=\"colab-df-convert\" onclick=\"convertToInteractive('df-909afdf3-499e-4fe9-b9c8-f24aa13bf2c0')\"\n",
              "            title=\"Convert this dataframe to an interactive table.\"\n",
              "            style=\"display:none;\">\n",
              "\n",
              "  <svg xmlns=\"http://www.w3.org/2000/svg\" height=\"24px\" viewBox=\"0 -960 960 960\">\n",
              "    <path d=\"M120-120v-720h720v720H120Zm60-500h600v-160H180v160Zm220 220h160v-160H400v160Zm0 220h160v-160H400v160ZM180-400h160v-160H180v160Zm440 0h160v-160H620v160ZM180-180h160v-160H180v160Zm440 0h160v-160H620v160Z\"/>\n",
              "  </svg>\n",
              "    </button>\n",
              "\n",
              "  <style>\n",
              "    .colab-df-container {\n",
              "      display:flex;\n",
              "      gap: 12px;\n",
              "    }\n",
              "\n",
              "    .colab-df-convert {\n",
              "      background-color: #E8F0FE;\n",
              "      border: none;\n",
              "      border-radius: 50%;\n",
              "      cursor: pointer;\n",
              "      display: none;\n",
              "      fill: #1967D2;\n",
              "      height: 32px;\n",
              "      padding: 0 0 0 0;\n",
              "      width: 32px;\n",
              "    }\n",
              "\n",
              "    .colab-df-convert:hover {\n",
              "      background-color: #E2EBFA;\n",
              "      box-shadow: 0px 1px 2px rgba(60, 64, 67, 0.3), 0px 1px 3px 1px rgba(60, 64, 67, 0.15);\n",
              "      fill: #174EA6;\n",
              "    }\n",
              "\n",
              "    .colab-df-buttons div {\n",
              "      margin-bottom: 4px;\n",
              "    }\n",
              "\n",
              "    [theme=dark] .colab-df-convert {\n",
              "      background-color: #3B4455;\n",
              "      fill: #D2E3FC;\n",
              "    }\n",
              "\n",
              "    [theme=dark] .colab-df-convert:hover {\n",
              "      background-color: #434B5C;\n",
              "      box-shadow: 0px 1px 3px 1px rgba(0, 0, 0, 0.15);\n",
              "      filter: drop-shadow(0px 1px 2px rgba(0, 0, 0, 0.3));\n",
              "      fill: #FFFFFF;\n",
              "    }\n",
              "  </style>\n",
              "\n",
              "    <script>\n",
              "      const buttonEl =\n",
              "        document.querySelector('#df-909afdf3-499e-4fe9-b9c8-f24aa13bf2c0 button.colab-df-convert');\n",
              "      buttonEl.style.display =\n",
              "        google.colab.kernel.accessAllowed ? 'block' : 'none';\n",
              "\n",
              "      async function convertToInteractive(key) {\n",
              "        const element = document.querySelector('#df-909afdf3-499e-4fe9-b9c8-f24aa13bf2c0');\n",
              "        const dataTable =\n",
              "          await google.colab.kernel.invokeFunction('convertToInteractive',\n",
              "                                                    [key], {});\n",
              "        if (!dataTable) return;\n",
              "\n",
              "        const docLinkHtml = 'Like what you see? Visit the ' +\n",
              "          '<a target=\"_blank\" href=https://colab.research.google.com/notebooks/data_table.ipynb>data table notebook</a>'\n",
              "          + ' to learn more about interactive tables.';\n",
              "        element.innerHTML = '';\n",
              "        dataTable['output_type'] = 'display_data';\n",
              "        await google.colab.output.renderOutput(dataTable, element);\n",
              "        const docLink = document.createElement('div');\n",
              "        docLink.innerHTML = docLinkHtml;\n",
              "        element.appendChild(docLink);\n",
              "      }\n",
              "    </script>\n",
              "  </div>\n",
              "\n",
              "\n",
              "<div id=\"df-dd870afc-0287-4ed1-a474-0e7e30e41acb\">\n",
              "  <button class=\"colab-df-quickchart\" onclick=\"quickchart('df-dd870afc-0287-4ed1-a474-0e7e30e41acb')\"\n",
              "            title=\"Suggest charts\"\n",
              "            style=\"display:none;\">\n",
              "\n",
              "<svg xmlns=\"http://www.w3.org/2000/svg\" height=\"24px\"viewBox=\"0 0 24 24\"\n",
              "     width=\"24px\">\n",
              "    <g>\n",
              "        <path d=\"M19 3H5c-1.1 0-2 .9-2 2v14c0 1.1.9 2 2 2h14c1.1 0 2-.9 2-2V5c0-1.1-.9-2-2-2zM9 17H7v-7h2v7zm4 0h-2V7h2v10zm4 0h-2v-4h2v4z\"/>\n",
              "    </g>\n",
              "</svg>\n",
              "  </button>\n",
              "\n",
              "<style>\n",
              "  .colab-df-quickchart {\n",
              "      --bg-color: #E8F0FE;\n",
              "      --fill-color: #1967D2;\n",
              "      --hover-bg-color: #E2EBFA;\n",
              "      --hover-fill-color: #174EA6;\n",
              "      --disabled-fill-color: #AAA;\n",
              "      --disabled-bg-color: #DDD;\n",
              "  }\n",
              "\n",
              "  [theme=dark] .colab-df-quickchart {\n",
              "      --bg-color: #3B4455;\n",
              "      --fill-color: #D2E3FC;\n",
              "      --hover-bg-color: #434B5C;\n",
              "      --hover-fill-color: #FFFFFF;\n",
              "      --disabled-bg-color: #3B4455;\n",
              "      --disabled-fill-color: #666;\n",
              "  }\n",
              "\n",
              "  .colab-df-quickchart {\n",
              "    background-color: var(--bg-color);\n",
              "    border: none;\n",
              "    border-radius: 50%;\n",
              "    cursor: pointer;\n",
              "    display: none;\n",
              "    fill: var(--fill-color);\n",
              "    height: 32px;\n",
              "    padding: 0;\n",
              "    width: 32px;\n",
              "  }\n",
              "\n",
              "  .colab-df-quickchart:hover {\n",
              "    background-color: var(--hover-bg-color);\n",
              "    box-shadow: 0 1px 2px rgba(60, 64, 67, 0.3), 0 1px 3px 1px rgba(60, 64, 67, 0.15);\n",
              "    fill: var(--button-hover-fill-color);\n",
              "  }\n",
              "\n",
              "  .colab-df-quickchart-complete:disabled,\n",
              "  .colab-df-quickchart-complete:disabled:hover {\n",
              "    background-color: var(--disabled-bg-color);\n",
              "    fill: var(--disabled-fill-color);\n",
              "    box-shadow: none;\n",
              "  }\n",
              "\n",
              "  .colab-df-spinner {\n",
              "    border: 2px solid var(--fill-color);\n",
              "    border-color: transparent;\n",
              "    border-bottom-color: var(--fill-color);\n",
              "    animation:\n",
              "      spin 1s steps(1) infinite;\n",
              "  }\n",
              "\n",
              "  @keyframes spin {\n",
              "    0% {\n",
              "      border-color: transparent;\n",
              "      border-bottom-color: var(--fill-color);\n",
              "      border-left-color: var(--fill-color);\n",
              "    }\n",
              "    20% {\n",
              "      border-color: transparent;\n",
              "      border-left-color: var(--fill-color);\n",
              "      border-top-color: var(--fill-color);\n",
              "    }\n",
              "    30% {\n",
              "      border-color: transparent;\n",
              "      border-left-color: var(--fill-color);\n",
              "      border-top-color: var(--fill-color);\n",
              "      border-right-color: var(--fill-color);\n",
              "    }\n",
              "    40% {\n",
              "      border-color: transparent;\n",
              "      border-right-color: var(--fill-color);\n",
              "      border-top-color: var(--fill-color);\n",
              "    }\n",
              "    60% {\n",
              "      border-color: transparent;\n",
              "      border-right-color: var(--fill-color);\n",
              "    }\n",
              "    80% {\n",
              "      border-color: transparent;\n",
              "      border-right-color: var(--fill-color);\n",
              "      border-bottom-color: var(--fill-color);\n",
              "    }\n",
              "    90% {\n",
              "      border-color: transparent;\n",
              "      border-bottom-color: var(--fill-color);\n",
              "    }\n",
              "  }\n",
              "</style>\n",
              "\n",
              "  <script>\n",
              "    async function quickchart(key) {\n",
              "      const quickchartButtonEl =\n",
              "        document.querySelector('#' + key + ' button');\n",
              "      quickchartButtonEl.disabled = true;  // To prevent multiple clicks.\n",
              "      quickchartButtonEl.classList.add('colab-df-spinner');\n",
              "      try {\n",
              "        const charts = await google.colab.kernel.invokeFunction(\n",
              "            'suggestCharts', [key], {});\n",
              "      } catch (error) {\n",
              "        console.error('Error during call to suggestCharts:', error);\n",
              "      }\n",
              "      quickchartButtonEl.classList.remove('colab-df-spinner');\n",
              "      quickchartButtonEl.classList.add('colab-df-quickchart-complete');\n",
              "    }\n",
              "    (() => {\n",
              "      let quickchartButtonEl =\n",
              "        document.querySelector('#df-dd870afc-0287-4ed1-a474-0e7e30e41acb button');\n",
              "      quickchartButtonEl.style.display =\n",
              "        google.colab.kernel.accessAllowed ? 'block' : 'none';\n",
              "    })();\n",
              "  </script>\n",
              "</div>\n",
              "    </div>\n",
              "  </div>\n"
            ]
          },
          "metadata": {},
          "execution_count": 70
        }
      ],
      "source": [
        "data4 = pd.DataFrame(data2['Sideeffect'])\n",
        "data4"
      ]
    },
    {
      "cell_type": "markdown",
      "id": "d6d244d2",
      "metadata": {
        "papermill": {
          "duration": 0.041599,
          "end_time": "2023-05-09T03:22:28.535079",
          "exception": false,
          "start_time": "2023-05-09T03:22:28.493480",
          "status": "completed"
        },
        "tags": [],
        "id": "d6d244d2"
      },
      "source": [
        "# data4 forms target"
      ]
    },
    {
      "cell_type": "code",
      "execution_count": null,
      "id": "2bcac919",
      "metadata": {
        "execution": {
          "iopub.execute_input": "2023-05-09T03:22:28.623247Z",
          "iopub.status.busy": "2023-05-09T03:22:28.622498Z",
          "iopub.status.idle": "2023-05-09T03:22:29.010886Z",
          "shell.execute_reply": "2023-05-09T03:22:29.009510Z"
        },
        "papermill": {
          "duration": 0.436401,
          "end_time": "2023-05-09T03:22:29.013400",
          "exception": false,
          "start_time": "2023-05-09T03:22:28.576999",
          "status": "completed"
        },
        "tags": [],
        "id": "2bcac919"
      },
      "outputs": [],
      "source": [
        "from sklearn.model_selection import train_test_split\n",
        "X_train, X_test, Y_train, Y_test = train_test_split(data3,data4,test_size=0.25, random_state = 42, stratify=data4)"
      ]
    },
    {
      "cell_type": "markdown",
      "id": "84aa93c7",
      "metadata": {
        "papermill": {
          "duration": 0.041372,
          "end_time": "2023-05-09T03:22:29.096833",
          "exception": false,
          "start_time": "2023-05-09T03:22:29.055461",
          "status": "completed"
        },
        "tags": [],
        "id": "84aa93c7"
      },
      "source": [
        "# Log Regression"
      ]
    },
    {
      "cell_type": "code",
      "execution_count": null,
      "id": "0566352c",
      "metadata": {
        "execution": {
          "iopub.execute_input": "2023-05-09T03:22:29.181718Z",
          "iopub.status.busy": "2023-05-09T03:22:29.181030Z",
          "iopub.status.idle": "2023-05-09T03:22:29.573640Z",
          "shell.execute_reply": "2023-05-09T03:22:29.571956Z"
        },
        "papermill": {
          "duration": 0.440211,
          "end_time": "2023-05-09T03:22:29.578132",
          "exception": false,
          "start_time": "2023-05-09T03:22:29.137921",
          "status": "completed"
        },
        "tags": [],
        "colab": {
          "base_uri": "https://localhost:8080/"
        },
        "id": "0566352c",
        "outputId": "fa3d66e6-389e-4ada-923d-50186c7ae463"
      },
      "outputs": [
        {
          "output_type": "stream",
          "name": "stdout",
          "text": [
            "[[240  35   1   0   0]\n",
            " [ 50 140  12   0   0]\n",
            " [ 15  51  82  14  97]\n",
            " [  0   0  33  12 165]\n",
            " [  0   0  34  29 622]]\n",
            "0.6715686274509803\n",
            "              precision    recall  f1-score   support\n",
            "\n",
            "           1       0.79      0.87      0.83       276\n",
            "           2       0.62      0.69      0.65       202\n",
            "           3       0.51      0.32      0.39       259\n",
            "           4       0.22      0.06      0.09       210\n",
            "           5       0.70      0.91      0.79       685\n",
            "\n",
            "    accuracy                           0.67      1632\n",
            "   macro avg       0.57      0.57      0.55      1632\n",
            "weighted avg       0.61      0.67      0.63      1632\n",
            "\n"
          ]
        }
      ],
      "source": [
        "#log regression\n",
        "from sklearn.linear_model import LogisticRegression\n",
        "log_reg=LogisticRegression()\n",
        "# solver='lbfgs',max_iter=10000\n",
        "model1 = log_reg.fit(X_train,Y_train)\n",
        "Y_pred_logreg = model1.predict(X_test)\n",
        "\n",
        "#metrics\n",
        "from sklearn.metrics import confusion_matrix, precision_score, recall_score, f1_score, accuracy_score\n",
        "print(confusion_matrix(Y_test,Y_pred_logreg))\n",
        "print(accuracy_score(Y_test,Y_pred_logreg))\n",
        "\n",
        "#CLassification Report\n",
        "from sklearn.metrics import classification_report\n",
        "report = classification_report(Y_test,Y_pred_logreg)\n",
        "print(report)"
      ]
    },
    {
      "cell_type": "markdown",
      "id": "2e15ffad",
      "metadata": {
        "papermill": {
          "duration": 0.041341,
          "end_time": "2023-05-09T03:22:29.705609",
          "exception": false,
          "start_time": "2023-05-09T03:22:29.664268",
          "status": "completed"
        },
        "tags": [],
        "id": "2e15ffad"
      },
      "source": [
        "# SVM Polynomial"
      ]
    },
    {
      "cell_type": "code",
      "execution_count": null,
      "id": "6df8ae5a",
      "metadata": {
        "execution": {
          "iopub.execute_input": "2023-05-09T03:22:29.793020Z",
          "iopub.status.busy": "2023-05-09T03:22:29.792602Z",
          "iopub.status.idle": "2023-05-09T03:22:35.538510Z",
          "shell.execute_reply": "2023-05-09T03:22:35.537148Z"
        },
        "papermill": {
          "duration": 5.793754,
          "end_time": "2023-05-09T03:22:35.540891",
          "exception": false,
          "start_time": "2023-05-09T03:22:29.747137",
          "status": "completed"
        },
        "tags": [],
        "colab": {
          "base_uri": "https://localhost:8080/"
        },
        "id": "6df8ae5a",
        "outputId": "46a14030-4ec2-4641-9ae5-ed07be5f9509"
      },
      "outputs": [
        {
          "output_type": "stream",
          "name": "stdout",
          "text": [
            "[[236  37   3   0   0]\n",
            " [ 30 156  16   0   0]\n",
            " [ 12  32 128   4  83]\n",
            " [  0   0  24  46 140]\n",
            " [  0   0  21   8 656]]\n",
            "0.7487745098039216\n",
            "              precision    recall  f1-score   support\n",
            "\n",
            "           1       0.85      0.86      0.85       276\n",
            "           2       0.69      0.77      0.73       202\n",
            "           3       0.67      0.49      0.57       259\n",
            "           4       0.79      0.22      0.34       210\n",
            "           5       0.75      0.96      0.84       685\n",
            "\n",
            "    accuracy                           0.75      1632\n",
            "   macro avg       0.75      0.66      0.67      1632\n",
            "weighted avg       0.75      0.75      0.72      1632\n",
            "\n"
          ]
        }
      ],
      "source": [
        "#SVM polynomial\n",
        "from sklearn.svm import SVC\n",
        "svm_clf_p = SVC(kernel='poly', degree = 4, probability=True)\n",
        "svm_model = svm_clf_p.fit(X_train, Y_train)\n",
        "y_pred_svmp = svm_clf_p.predict(X_test)\n",
        "# metrics\n",
        "print(confusion_matrix(Y_test, y_pred_svmp))\n",
        "print(accuracy_score(Y_test, y_pred_svmp))\n",
        "\n",
        "#CLassification Report\n",
        "from sklearn.metrics import classification_report\n",
        "report = classification_report(Y_test,y_pred_svmp)\n",
        "print(report)"
      ]
    },
    {
      "cell_type": "markdown",
      "id": "38a884f3",
      "metadata": {
        "papermill": {
          "duration": 0.043201,
          "end_time": "2023-05-09T03:22:35.627678",
          "exception": false,
          "start_time": "2023-05-09T03:22:35.584477",
          "status": "completed"
        },
        "tags": [],
        "id": "38a884f3"
      },
      "source": [
        "# SVM RBF"
      ]
    },
    {
      "cell_type": "code",
      "execution_count": null,
      "id": "1e26eba2",
      "metadata": {
        "execution": {
          "iopub.execute_input": "2023-05-09T03:22:35.719028Z",
          "iopub.status.busy": "2023-05-09T03:22:35.718624Z",
          "iopub.status.idle": "2023-05-09T03:22:41.976919Z",
          "shell.execute_reply": "2023-05-09T03:22:41.975519Z"
        },
        "papermill": {
          "duration": 6.306699,
          "end_time": "2023-05-09T03:22:41.979704",
          "exception": false,
          "start_time": "2023-05-09T03:22:35.673005",
          "status": "completed"
        },
        "tags": [],
        "colab": {
          "base_uri": "https://localhost:8080/"
        },
        "id": "1e26eba2",
        "outputId": "d7d1edbf-c714-4bd5-c578-a423ec8cb9e8"
      },
      "outputs": [
        {
          "output_type": "stream",
          "name": "stdout",
          "text": [
            "[[235  40   1   0   0]\n",
            " [ 35 159   8   0   0]\n",
            " [ 15  47  97   8  92]\n",
            " [  0   0  31  24 155]\n",
            " [  0   0  22  10 653]]\n",
            "0.7156862745098039\n",
            "              precision    recall  f1-score   support\n",
            "\n",
            "           1       0.82      0.85      0.84       276\n",
            "           2       0.65      0.79      0.71       202\n",
            "           3       0.61      0.37      0.46       259\n",
            "           4       0.57      0.11      0.19       210\n",
            "           5       0.73      0.95      0.82       685\n",
            "\n",
            "    accuracy                           0.72      1632\n",
            "   macro avg       0.68      0.62      0.61      1632\n",
            "weighted avg       0.69      0.72      0.67      1632\n",
            "\n"
          ]
        }
      ],
      "source": [
        "#svm rbf\n",
        "from sklearn.svm import SVC\n",
        "svm_clf_r = SVC(kernel='rbf', degree = 4, probability=True)\n",
        "svm_model = svm_clf_r.fit(X_train, Y_train)\n",
        "y_pred_svmr = svm_clf_r.predict(X_test)\n",
        "# metrics\n",
        "print(confusion_matrix(Y_test, y_pred_svmr))\n",
        "print(accuracy_score(Y_test, y_pred_svmr))\n",
        "\n",
        "#CLassification Report\n",
        "from sklearn.metrics import classification_report\n",
        "report = classification_report(Y_test,y_pred_svmr)\n",
        "print(report)\n"
      ]
    },
    {
      "cell_type": "code",
      "source": [
        "print(\"X_test shape:\", X_test.shape)\n",
        "print(\"Y_test shape:\", Y_test.shape)\n"
      ],
      "metadata": {
        "colab": {
          "base_uri": "https://localhost:8080/"
        },
        "id": "faCPuO5P4uMh",
        "outputId": "1acff531-c8bc-46c3-d5f4-d845fa070010"
      },
      "id": "faCPuO5P4uMh",
      "execution_count": null,
      "outputs": [
        {
          "output_type": "stream",
          "name": "stdout",
          "text": [
            "X_test shape: (1632, 38)\n",
            "Y_test shape: (1632, 1)\n"
          ]
        }
      ]
    },
    {
      "cell_type": "code",
      "source": [
        "print(\"Type of Y_train:\", type(Y_train))\n",
        "print(\"Number of dimensions in Y_train:\", np.ndim(Y_train))\n",
        "Y_train_flat = np.ravel(Y_train)\n",
        "print(\"Class distribution in Y_train:\", np.bincount(Y_train_flat))\n",
        "\n",
        "\n"
      ],
      "metadata": {
        "colab": {
          "base_uri": "https://localhost:8080/"
        },
        "id": "10edGdzq4xH2",
        "outputId": "149752f0-1db2-4189-8a2e-63b36d4e33df"
      },
      "id": "10edGdzq4xH2",
      "execution_count": null,
      "outputs": [
        {
          "output_type": "stream",
          "name": "stdout",
          "text": [
            "Type of Y_train: <class 'pandas.core.frame.DataFrame'>\n",
            "Number of dimensions in Y_train: 2\n",
            "Class distribution in Y_train: [   0  828  606  775  632 2053]\n"
          ]
        }
      ]
    },
    {
      "cell_type": "code",
      "source": [
        "class_distribution_values = np.bincount(Y_train_flat)[1:]  # Exclude the zero at the beginning\n",
        "print(\"Class distribution values:\", class_distribution_values)\n"
      ],
      "metadata": {
        "colab": {
          "base_uri": "https://localhost:8080/"
        },
        "id": "3hfwk_k85n0M",
        "outputId": "65642bc7-8a4a-42f5-e60c-03c6f2c63c33"
      },
      "id": "3hfwk_k85n0M",
      "execution_count": null,
      "outputs": [
        {
          "output_type": "stream",
          "name": "stdout",
          "text": [
            "Class distribution values: [ 828  606  775  632 2053]\n"
          ]
        }
      ]
    },
    {
      "cell_type": "markdown",
      "id": "cda7f51b",
      "metadata": {
        "papermill": {
          "duration": 0.040584,
          "end_time": "2023-05-09T03:22:42.060988",
          "exception": false,
          "start_time": "2023-05-09T03:22:42.020404",
          "status": "completed"
        },
        "tags": [],
        "id": "cda7f51b"
      },
      "source": [
        "# kNN"
      ]
    },
    {
      "cell_type": "code",
      "execution_count": null,
      "id": "4ae51131",
      "metadata": {
        "execution": {
          "iopub.execute_input": "2023-05-09T03:22:42.145068Z",
          "iopub.status.busy": "2023-05-09T03:22:42.144227Z",
          "iopub.status.idle": "2023-05-09T03:22:44.381660Z",
          "shell.execute_reply": "2023-05-09T03:22:44.380403Z"
        },
        "papermill": {
          "duration": 2.282325,
          "end_time": "2023-05-09T03:22:44.384054",
          "exception": false,
          "start_time": "2023-05-09T03:22:42.101729",
          "status": "completed"
        },
        "tags": [],
        "colab": {
          "base_uri": "https://localhost:8080/",
          "height": 1000
        },
        "id": "4ae51131",
        "outputId": "5030a3bc-2a07-48a9-9782-0bff8d9dbb78"
      },
      "outputs": [
        {
          "output_type": "stream",
          "name": "stdout",
          "text": [
            "Fitting model with k=3\n",
            "Predicting on test data\n",
            "Accuracy for k=3: 0.47549019607843135\n",
            "Fitting model with k=4\n",
            "Predicting on test data\n",
            "Accuracy for k=4: 0.4834558823529412\n",
            "Fitting model with k=5\n",
            "Predicting on test data\n",
            "Accuracy for k=5: 0.5263480392156863\n",
            "Fitting model with k=6\n",
            "Predicting on test data\n",
            "Accuracy for k=6: 0.5428921568627451\n",
            "Fitting model with k=7\n",
            "Predicting on test data\n",
            "Accuracy for k=7: 0.5428921568627451\n",
            "Fitting model with k=8\n",
            "Predicting on test data\n",
            "Accuracy for k=8: 0.5618872549019608\n",
            "Fitting model with k=9\n",
            "Predicting on test data\n",
            "Accuracy for k=9: 0.5643382352941176\n",
            "Fitting model with k=10\n",
            "Predicting on test data\n",
            "Accuracy for k=10: 0.5637254901960784\n",
            "Fitting model with k=11\n",
            "Predicting on test data\n",
            "Accuracy for k=11: 0.5692401960784313\n",
            "Fitting model with k=12\n",
            "Predicting on test data\n",
            "Accuracy for k=12: 0.5784313725490197\n",
            "Fitting model with k=13\n",
            "Predicting on test data\n",
            "Accuracy for k=13: 0.5955882352941176\n",
            "Fitting model with k=14\n",
            "Predicting on test data\n",
            "Accuracy for k=14: 0.5778186274509803\n"
          ]
        },
        {
          "output_type": "display_data",
          "data": {
            "text/plain": [
              "<Figure size 640x480 with 1 Axes>"
            ],
            "image/png": "[encoded data removed]"
          },
          "metadata": {}
        }
      ],
      "source": [
        "metric_k = []\n",
        "neighbours = np.arange(3, 15)\n",
        "\n",
        "for k in neighbours:\n",
        "    knn = KNeighborsClassifier(n_neighbors=k)\n",
        "    print(f\"Fitting model with k={k}\")\n",
        "    model_knn = knn.fit(X_train, Y_train)\n",
        "\n",
        "    print(\"Predicting on test data\")\n",
        "    Y_pred_knn = model_knn.predict(X_test)\n",
        "\n",
        "    acc = accuracy_score(Y_test, Y_pred_knn)\n",
        "    metric_k.append(acc)\n",
        "\n",
        "    print(f\"Accuracy for k={k}: {acc}\")\n",
        "\n",
        "plt.plot(neighbours,metric_k,'*-')\n",
        "plt.xlabel('k value')\n",
        "plt.ylabel('accuracy')\n",
        "plt.grid()"
      ]
    },
    {
      "cell_type": "code",
      "execution_count": null,
      "id": "bd1d8f84",
      "metadata": {
        "execution": {
          "iopub.execute_input": "2023-05-09T03:22:44.474960Z",
          "iopub.status.busy": "2023-05-09T03:22:44.474583Z",
          "iopub.status.idle": "2023-05-09T03:22:44.593106Z",
          "shell.execute_reply": "2023-05-09T03:22:44.591983Z"
        },
        "papermill": {
          "duration": 0.167001,
          "end_time": "2023-05-09T03:22:44.595700",
          "exception": false,
          "start_time": "2023-05-09T03:22:44.428699",
          "status": "completed"
        },
        "tags": [],
        "colab": {
          "base_uri": "https://localhost:8080/"
        },
        "id": "bd1d8f84",
        "outputId": "c5b9be91-6f2f-4542-9dae-9aaf582acf1f"
      },
      "outputs": [
        {
          "output_type": "stream",
          "name": "stdout",
          "text": [
            "Shape of X_test: (1632, 38)\n"
          ]
        }
      ],
      "source": [
        "print(\"Shape of X_test:\", X_test.shape)\n",
        "from sklearn.preprocessing import StandardScaler\n",
        "\n"
      ]
    },
    {
      "cell_type": "code",
      "source": [
        "from sklearn.preprocessing import StandardScaler\n",
        "\n",
        "# Instantiate the scaler\n",
        "scaler = StandardScaler()\n",
        "\n",
        "# Fit the scaler to the training data and transform it\n",
        "X_train_scaled = scaler.fit_transform(X_train)\n",
        "\n",
        "# Transform the test data using the same scaler\n",
        "X_test_scaled = scaler.transform(X_test)\n"
      ],
      "metadata": {
        "id": "615gJ6cGGI51"
      },
      "id": "615gJ6cGGI51",
      "execution_count": null,
      "outputs": []
    },
    {
      "cell_type": "markdown",
      "id": "dd8c4061",
      "metadata": {
        "papermill": {
          "duration": 0.042609,
          "end_time": "2023-05-09T03:22:44.754158",
          "exception": false,
          "start_time": "2023-05-09T03:22:44.711549",
          "status": "completed"
        },
        "tags": [],
        "id": "dd8c4061"
      },
      "source": [
        "# Decision Tree"
      ]
    },
    {
      "cell_type": "code",
      "execution_count": null,
      "id": "757b2ff1",
      "metadata": {
        "execution": {
          "iopub.execute_input": "2023-05-09T03:22:44.843495Z",
          "iopub.status.busy": "2023-05-09T03:22:44.842748Z",
          "iopub.status.idle": "2023-05-09T03:22:44.904605Z",
          "shell.execute_reply": "2023-05-09T03:22:44.903278Z"
        },
        "papermill": {
          "duration": 0.109303,
          "end_time": "2023-05-09T03:22:44.907209",
          "exception": false,
          "start_time": "2023-05-09T03:22:44.797906",
          "status": "completed"
        },
        "tags": [],
        "colab": {
          "base_uri": "https://localhost:8080/"
        },
        "id": "757b2ff1",
        "outputId": "fe565431-03c7-4c6a-c4b9-50e080131aa1"
      },
      "outputs": [
        {
          "output_type": "stream",
          "name": "stdout",
          "text": [
            "[[230  34  12   0   0]\n",
            " [ 26 157  19   0   0]\n",
            " [  7  14 200  12  26]\n",
            " [  0   0  23 148  39]\n",
            " [  0   0  29  45 611]]\n",
            "0.8247549019607843\n",
            "              precision    recall  f1-score   support\n",
            "\n",
            "           1       0.87      0.83      0.85       276\n",
            "           2       0.77      0.78      0.77       202\n",
            "           3       0.71      0.77      0.74       259\n",
            "           4       0.72      0.70      0.71       210\n",
            "           5       0.90      0.89      0.90       685\n",
            "\n",
            "    accuracy                           0.82      1632\n",
            "   macro avg       0.79      0.80      0.79      1632\n",
            "weighted avg       0.83      0.82      0.83      1632\n",
            "\n"
          ]
        }
      ],
      "source": [
        "#decision tree\n",
        "from sklearn.tree import DecisionTreeClassifier\n",
        "dtm_clf = DecisionTreeClassifier(random_state = 42)\n",
        "dtm_clf.fit(X_train, Y_train)\n",
        "y_pred_dtm = dtm_clf.predict(X_test)\n",
        "# metrics\n",
        "print(confusion_matrix(Y_test, y_pred_dtm))\n",
        "print(accuracy_score(Y_test, y_pred_dtm))\n",
        "\n",
        "#CLassification Report\n",
        "from sklearn.metrics import classification_report\n",
        "report = classification_report(Y_test,y_pred_dtm)\n",
        "print(report)"
      ]
    },
    {
      "cell_type": "markdown",
      "id": "a4a7bd65",
      "metadata": {
        "papermill": {
          "duration": 0.042092,
          "end_time": "2023-05-09T03:22:44.992352",
          "exception": false,
          "start_time": "2023-05-09T03:22:44.950260",
          "status": "completed"
        },
        "tags": [],
        "id": "a4a7bd65"
      },
      "source": [
        "# Random forest"
      ]
    },
    {
      "cell_type": "code",
      "execution_count": null,
      "id": "eeeb2b90",
      "metadata": {
        "execution": {
          "iopub.execute_input": "2023-05-09T03:22:45.078738Z",
          "iopub.status.busy": "2023-05-09T03:22:45.078373Z",
          "iopub.status.idle": "2023-05-09T03:22:45.893388Z",
          "shell.execute_reply": "2023-05-09T03:22:45.892000Z"
        },
        "papermill": {
          "duration": 0.861022,
          "end_time": "2023-05-09T03:22:45.895744",
          "exception": false,
          "start_time": "2023-05-09T03:22:45.034722",
          "status": "completed"
        },
        "tags": [],
        "colab": {
          "base_uri": "https://localhost:8080/"
        },
        "id": "eeeb2b90",
        "outputId": "4fdba2e9-ba79-43fe-ac75-070fcd43a8a9"
      },
      "outputs": [
        {
          "output_type": "stream",
          "name": "stdout",
          "text": [
            "[[253  21   2   0   0]\n",
            " [ 20 175   7   0   0]\n",
            " [ 10  22 181  11  35]\n",
            " [  0   0   9 139  62]\n",
            " [  0   0  14  14 657]]\n",
            "0.8609068627450981\n",
            "              precision    recall  f1-score   support\n",
            "\n",
            "           1       0.89      0.92      0.91       276\n",
            "           2       0.80      0.87      0.83       202\n",
            "           3       0.85      0.70      0.77       259\n",
            "           4       0.85      0.66      0.74       210\n",
            "           5       0.87      0.96      0.91       685\n",
            "\n",
            "    accuracy                           0.86      1632\n",
            "   macro avg       0.85      0.82      0.83      1632\n",
            "weighted avg       0.86      0.86      0.86      1632\n",
            "\n"
          ]
        }
      ],
      "source": [
        "#random forest model\n",
        "from sklearn.ensemble import RandomForestClassifier\n",
        "rfm_clf = RandomForestClassifier(random_state = 42)\n",
        "rfm_clf.fit(X_train, Y_train)\n",
        "y_pred_rfm = rfm_clf.predict(X_test)\n",
        "# metrics\n",
        "print(confusion_matrix(Y_test, y_pred_rfm))\n",
        "print(accuracy_score(Y_test, y_pred_rfm))\n",
        "\n",
        "\n",
        "#CLassification Report\n",
        "from sklearn.metrics import classification_report\n",
        "report = classification_report(Y_test,y_pred_rfm)\n",
        "print(report)\n"
      ]
    },
    {
      "cell_type": "markdown",
      "id": "165dd6b0",
      "metadata": {
        "papermill": {
          "duration": 0.041993,
          "end_time": "2023-05-09T03:22:45.980012",
          "exception": false,
          "start_time": "2023-05-09T03:22:45.938019",
          "status": "completed"
        },
        "tags": [],
        "id": "165dd6b0"
      },
      "source": [
        "# HyperTuning Parameters"
      ]
    },
    {
      "cell_type": "code",
      "execution_count": null,
      "id": "b0b4ec43",
      "metadata": {
        "execution": {
          "iopub.execute_input": "2023-05-09T03:22:46.066287Z",
          "iopub.status.busy": "2023-05-09T03:22:46.065903Z",
          "iopub.status.idle": "2023-05-09T03:40:42.486780Z",
          "shell.execute_reply": "2023-05-09T03:40:42.485056Z"
        },
        "papermill": {
          "duration": 1076.469803,
          "end_time": "2023-05-09T03:40:42.492123",
          "exception": false,
          "start_time": "2023-05-09T03:22:46.022320",
          "status": "completed"
        },
        "tags": [],
        "colab": {
          "base_uri": "https://localhost:8080/"
        },
        "id": "b0b4ec43",
        "outputId": "d54c6a51-ac7f-47ec-fb18-8c19a36d44bb"
      },
      "outputs": [
        {
          "output_type": "stream",
          "name": "stdout",
          "text": [
            "Fitting 3 folds for each of 2700 candidates, totalling 8100 fits\n"
          ]
        }
      ],
      "source": [
        "from sklearn.model_selection import GridSearchCV\n",
        "\n",
        "params = {'n_estimators': [1, 10, 100], 'criterion': ['gini', 'entropy'], 'min_samples_leaf' : list(range(25, 100)), 'min_samples_split': [2, 3, 4], 'max_features': ['auto','log2']}\n",
        "rfc_tuned = RandomForestClassifier()\n",
        "model_tuning_RF = GridSearchCV(rfc_tuned, param_grid=params, verbose=1, cv=3, scoring = 'recall')\n",
        "grid_rf_metrics = model_tuning_RF.fit(X_train, Y_train)"
      ]
    },
    {
      "cell_type": "code",
      "execution_count": null,
      "id": "ee820598",
      "metadata": {
        "execution": {
          "iopub.execute_input": "2023-05-09T03:40:42.588786Z",
          "iopub.status.busy": "2023-05-09T03:40:42.588304Z",
          "iopub.status.idle": "2023-05-09T03:40:42.594561Z",
          "shell.execute_reply": "2023-05-09T03:40:42.593789Z"
        },
        "papermill": {
          "duration": 0.056289,
          "end_time": "2023-05-09T03:40:42.597636",
          "exception": false,
          "start_time": "2023-05-09T03:40:42.541347",
          "status": "completed"
        },
        "tags": [],
        "colab": {
          "base_uri": "https://localhost:8080/"
        },
        "id": "ee820598",
        "outputId": "538cd941-fc7f-45ce-8e1d-a9d8ccf20339"
      },
      "outputs": [
        {
          "output_type": "stream",
          "name": "stdout",
          "text": [
            "Best: nan using {'criterion': 'gini', 'max_features': 'auto', 'min_samples_leaf': 25, 'min_samples_split': 2, 'n_estimators': 1}\n"
          ]
        }
      ],
      "source": [
        "print(\"Best: %f using %s\" % (grid_rf_metrics.best_score_, grid_rf_metrics.best_params_))"
      ]
    },
    {
      "cell_type": "code",
      "execution_count": null,
      "id": "a9f1287d",
      "metadata": {
        "execution": {
          "iopub.execute_input": "2023-05-09T03:40:42.688872Z",
          "iopub.status.busy": "2023-05-09T03:40:42.688194Z",
          "iopub.status.idle": "2023-05-09T03:40:42.717984Z",
          "shell.execute_reply": "2023-05-09T03:40:42.716885Z"
        },
        "papermill": {
          "duration": 0.077506,
          "end_time": "2023-05-09T03:40:42.720381",
          "exception": false,
          "start_time": "2023-05-09T03:40:42.642875",
          "status": "completed"
        },
        "tags": [],
        "colab": {
          "base_uri": "https://localhost:8080/"
        },
        "id": "a9f1287d",
        "outputId": "9f0e7275-9a0c-490d-864f-ee4a52a06b82"
      },
      "outputs": [
        {
          "output_type": "stream",
          "name": "stdout",
          "text": [
            "[[196  26  44   0  10]\n",
            " [ 83  46  58   0  15]\n",
            " [ 80  24  71   0  84]\n",
            " [ 29   6  34   0 141]\n",
            " [ 30   9  41   0 605]]\n",
            "0.5625\n",
            "              precision    recall  f1-score   support\n",
            "\n",
            "           1       0.47      0.71      0.56       276\n",
            "           2       0.41      0.23      0.29       202\n",
            "           3       0.29      0.27      0.28       259\n",
            "           4       0.00      0.00      0.00       210\n",
            "           5       0.71      0.88      0.79       685\n",
            "\n",
            "    accuracy                           0.56      1632\n",
            "   macro avg       0.38      0.42      0.38      1632\n",
            "weighted avg       0.47      0.56      0.51      1632\n",
            "\n"
          ]
        }
      ],
      "source": [
        "y_pred_rfm = model_tuning_RF.predict(X_test)\n",
        "# metrics\n",
        "print(confusion_matrix(Y_test, y_pred_rfm))\n",
        "print(accuracy_score(Y_test, y_pred_rfm))\n",
        "\n",
        "\n",
        "#CLassification Report\n",
        "from sklearn.metrics import classification_report\n",
        "report = classification_report(Y_test,y_pred_rfm)\n",
        "print(report)"
      ]
    },
    {
      "cell_type": "markdown",
      "id": "34b3ec3a",
      "metadata": {
        "papermill": {
          "duration": 0.043015,
          "end_time": "2023-05-09T03:40:42.806104",
          "exception": false,
          "start_time": "2023-05-09T03:40:42.763089",
          "status": "completed"
        },
        "tags": [],
        "id": "34b3ec3a"
      },
      "source": [
        "#### No best score obtained. So, let us choose 84%"
      ]
    },
    {
      "cell_type": "markdown",
      "id": "80721b39",
      "metadata": {
        "papermill": {
          "duration": 0.04272,
          "end_time": "2023-05-09T03:40:42.892263",
          "exception": false,
          "start_time": "2023-05-09T03:40:42.849543",
          "status": "completed"
        },
        "tags": [],
        "id": "80721b39"
      },
      "source": [
        "# Ridge Classifier"
      ]
    },
    {
      "cell_type": "code",
      "execution_count": null,
      "id": "cb470b37",
      "metadata": {
        "execution": {
          "iopub.execute_input": "2023-05-09T03:40:42.980787Z",
          "iopub.status.busy": "2023-05-09T03:40:42.979961Z",
          "iopub.status.idle": "2023-05-09T03:40:43.071937Z",
          "shell.execute_reply": "2023-05-09T03:40:43.070715Z"
        },
        "papermill": {
          "duration": 0.139902,
          "end_time": "2023-05-09T03:40:43.075765",
          "exception": false,
          "start_time": "2023-05-09T03:40:42.935863",
          "status": "completed"
        },
        "tags": [],
        "colab": {
          "base_uri": "https://localhost:8080/"
        },
        "id": "cb470b37",
        "outputId": "834a2d27-7ebb-453d-df57-d53b14bd29ad"
      },
      "outputs": [
        {
          "output_type": "stream",
          "name": "stdout",
          "text": [
            "[[274   2   0   0   0]\n",
            " [177  25   0   0   0]\n",
            " [ 59  39  11   8 142]\n",
            " [  0   0   8   8 194]\n",
            " [  0   0   1  17 667]]\n",
            "0.6035539215686274\n",
            "              precision    recall  f1-score   support\n",
            "\n",
            "           1       0.54      0.99      0.70       276\n",
            "           2       0.38      0.12      0.19       202\n",
            "           3       0.55      0.04      0.08       259\n",
            "           4       0.24      0.04      0.07       210\n",
            "           5       0.67      0.97      0.79       685\n",
            "\n",
            "    accuracy                           0.60      1632\n",
            "   macro avg       0.47      0.43      0.36      1632\n",
            "weighted avg       0.54      0.60      0.49      1632\n",
            "\n"
          ]
        }
      ],
      "source": [
        "from sklearn.linear_model import RidgeClassifier\n",
        "rid_clf = RidgeClassifier()\n",
        "rid_clf.fit(X_train, Y_train)\n",
        "y_pred_rid = rid_clf.predict(X_test)\n",
        "# metrics\n",
        "print(confusion_matrix(Y_test, y_pred_rid))\n",
        "print(accuracy_score(Y_test, y_pred_rid))\n",
        "\n",
        "\n",
        "#CLassification Report\n",
        "from sklearn.metrics import classification_report\n",
        "report = classification_report(Y_test,y_pred_rid)\n",
        "print(report)"
      ]
    },
    {
      "cell_type": "markdown",
      "id": "1e124374",
      "metadata": {
        "papermill": {
          "duration": 0.042782,
          "end_time": "2023-05-09T03:40:43.208692",
          "exception": false,
          "start_time": "2023-05-09T03:40:43.165910",
          "status": "completed"
        },
        "tags": [],
        "id": "1e124374"
      },
      "source": [
        "# Bagging Classifier"
      ]
    },
    {
      "cell_type": "code",
      "execution_count": null,
      "id": "4288e434",
      "metadata": {
        "execution": {
          "iopub.execute_input": "2023-05-09T03:40:43.299528Z",
          "iopub.status.busy": "2023-05-09T03:40:43.299156Z",
          "iopub.status.idle": "2023-05-09T03:40:43.529168Z",
          "shell.execute_reply": "2023-05-09T03:40:43.527920Z"
        },
        "papermill": {
          "duration": 0.278647,
          "end_time": "2023-05-09T03:40:43.531523",
          "exception": false,
          "start_time": "2023-05-09T03:40:43.252876",
          "status": "completed"
        },
        "tags": [],
        "colab": {
          "base_uri": "https://localhost:8080/"
        },
        "id": "4288e434",
        "outputId": "2d093888-3ea1-4fa6-ba97-42dc191c09c3"
      },
      "outputs": [
        {
          "output_type": "stream",
          "name": "stdout",
          "text": [
            "[[258  17   1   0   0]\n",
            " [ 27 164  11   0   0]\n",
            " [  9  30 177  21  22]\n",
            " [  0   0  16 156  38]\n",
            " [  0   0  35  33 617]]\n",
            "0.8406862745098039\n",
            "              precision    recall  f1-score   support\n",
            "\n",
            "           1       0.88      0.93      0.91       276\n",
            "           2       0.78      0.81      0.79       202\n",
            "           3       0.74      0.68      0.71       259\n",
            "           4       0.74      0.74      0.74       210\n",
            "           5       0.91      0.90      0.91       685\n",
            "\n",
            "    accuracy                           0.84      1632\n",
            "   macro avg       0.81      0.81      0.81      1632\n",
            "weighted avg       0.84      0.84      0.84      1632\n",
            "\n"
          ]
        }
      ],
      "source": [
        "from sklearn.ensemble import BaggingClassifier\n",
        "bag_clf = BaggingClassifier()\n",
        "bag_clf.fit(X_train, Y_train)\n",
        "y_pred_bag = bag_clf.predict(X_test)\n",
        "# metrics\n",
        "print(confusion_matrix(Y_test, y_pred_bag))\n",
        "print(accuracy_score(Y_test, y_pred_bag))\n",
        "\n",
        "\n",
        "#CLassification Report\n",
        "from sklearn.metrics import classification_report\n",
        "report = classification_report(Y_test,y_pred_bag)\n",
        "print(report)"
      ]
    },
    {
      "cell_type": "code",
      "execution_count": null,
      "id": "9aaa1c88",
      "metadata": {
        "execution": {
          "iopub.execute_input": "2023-05-09T03:40:43.619986Z",
          "iopub.status.busy": "2023-05-09T03:40:43.619343Z",
          "iopub.status.idle": "2023-05-09T03:40:47.262370Z",
          "shell.execute_reply": "2023-05-09T03:40:47.261113Z"
        },
        "papermill": {
          "duration": 3.690641,
          "end_time": "2023-05-09T03:40:47.264718",
          "exception": false,
          "start_time": "2023-05-09T03:40:43.574077",
          "status": "completed"
        },
        "tags": [],
        "colab": {
          "base_uri": "https://localhost:8080/"
        },
        "id": "9aaa1c88",
        "outputId": "7c3a2804-8772-4f0c-c02e-233e49d2c553"
      },
      "outputs": [
        {
          "output_type": "stream",
          "name": "stdout",
          "text": [
            "[[231  41   4   0   0]\n",
            " [ 35 152  15   0   0]\n",
            " [ 13  36 126  20  64]\n",
            " [  0   0  43  41 126]\n",
            " [  0   0  41  39 605]]\n",
            "0.7077205882352942\n",
            "              precision    recall  f1-score   support\n",
            "\n",
            "           1       0.83      0.84      0.83       276\n",
            "           2       0.66      0.75      0.71       202\n",
            "           3       0.55      0.49      0.52       259\n",
            "           4       0.41      0.20      0.26       210\n",
            "           5       0.76      0.88      0.82       685\n",
            "\n",
            "    accuracy                           0.71      1632\n",
            "   macro avg       0.64      0.63      0.63      1632\n",
            "weighted avg       0.68      0.71      0.69      1632\n",
            "\n"
          ]
        }
      ],
      "source": [
        "from sklearn.ensemble import GradientBoostingClassifier\n",
        "grd_clf = GradientBoostingClassifier()\n",
        "grd_clf.fit(X_train, Y_train)\n",
        "y_pred_grd = grd_clf.predict(X_test)\n",
        "# metrics\n",
        "print(confusion_matrix(Y_test, y_pred_grd))\n",
        "print(accuracy_score(Y_test, y_pred_grd))\n",
        "\n",
        "\n",
        "#CLassification Report\n",
        "from sklearn.metrics import classification_report\n",
        "report = classification_report(Y_test,y_pred_grd)\n",
        "print(report)"
      ]
    },
    {
      "cell_type": "markdown",
      "id": "d3a17e23",
      "metadata": {
        "papermill": {
          "duration": 0.043406,
          "end_time": "2023-05-09T03:40:47.352625",
          "exception": false,
          "start_time": "2023-05-09T03:40:47.309219",
          "status": "completed"
        },
        "tags": [],
        "id": "d3a17e23"
      },
      "source": [
        "#### Analysis Result:\n",
        "#### Accuracy Values of each algorithm:\n",
        "#### Logarithmic Regression: 67%\n",
        "#### SVM Polynomial: 74%\n",
        "#### SVM RBF: 71%\n",
        "#### Decision Tree: 81%\n",
        "#### kNN :  57%\n",
        "#### Ridge : 59%\n",
        "#### Bagging Classifier : 84%\n",
        "#### GradientBoostingClassifier :  72%\n",
        "#### Random Forest Classifier gave an accuracy of 86%. Hence, this model is selected"
      ]
    }
  ],
  "metadata": {
    "kernelspec": {
      "display_name": "Python 3",
      "language": "python",
      "name": "python3"
    },
    "language_info": {
      "codemirror_mode": {
        "name": "ipython",
        "version": 3
      },
      "file_extension": ".py",
      "mimetype": "text/x-python",
      "name": "python",
      "nbconvert_exporter": "python",
      "pygments_lexer": "ipython3",
      "version": "3.10.10"
    },
    "papermill": {
      "default_parameters": {},
      "duration": 3668.926572,
      "end_time": "2023-05-09T03:40:50.305447",
      "environment_variables": {},
      "exception": null,
      "input_path": "__notebook__.ipynb",
      "output_path": "__notebook__.ipynb",
      "parameters": {},
      "start_time": "2023-05-09T02:39:41.378875",
      "version": "2.4.0"
    },
    "colab": {
      "provenance": [],
      "include_colab_link": true
    }
  },
  "nbformat": 4,
  "nbformat_minor": 5
}